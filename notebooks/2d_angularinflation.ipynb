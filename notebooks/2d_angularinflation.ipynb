{
 "cells": [
  {
   "attachments": {},
   "cell_type": "markdown",
   "metadata": {},
   "source": [
    "# Angular Inflation with Anguelova"
   ]
  },
  {
   "cell_type": "code",
   "execution_count": 2,
   "metadata": {},
   "outputs": [],
   "source": [
    "import sympy\n",
    "import numpy as np\n",
    "from einsteinpy.symbolic import MetricTensor\n",
    "from matplotlib import pyplot as plt\n",
    "from matplotlib.colors import LogNorm\n",
    "\n",
    "#import inflatox\n",
    "import inflatox"
   ]
  },
  {
   "cell_type": "code",
   "execution_count": 3,
   "metadata": {},
   "outputs": [
    {
     "data": {
      "text/latex": [
       "$\\displaystyle \\left[\\begin{matrix}\\frac{6 \\alpha}{\\left(- \\chi^{2} - \\phi^{2} + 1\\right)^{2}} & 0\\\\0 & \\frac{6 \\alpha}{\\left(- \\chi^{2} - \\phi^{2} + 1\\right)^{2}}\\end{matrix}\\right]$"
      ],
      "text/plain": [
       "⎡      6⋅α                         ⎤\n",
       "⎢────────────────         0        ⎥\n",
       "⎢               2                  ⎥\n",
       "⎢⎛   2    2    ⎞                   ⎥\n",
       "⎢⎝- χ  - φ  + 1⎠                   ⎥\n",
       "⎢                                  ⎥\n",
       "⎢                        6⋅α       ⎥\n",
       "⎢       0          ────────────────⎥\n",
       "⎢                                 2⎥\n",
       "⎢                  ⎛   2    2    ⎞ ⎥\n",
       "⎣                  ⎝- χ  - φ  + 1⎠ ⎦"
      ]
     },
     "metadata": {},
     "output_type": "display_data"
    },
    {
     "data": {
      "image/png": "[encoded data removed]",
      "text/latex": [
       "$\\displaystyle \\frac{\\alpha \\left(\\chi^{2} m_{\\chi}^{2} + m_{\\phi}^{2} \\phi^{2}\\right)}{2}$"
      ],
      "text/plain": [
       "  ⎛ 2   2     2  2⎞\n",
       "α⋅⎝χ ⋅mᵪ  + mᵩ ⋅φ ⎠\n",
       "───────────────────\n",
       "         2         "
      ]
     },
     "metadata": {},
     "output_type": "display_data"
    }
   ],
   "source": [
    "sympy.init_printing()\n",
    "#setup the coordinates\n",
    "p, x = sympy.symbols(\"phi chi\")\n",
    "coords = [p, x]\n",
    "d = len(coords)\n",
    "\n",
    "#setup the potential\n",
    "mp, mx, a = sympy.symbols(\"m_phi m_chi alpha\")\n",
    "V = a/2 * ( (mp*p)**2 + (mx*x)**2 ).nsimplify()\n",
    "\n",
    "#setup the metric\n",
    "metric_diagonal = 6*a / (1 - p**2 - x**2)**2\n",
    "metric = [[0 for i in range(2)] for i in range(2)]\n",
    "metric[0][0] = metric_diagonal\n",
    "metric[1][1] = metric_diagonal\n",
    "metric = MetricTensor(metric, coords)\n",
    "\n",
    "#display the metric and potential\n",
    "display(metric.tensor())\n",
    "display(V)"
   ]
  },
  {
   "cell_type": "code",
   "execution_count": 4,
   "metadata": {},
   "outputs": [
    {
     "name": "stdout",
     "output_type": "stream",
     "text": [
      "Calculating orthonormal basis...\n"
     ]
    },
    {
     "data": {
      "text/latex": [
       "$\\displaystyle v=\\left[ \\frac{\\sqrt{6} m_{\\phi}^{2} \\phi \\left(6 \\alpha + \\chi^{4} + 2 \\chi^{2} \\phi^{2} - 2 \\chi^{2} + \\phi^{4} - 2 \\phi^{2} + 1\\right) \\left|{\\frac{\\chi^{2} + \\phi^{2} - 1}{6 \\alpha + \\chi^{4} + 2 \\chi^{2} \\phi^{2} - 2 \\chi^{2} + \\phi^{4} - 2 \\phi^{2} + 1}}\\right|}{6 \\sqrt{\\alpha} \\sqrt{\\chi^{2} m_{\\chi}^{4} + m_{\\phi}^{4} \\phi^{2}}}, \\  \\frac{\\sqrt{6} \\chi m_{\\chi}^{2} \\cdot \\left(6 \\alpha + \\chi^{4} + 2 \\chi^{2} \\phi^{2} - 2 \\chi^{2} + \\phi^{4} - 2 \\phi^{2} + 1\\right) \\left|{\\frac{\\chi^{2} + \\phi^{2} - 1}{6 \\alpha + \\chi^{4} + 2 \\chi^{2} \\phi^{2} - 2 \\chi^{2} + \\phi^{4} - 2 \\phi^{2} + 1}}\\right|}{6 \\sqrt{\\alpha} \\sqrt{\\chi^{2} m_{\\chi}^{4} + m_{\\phi}^{4} \\phi^{2}}}\\right]$"
      ],
      "text/plain": [
       "<IPython.core.display.Math object>"
      ]
     },
     "metadata": {},
     "output_type": "display_data"
    },
    {
     "ename": "TypeError",
     "evalue": "cannot determine truth value of Relational",
     "output_type": "error",
     "traceback": [
      "\u001b[0;31m---------------------------------------------------------------------------\u001b[0m",
      "\u001b[0;31mTypeError\u001b[0m                                 Traceback (most recent call last)",
      "Cell \u001b[0;32mIn[4], line 1\u001b[0m\n\u001b[0;32m----> 1\u001b[0m hesse \u001b[39m=\u001b[39m inflatox\u001b[39m.\u001b[39;49mSymbolicCalculation\u001b[39m.\u001b[39;49mnew(coords, metric, V)\u001b[39m.\u001b[39;49mexecute([[\u001b[39m0\u001b[39;49m,\u001b[39m1\u001b[39;49m]])\n",
      "File \u001b[0;32m~/Documents/inflatox/python/inflatox/symbolic.py:132\u001b[0m, in \u001b[0;36mSymbolicCalculation.execute\u001b[0;34m(self, basis)\u001b[0m\n\u001b[1;32m    130\u001b[0m \u001b[39m#(1b) followed by other gramm-schmidt produced vectors\u001b[39;00m\n\u001b[1;32m    131\u001b[0m \u001b[39mfor\u001b[39;00m (i, guess) \u001b[39min\u001b[39;00m \u001b[39menumerate\u001b[39m(basis):\n\u001b[0;32m--> 132\u001b[0m   w\u001b[39m.\u001b[39mappend(\u001b[39mself\u001b[39;49m\u001b[39m.\u001b[39;49mgramm_schmidt(w, guess))\n\u001b[1;32m    133\u001b[0m   display(Math(\u001b[39mf\u001b[39m\u001b[39m\"\u001b[39m\u001b[39mw_\u001b[39m\u001b[39m{\u001b[39;00mi\u001b[39m+\u001b[39m\u001b[39m1\u001b[39m\u001b[39m}\u001b[39;00m\u001b[39m=\u001b[39m\u001b[39m{\u001b[39;00msympy\u001b[39m.\u001b[39mlatex(w[\u001b[39m-\u001b[39m\u001b[39m1\u001b[39m])\u001b[39m}\u001b[39;00m\u001b[39m\"\u001b[39m))\n\u001b[1;32m    135\u001b[0m \u001b[39m#(1b) make sure the basis is orthonormal\u001b[39;00m\n",
      "File \u001b[0;32m~/Documents/inflatox/python/inflatox/symbolic.py:291\u001b[0m, in \u001b[0;36mSymbolicCalculation.gramm_schmidt\u001b[0;34m(self, current_basis, guess)\u001b[0m\n\u001b[1;32m    288\u001b[0m \u001b[39m#subtract the overlap of each current basis with the guessed vector from y\u001b[39;00m\n\u001b[1;32m    289\u001b[0m \u001b[39mfor\u001b[39;00m x \u001b[39min\u001b[39;00m current_basis:\n\u001b[1;32m    290\u001b[0m   \u001b[39m#first assert that vec is actually normalised\u001b[39;00m\n\u001b[0;32m--> 291\u001b[0m   \u001b[39massert\u001b[39;00m(sympy\u001b[39m.\u001b[39mEq(\u001b[39mself\u001b[39m\u001b[39m.\u001b[39minner_prod(x, x), \u001b[39m1\u001b[39m))\n\u001b[1;32m    292\u001b[0m   xy \u001b[39m=\u001b[39m \u001b[39mself\u001b[39m\u001b[39m.\u001b[39minner_prod(x, guess)\n\u001b[1;32m    293\u001b[0m   \u001b[39mfor\u001b[39;00m a \u001b[39min\u001b[39;00m \u001b[39mrange\u001b[39m(dim):\n",
      "File \u001b[0;32m~/Documents/inflatox/.venv/lib64/python3.11/site-packages/sympy/core/relational.py:510\u001b[0m, in \u001b[0;36mRelational.__bool__\u001b[0;34m(self)\u001b[0m\n\u001b[1;32m    509\u001b[0m \u001b[39mdef\u001b[39;00m \u001b[39m__bool__\u001b[39m(\u001b[39mself\u001b[39m):\n\u001b[0;32m--> 510\u001b[0m     \u001b[39mraise\u001b[39;00m \u001b[39mTypeError\u001b[39;00m(\u001b[39m\"\u001b[39m\u001b[39mcannot determine truth value of Relational\u001b[39m\u001b[39m\"\u001b[39m)\n",
      "\u001b[0;31mTypeError\u001b[0m: cannot determine truth value of Relational"
     ]
    }
   ],
   "source": [
    "hesse = inflatox.SymbolicCalculation.new(coords, metric, V).execute([[0,1]])"
   ]
  },
  {
   "cell_type": "code",
   "execution_count": null,
   "metadata": {},
   "outputs": [],
   "source": []
  }
 ],
 "metadata": {
  "kernelspec": {
   "display_name": ".venv",
   "language": "python",
   "name": "python3"
  },
  "language_info": {
   "codemirror_mode": {
    "name": "ipython",
    "version": 3
   },
   "file_extension": ".py",
   "mimetype": "text/x-python",
   "name": "python",
   "nbconvert_exporter": "python",
   "pygments_lexer": "ipython3",
   "version": "3.11.3"
  },
  "orig_nbformat": 4
 },
 "nbformat": 4,
 "nbformat_minor": 2
}
