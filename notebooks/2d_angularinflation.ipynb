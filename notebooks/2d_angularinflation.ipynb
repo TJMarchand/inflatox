{
 "cells": [
  {
   "attachments": {},
   "cell_type": "markdown",
   "metadata": {},
   "source": [
    "# Angular Inflation with Anguelova"
   ]
  },
  {
   "cell_type": "code",
   "execution_count": 1,
   "metadata": {},
   "outputs": [],
   "source": [
    "import sympy\n",
    "import numpy as np\n",
    "from einsteinpy.symbolic import MetricTensor\n",
    "from matplotlib import pyplot as plt\n",
    "from matplotlib.colors import LogNorm\n",
    "\n",
    "#import inflatox\n",
    "import inflatox"
   ]
  },
  {
   "cell_type": "code",
   "execution_count": 2,
   "metadata": {},
   "outputs": [
    {
     "data": {
      "text/latex": [
       "$\\displaystyle \\left[\\begin{matrix}\\frac{6 \\alpha}{\\left(- \\chi^{2} - \\phi^{2} + 1\\right)^{2}} & 0\\\\0 & \\frac{6 \\alpha}{\\left(- \\chi^{2} - \\phi^{2} + 1\\right)^{2}}\\end{matrix}\\right]$"
      ],
      "text/plain": [
       "⎡      6⋅α                         ⎤\n",
       "⎢────────────────         0        ⎥\n",
       "⎢               2                  ⎥\n",
       "⎢⎛   2    2    ⎞                   ⎥\n",
       "⎢⎝- χ  - φ  + 1⎠                   ⎥\n",
       "⎢                                  ⎥\n",
       "⎢                        6⋅α       ⎥\n",
       "⎢       0          ────────────────⎥\n",
       "⎢                                 2⎥\n",
       "⎢                  ⎛   2    2    ⎞ ⎥\n",
       "⎣                  ⎝- χ  - φ  + 1⎠ ⎦"
      ]
     },
     "metadata": {},
     "output_type": "display_data"
    },
    {
     "data": {
      "image/png": "[encoded data removed]",
      "text/latex": [
       "$\\displaystyle \\frac{\\alpha \\left(\\chi^{2} m_{\\chi}^{2} + m_{\\phi}^{2} \\phi^{2}\\right)}{2}$"
      ],
      "text/plain": [
       "  ⎛ 2   2     2  2⎞\n",
       "α⋅⎝χ ⋅mᵪ  + mᵩ ⋅φ ⎠\n",
       "───────────────────\n",
       "         2         "
      ]
     },
     "metadata": {},
     "output_type": "display_data"
    }
   ],
   "source": [
    "sympy.init_printing()\n",
    "#setup the coordinates\n",
    "p, x = sympy.symbols(\"phi chi\")\n",
    "coords = [p, x]\n",
    "d = len(coords)\n",
    "\n",
    "#setup the potential\n",
    "mp, mx, a = sympy.symbols(\"m_phi m_chi alpha\")\n",
    "V = a/2 * ( (mp*p)**2 + (mx*x)**2 ).nsimplify()\n",
    "\n",
    "#setup the metric\n",
    "metric_diagonal = 6*a / (1 - p**2 - x**2)**2\n",
    "metric = [[0 for i in range(2)] for i in range(2)]\n",
    "metric[0][0] = metric_diagonal\n",
    "metric[1][1] = metric_diagonal\n",
    "metric = MetricTensor(metric, coords)\n",
    "\n",
    "#display the metric and potential\n",
    "display(metric.tensor())\n",
    "display(V)"
   ]
  },
  {
   "cell_type": "code",
   "execution_count": 12,
   "metadata": {},
   "outputs": [
    {
     "name": "stdout",
     "output_type": "stream",
     "text": [
      "Calculating orthonormal basis...\n"
     ]
    },
    {
     "data": {
      "text/latex": [
       "$\\displaystyle v=\\left[ \\frac{\\sqrt{6} m_{\\phi}^{2} \\phi \\left(6 \\alpha + \\chi^{4} + 2 \\chi^{2} \\phi^{2} - 2 \\chi^{2} + \\phi^{4} - 2 \\phi^{2} + 1\\right) \\left|{\\chi^{2} + \\phi^{2} - 1}\\right|}{6 \\sqrt{\\alpha} \\sqrt{\\chi^{2} m_{\\chi}^{4} + m_{\\phi}^{4} \\phi^{2}} \\left|{6 \\alpha + \\chi^{4} + 2 \\chi^{2} \\phi^{2} - 2 \\chi^{2} + \\phi^{4} - 2 \\phi^{2} + 1}\\right|}, \\  \\frac{\\sqrt{6} \\chi m_{\\chi}^{2} \\cdot \\left(6 \\alpha + \\chi^{4} + 2 \\chi^{2} \\phi^{2} - 2 \\chi^{2} + \\phi^{4} - 2 \\phi^{2} + 1\\right) \\left|{\\chi^{2} + \\phi^{2} - 1}\\right|}{6 \\sqrt{\\alpha} \\sqrt{\\chi^{2} m_{\\chi}^{4} + m_{\\phi}^{4} \\phi^{2}} \\left|{6 \\alpha + \\chi^{4} + 2 \\chi^{2} \\phi^{2} - 2 \\chi^{2} + \\phi^{4} - 2 \\phi^{2} + 1}\\right|}\\right]$"
      ],
      "text/plain": [
       "<IPython.core.display.Math object>"
      ]
     },
     "metadata": {},
     "output_type": "display_data"
    }
   ],
   "source": [
    "hesse = inflatox.SymbolicCalculation.new(\n",
    "  coords,\n",
    "  metric,\n",
    "  V,\n",
    "  assertions=False,\n",
    "  simplification_depth=2\n",
    ").execute([[0,1]])"
   ]
  },
  {
   "cell_type": "code",
   "execution_count": 5,
   "metadata": {},
   "outputs": [
    {
     "name": "stdout",
     "output_type": "stream",
     "text": [
      "[Symbol Dictionary]\n",
      "phi -> x[0]\n",
      "chi -> x[1]\n",
      "alpha -> args[0]\n",
      "m_chi -> args[1]\n",
      "m_phi -> args[2]\n"
     ]
    }
   ],
   "source": [
    "out = inflatox.Compiler(hesse, cleanup=False).compile()\n",
    "out.print_sym_lookup_table()"
   ]
  },
  {
   "cell_type": "code",
   "execution_count": 6,
   "metadata": {},
   "outputs": [],
   "source": [
    "lib = inflatox.consistency_conditions.InflationCondition(out).dylib"
   ]
  },
  {
   "cell_type": "code",
   "execution_count": 9,
   "metadata": {},
   "outputs": [],
   "source": [
    "args = np.array([1.0, 1.5, 1.5])\n",
    "x = np.zeros((10_000, 10_000))\n",
    "start_stop = np.array([\n",
    "  [-10.0, 10.0],\n",
    "  [-10.0, 10.0]\n",
    "])\n",
    "\n",
    "inflatox.libinflx_rs.anguelova(\n",
    "  lib,\n",
    "  args,\n",
    "  x,\n",
    "  start_stop\n",
    ")"
   ]
  },
  {
   "cell_type": "code",
   "execution_count": 10,
   "metadata": {},
   "outputs": [
    {
     "data": {
      "text/plain": [
       "<matplotlib.colorbar.Colorbar at 0x7fd1b739b910>"
      ]
     },
     "execution_count": 10,
     "metadata": {},
     "output_type": "execute_result"
    },
    {
     "data": {
      "image/png": "[encoded data removed]",
      "text/plain": [
       "<Figure size 640x480 with 2 Axes>"
      ]
     },
     "metadata": {},
     "output_type": "display_data"
    }
   ],
   "source": [
    "plt.imshow(x, norm=LogNorm(), extent=(*start_stop[0], *start_stop[1]))\n",
    "plt.colorbar()"
   ]
  }
 ],
 "metadata": {
  "kernelspec": {
   "display_name": ".venv",
   "language": "python",
   "name": "python3"
  },
  "language_info": {
   "codemirror_mode": {
    "name": "ipython",
    "version": 3
   },
   "file_extension": ".py",
   "mimetype": "text/x-python",
   "name": "python",
   "nbconvert_exporter": "python",
   "pygments_lexer": "ipython3",
   "version": "3.11.3"
  },
  "orig_nbformat": 4
 },
 "nbformat": 4,
 "nbformat_minor": 2
}
