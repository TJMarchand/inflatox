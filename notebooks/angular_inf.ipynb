{
 "cells": [
  {
   "attachments": {},
   "cell_type": "markdown",
   "metadata": {},
   "source": [
    "# Angular Inflation with Anguelova"
   ]
  },
  {
   "cell_type": "code",
   "execution_count": 16,
   "metadata": {},
   "outputs": [],
   "source": [
    "import sympy\n",
    "import numpy as np\n",
    "from einsteinpy.symbolic import MetricTensor, RicciScalar\n",
    "\n",
    "#import inflatox\n",
    "import inflatox"
   ]
  },
  {
   "cell_type": "code",
   "execution_count": 17,
   "metadata": {},
   "outputs": [
    {
     "data": {
      "text/plain": [
       "<contextlib.ExitStack at 0x7f7ac1497a10>"
      ]
     },
     "execution_count": 17,
     "metadata": {},
     "output_type": "execute_result"
    }
   ],
   "source": [
    "import matplotlib as mpl\n",
    "from matplotlib import pyplot as plt\n",
    "from mpl_toolkits.axes_grid1 import make_axes_locatable\n",
    "\n",
    "#A4 tufte layout paper figure sizes\n",
    "MARGIN_FIG = lambda scale: (1.99, 1.99*scale)\n",
    "MAIN_FIG = lambda scale: (4.18, 4.18*scale)\n",
    "FULL_FIG = lambda scale: (6.64, 6.64*scale)\n",
    "\n",
    "#Fontsize configuration\n",
    "SMALL_SIZE = 8\n",
    "MEDIUM_SIZE = 10\n",
    "BIGGER_SIZE = 12\n",
    "\n",
    "plt.rc('font', family='JetBrains Mono')\n",
    "plt.rc('font', size=SMALL_SIZE)          # controls default text sizes\n",
    "plt.rc('axes', titlesize=SMALL_SIZE)     # fontsize of the axes title\n",
    "plt.rc('axes', labelsize=MEDIUM_SIZE)    # fontsize of the x and y labels\n",
    "plt.rc('xtick', labelsize=SMALL_SIZE)    # fontsize of the tick labels\n",
    "plt.rc('ytick', labelsize=SMALL_SIZE)    # fontsize of the tick labels\n",
    "plt.rc('legend', fontsize=SMALL_SIZE)    # legend fontsize\n",
    "plt.rc('figure', titlesize=BIGGER_SIZE)  # fontsize of the figure title\n",
    "\n",
    "#Other matplotlib configuration\n",
    "plt.rcParams['figure.dpi'] = 100\n",
    "plt.rcParams['figure.autolayout'] = True\n",
    "plt.rcParams['savefig.dpi'] = 300\n",
    "plt.rcParams['lines.linewidth'] = 1\n",
    "plt.rcParams['axes.linewidth'] = 1\n",
    "plt.rcParams[\"savefig.bbox\"] = 'tight'\n",
    "plt.rcParams['mathtext.fontset'] = 'custom'\n",
    "plt.rcParams['mathtext.rm'] = 'Fira Code'\n",
    "plt.rcParams['mathtext.it'] = 'Fira Code'\n",
    "plt.ioff()"
   ]
  },
  {
   "cell_type": "code",
   "execution_count": 18,
   "metadata": {},
   "outputs": [
    {
     "data": {
      "text/latex": [
       "$\\displaystyle \\left[\\begin{matrix}\\frac{6 \\alpha}{\\left(- \\chi^{2} - \\phi^{2} + 1\\right)^{2}} & 0\\\\0 & \\frac{6 \\alpha}{\\left(- \\chi^{2} - \\phi^{2} + 1\\right)^{2}}\\end{matrix}\\right]$"
      ],
      "text/plain": [
       "⎡      6⋅α                         ⎤\n",
       "⎢────────────────         0        ⎥\n",
       "⎢               2                  ⎥\n",
       "⎢⎛   2    2    ⎞                   ⎥\n",
       "⎢⎝- χ  - φ  + 1⎠                   ⎥\n",
       "⎢                                  ⎥\n",
       "⎢                        6⋅α       ⎥\n",
       "⎢       0          ────────────────⎥\n",
       "⎢                                 2⎥\n",
       "⎢                  ⎛   2    2    ⎞ ⎥\n",
       "⎣                  ⎝- χ  - φ  + 1⎠ ⎦"
      ]
     },
     "metadata": {},
     "output_type": "display_data"
    },
    {
     "data": {
      "image/png": "[encoded data removed]",
      "text/latex": [
       "$\\displaystyle \\frac{\\alpha \\left(\\chi^{2} m_{\\chi}^{2} + m_{\\phi}^{2} \\phi^{2}\\right)}{2}$"
      ],
      "text/plain": [
       "  ⎛ 2   2     2  2⎞\n",
       "α⋅⎝χ ⋅mᵪ  + mᵩ ⋅φ ⎠\n",
       "───────────────────\n",
       "         2         "
      ]
     },
     "metadata": {},
     "output_type": "display_data"
    },
    {
     "data": {
      "image/png": "[encoded data removed]",
      "text/latex": [
       "$\\displaystyle - \\frac{4}{3 \\alpha}$"
      ],
      "text/plain": [
       "-4 \n",
       "───\n",
       "3⋅α"
      ]
     },
     "metadata": {},
     "output_type": "display_data"
    }
   ],
   "source": [
    "sympy.init_printing()\n",
    "#setup the coordinates\n",
    "p, x = sympy.symbols(\"phi chi\")\n",
    "coords = [p, x]\n",
    "d = len(coords)\n",
    "\n",
    "#setup the potential\n",
    "mp, mx, a = sympy.symbols(\"m_phi m_chi alpha\")\n",
    "V = a/2 * ( (mp*p)**2 + (mx*x)**2 ).nsimplify()\n",
    "\n",
    "#setup the metric\n",
    "metric_diagonal = 6*a / (1 - p**2 - x**2)**2\n",
    "metric = [[0 for i in range(2)] for i in range(2)]\n",
    "metric[0][0] = metric_diagonal\n",
    "metric[1][1] = metric_diagonal\n",
    "metric = MetricTensor(metric, coords)\n",
    "R = RicciScalar.from_metric(metric).simplify()\n",
    "\n",
    "#display the metric and potential\n",
    "display(metric.tensor(), V, R)"
   ]
  },
  {
   "cell_type": "code",
   "execution_count": 19,
   "metadata": {},
   "outputs": [
    {
     "name": "stdout",
     "output_type": "stream",
     "text": [
      "Calculating covariant Hesse matrix...\n",
      "Projecting the Hesse matrix on the vielbein basis...\n"
     ]
    }
   ],
   "source": [
    "hesse = inflatox.SymbolicCalculation.new(\n",
    "  coords,\n",
    "  metric,\n",
    "  V,\n",
    "  assertions=False,\n",
    "  simplification_depth=1,\n",
    "  silent=True\n",
    ").execute([[0,1]])"
   ]
  },
  {
   "cell_type": "code",
   "execution_count": 20,
   "metadata": {},
   "outputs": [
    {
     "name": "stdout",
     "output_type": "stream",
     "text": [
      "[Symbol Dictionary]\n",
      "phi -> x[0]\n",
      "chi -> x[1]\n",
      "alpha -> args[0]\n",
      "m_chi -> args[1]\n",
      "m_phi -> args[2]\n"
     ]
    }
   ],
   "source": [
    "out = inflatox.Compiler(hesse, cleanup=False).compile()\n",
    "out.print_sym_lookup_table()"
   ]
  },
  {
   "cell_type": "code",
   "execution_count": 6,
   "metadata": {},
   "outputs": [],
   "source": [
    "from inflatox.consistency_conditions import AnguelovaLazaroiuCondition\n",
    "anguelova = AnguelovaLazaroiuCondition(out)\n",
    "\n",
    "a = 1/600\n",
    "m_phi = 2e-5\n",
    "m_chi = m_phi * np.sqrt(9)\n",
    "args = np.array([a, m_chi, m_phi])"
   ]
  },
  {
   "cell_type": "code",
   "execution_count": 7,
   "metadata": {},
   "outputs": [
    {
     "data": {
      "image/png": "[encoded data removed]",
      "text/plain": [
       "<Figure size 664x332 with 2 Axes>"
      ]
     },
     "metadata": {},
     "output_type": "display_data"
    }
   ],
   "source": [
    "two_norm = mpl.colors.TwoSlopeNorm(0.25, vmax=10)\n",
    "cmap = mpl.colormaps['coolwarm'].copy()\n",
    "cmap.set_over(cmap(1.0))\n",
    "cmap.set_bad(cmap(1.0))\n",
    "\n",
    "fig, (ax1, ax2) = plt.subplots(1,2,\n",
    "  figsize=FULL_FIG(0.5),\n",
    "  width_ratios=[1, 1]\n",
    ")\n",
    "\n",
    "extent1 = (-1.0, 1.0, -1.0, 1.0)\n",
    "array1 = anguelova.evaluate(args, *extent1)\n",
    "img = ax1.imshow(\n",
    "  array1,\n",
    "  extent=extent1,\n",
    "  cmap=cmap,\n",
    "  norm=two_norm\n",
    ")\n",
    "del array1"
   ]
  },
  {
   "cell_type": "code",
   "execution_count": 8,
   "metadata": {},
   "outputs": [],
   "source": [
    "extent2 = (0.0, 1.0, 0.0, 1.0)\n",
    "array2 = anguelova.evaluate(args, *extent2)\n",
    "img = ax2.imshow(\n",
    "  array2,\n",
    "  extent=extent2,\n",
    "  cmap=cmap,\n",
    "  norm=two_norm,\n",
    "  origin='lower'\n",
    ")\n",
    "del array2"
   ]
  },
  {
   "cell_type": "code",
   "execution_count": 9,
   "metadata": {},
   "outputs": [
    {
     "data": {
      "text/plain": [
       "Text(0.5, 4.444444444444445, '$\\\\phi$')"
      ]
     },
     "execution_count": 9,
     "metadata": {},
     "output_type": "execute_result"
    },
    {
     "data": {
      "text/plain": [
       "<Figure size 640x480 with 0 Axes>"
      ]
     },
     "metadata": {},
     "output_type": "display_data"
    }
   ],
   "source": [
    "#Make colorbar\n",
    "divider = make_axes_locatable(ax2)\n",
    "cax = divider.append_axes(\"right\", size=\"5%\", pad=0.05)\n",
    "cbar = plt.colorbar(\n",
    "  img,\n",
    "  extend='max',\n",
    "  location='right',\n",
    "  ticks=[1/100, 1/10, 1/5, 1, 5, 10],\n",
    "  cax=cax\n",
    ")\n",
    "cax.set_yticklabels(['1/100','1/10','1/5', '1', '5', '10'])\n",
    "\n",
    "ax1.set_ylabel(f'${sympy.latex(coords[1])}$')\n",
    "ax1.set_xlabel(f'${sympy.latex(coords[0])}$')\n",
    "\n",
    "ax2.set_ylabel(f'${sympy.latex(coords[1])}$')\n",
    "ax2.set_xlabel(f'${sympy.latex(coords[0])}$')"
   ]
  },
  {
   "cell_type": "code",
   "execution_count": 10,
   "metadata": {},
   "outputs": [
    {
     "name": "stderr",
     "output_type": "stream",
     "text": [
      "/tmp/ipykernel_9192/3517004993.py:2: UserWarning: Matplotlib is currently using module://matplotlib_inline.backend_inline, which is a non-GUI backend, so cannot show the figure.\n",
      "  fig.show()\n"
     ]
    }
   ],
   "source": [
    "fig.savefig('../out/angular.svg', transparent=True, bbox_inches=\"tight\", pad_inches=0.05)\n",
    "fig.show()"
   ]
  }
 ],
 "metadata": {
  "kernelspec": {
   "display_name": ".venv",
   "language": "python",
   "name": "python3"
  },
  "language_info": {
   "codemirror_mode": {
    "name": "ipython",
    "version": 3
   },
   "file_extension": ".py",
   "mimetype": "text/x-python",
   "name": "python",
   "nbconvert_exporter": "python",
   "pygments_lexer": "ipython3",
   "version": "3.11.3"
  },
  "orig_nbformat": 4
 },
 "nbformat": 4,
 "nbformat_minor": 2
}
