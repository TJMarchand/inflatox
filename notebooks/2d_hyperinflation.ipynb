{
 "cells": [
  {
   "cell_type": "code",
   "execution_count": 1,
   "metadata": {},
   "outputs": [],
   "source": [
    "import sympy\n",
    "import numpy as np\n",
    "from einsteinpy.symbolic import MetricTensor\n",
    "\n",
    "#import inflatox\n",
    "import inflatox"
   ]
  },
  {
   "cell_type": "code",
   "execution_count": 2,
   "metadata": {},
   "outputs": [
    {
     "data": {
      "text/latex": [
       "$\\displaystyle \\left[\\begin{matrix}1 & 0\\\\0 & L^{2} \\sinh^{2}{\\left(\\frac{φ}{L} \\right)}\\end{matrix}\\right]$"
      ],
      "text/plain": [
       "⎡1       0     ⎤\n",
       "⎢              ⎥\n",
       "⎢    2     2⎛φ⎞⎥\n",
       "⎢0  L ⋅sinh ⎜─⎟⎥\n",
       "⎣           ⎝L⎠⎦"
      ]
     },
     "metadata": {},
     "output_type": "display_data"
    }
   ],
   "source": [
    "sympy.init_printing()\n",
    "φ, θ, L = sympy.symbols('φ θ L')\n",
    "d = 2\n",
    "coords = [φ, θ]\n",
    "\n",
    "g = [[0 for _ in range(d)] for _ in range(d)]\n",
    "g[0][0] = 1\n",
    "g[1][1] = L**2*sympy.sinh(φ/L)**2\n",
    "\n",
    "g = MetricTensor(g, coords)\n",
    "display(g.tensor())"
   ]
  },
  {
   "cell_type": "code",
   "execution_count": 3,
   "metadata": {},
   "outputs": [
    {
     "data": {
      "image/png": "[encoded data removed]",
      "text/latex": [
       "$\\displaystyle \\frac{m^{2} \\left(φ - φ_{0}\\right)^{2}}{2}$"
      ],
      "text/plain": [
       " 2         2\n",
       "m ⋅(φ - φ₀) \n",
       "────────────\n",
       "     2      "
      ]
     },
     "metadata": {},
     "output_type": "display_data"
    }
   ],
   "source": [
    "m, φ0 = sympy.symbols('m φ0')\n",
    "V = (1/2*m**2*(φ-φ0)**2).nsimplify()\n",
    "display(V)"
   ]
  },
  {
   "cell_type": "code",
   "execution_count": 5,
   "metadata": {},
   "outputs": [
    {
     "name": "stdout",
     "output_type": "stream",
     "text": [
      "Calculating orthonormal basis...\n"
     ]
    },
    {
     "data": {
      "text/latex": [
       "$\\displaystyle v=\\left[ \\frac{φ - φ_{0}}{\\left|{φ - φ_{0}}\\right|}, \\  0\\right]$"
      ],
      "text/plain": [
       "<IPython.core.display.Math object>"
      ]
     },
     "metadata": {},
     "output_type": "display_data"
    },
    {
     "data": {
      "text/latex": [
       "$\\displaystyle w_1=\\left[ 0, \\  \\frac{1}{L \\sinh{\\left(\\frac{φ}{L} \\right)}}\\right]$"
      ],
      "text/plain": [
       "<IPython.core.display.Math object>"
      ]
     },
     "metadata": {},
     "output_type": "display_data"
    },
    {
     "name": "stdout",
     "output_type": "stream",
     "text": [
      "Calculating covariant Hesse matrix...\n"
     ]
    },
    {
     "data": {
      "text/latex": [
       "$\\displaystyle H=\\left[\\begin{matrix}m^{2} & 0\\\\0 & \\frac{L m^{2} \\left(φ - φ_{0}\\right) \\sinh{\\left(\\frac{2 φ}{L} \\right)}}{2}\\end{matrix}\\right]$"
      ],
      "text/plain": [
       "<IPython.core.display.Math object>"
      ]
     },
     "metadata": {},
     "output_type": "display_data"
    },
    {
     "name": "stdout",
     "output_type": "stream",
     "text": [
      "Projecting the Hesse matrix on the vielbein basis...\n"
     ]
    },
    {
     "data": {
      "text/latex": [
       "$\\displaystyle H_{vv}=m^{2}$"
      ],
      "text/plain": [
       "<IPython.core.display.Math object>"
      ]
     },
     "metadata": {},
     "output_type": "display_data"
    },
    {
     "data": {
      "text/latex": [
       "$\\displaystyle H_{v1}=0$"
      ],
      "text/plain": [
       "<IPython.core.display.Math object>"
      ]
     },
     "metadata": {},
     "output_type": "display_data"
    },
    {
     "data": {
      "text/latex": [
       "$\\displaystyle H_{1v}=0$"
      ],
      "text/plain": [
       "<IPython.core.display.Math object>"
      ]
     },
     "metadata": {},
     "output_type": "display_data"
    },
    {
     "data": {
      "text/latex": [
       "$\\displaystyle H_{11}=\\frac{m^{2} \\left(φ - φ_{0}\\right)}{L \\tanh{\\left(\\frac{φ}{L} \\right)}}$"
      ],
      "text/plain": [
       "<IPython.core.display.Math object>"
      ]
     },
     "metadata": {},
     "output_type": "display_data"
    }
   ],
   "source": [
    "hesse = inflatox.SymbolicCalculation(coords, g, V).execute([[0,1]])"
   ]
  },
  {
   "cell_type": "code",
   "execution_count": 7,
   "metadata": {},
   "outputs": [
    {
     "name": "stdout",
     "output_type": "stream",
     "text": [
      "[Symbol Dictionary]\n",
      "φ -> x[0]\n",
      "θ -> x[1]\n",
      "m -> args[0]\n",
      "φ0 -> args[1]\n",
      "L -> args[2]\n"
     ]
    }
   ],
   "source": [
    "out = inflatox.Compiler(hesse, cleanup=False).compile()\n",
    "out.print_sym_lookup_table()"
   ]
  },
  {
   "cell_type": "code",
   "execution_count": 8,
   "metadata": {},
   "outputs": [],
   "source": [
    "lib = inflatox.consistency_conditions.InflationCondition(out).dylib"
   ]
  },
  {
   "cell_type": "code",
   "execution_count": 14,
   "metadata": {},
   "outputs": [
    {
     "name": "stdout",
     "output_type": "stream",
     "text": [
      "(array([   0,    0,    0, ..., 9999, 9999, 9999]), array([   0,    1,    2, ..., 9997, 9998, 9999]))\n",
      "2\n"
     ]
    }
   ],
   "source": [
    "p = np.array([3.4e-10, 5e-16, 1.0])\n",
    "x = np.zeros((10_000, 10_000))\n",
    "start_stop = np.array([\n",
    "  [-2.0, 2.0],\n",
    "  [-2.0, 2.0]\n",
    "])\n",
    "\n",
    "inflatox.libinflx_rs.anguelova(\n",
    "  lib,\n",
    "  p,\n",
    "  x,\n",
    "  start_stop\n",
    ")"
   ]
  },
  {
   "cell_type": "code",
   "execution_count": 15,
   "metadata": {},
   "outputs": [
    {
     "name": "stdout",
     "output_type": "stream",
     "text": [
      "[[inf inf inf ... inf inf inf]\n",
      " [inf inf inf ... inf inf inf]\n",
      " [inf inf inf ... inf inf inf]\n",
      " ...\n",
      " [inf inf inf ... inf inf inf]\n",
      " [inf inf inf ... inf inf inf]\n",
      " [inf inf inf ... inf inf inf]]\n",
      "(array([   0,    0,    0, ..., 9999, 9999, 9999]), array([   0,    1,    2, ..., 9997, 9998, 9999]))\n",
      "2\n"
     ]
    }
   ],
   "source": [
    "print(x)\n",
    "print(np.where(np.isnan(x) == False))\n",
    "print(len(np.where(x <= 1))) #praktisch nergens"
   ]
  },
  {
   "cell_type": "code",
   "execution_count": 12,
   "metadata": {},
   "outputs": [
    {
     "data": {
      "text/plain": [
       "<matplotlib.colorbar.Colorbar at 0x7fde8a0d4210>"
      ]
     },
     "execution_count": 12,
     "metadata": {},
     "output_type": "execute_result"
    },
    {
     "data": {
      "image/png": "[encoded data removed]",
      "text/plain": [
       "<Figure size 640x480 with 2 Axes>"
      ]
     },
     "metadata": {},
     "output_type": "display_data"
    }
   ],
   "source": [
    "from matplotlib import pyplot as plt\n",
    "from matplotlib.colors import LogNorm\n",
    "plt.imshow(x, extent=(*start_stop[0], *start_stop[1]))\n",
    "plt.colorbar()"
   ]
  }
 ],
 "metadata": {
  "kernelspec": {
   "display_name": "python310env",
   "language": "python",
   "name": "python3"
  },
  "language_info": {
   "codemirror_mode": {
    "name": "ipython",
    "version": 3
   },
   "file_extension": ".py",
   "mimetype": "text/x-python",
   "name": "python",
   "nbconvert_exporter": "python",
   "pygments_lexer": "ipython3",
   "version": "3.11.3"
  },
  "orig_nbformat": 4
 },
 "nbformat": 4,
 "nbformat_minor": 2
}
