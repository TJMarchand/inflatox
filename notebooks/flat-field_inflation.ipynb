{
 "cells": [
  {
   "cell_type": "code",
   "execution_count": 1,
   "metadata": {},
   "outputs": [],
   "source": [
    "import sympy\n",
    "import numpy as np\n",
    "from einsteinpy.symbolic import MetricTensor\n",
    "from matplotlib import pyplot as plt\n",
    "from matplotlib.colors import LogNorm\n",
    "\n",
    "#import inflatox\n",
    "import inflatox"
   ]
  },
  {
   "cell_type": "code",
   "execution_count": 2,
   "metadata": {},
   "outputs": [
    {
     "data": {
      "text/latex": [
       "$\\displaystyle \\left[\\begin{matrix}1 & 0\\\\0 & \\phi^{2}\\end{matrix}\\right]$"
      ],
      "text/plain": [
       "⎡1  0 ⎤\n",
       "⎢     ⎥\n",
       "⎢    2⎥\n",
       "⎣0  φ ⎦"
      ]
     },
     "metadata": {},
     "output_type": "display_data"
    },
    {
     "data": {
      "image/png": "[encoded data removed]",
      "text/latex": [
       "$\\displaystyle V_{0} - \\alpha \\theta + \\frac{m^{2} \\left(\\phi - \\phi_{0}\\right)^{2}}{2}$"
      ],
      "text/plain": [
       "            2         2\n",
       "           m ⋅(φ - φ₀) \n",
       "V₀ - α⋅θ + ────────────\n",
       "                2      "
      ]
     },
     "metadata": {},
     "output_type": "display_data"
    }
   ],
   "source": [
    "sympy.init_printing()\n",
    "phi, theta = sympy.symbols(\"phi theta\")\n",
    "V0, φ0, a, m = sympy.symbols(\"V0 phi0 alpha m\")\n",
    "coords = [phi, theta]\n",
    "d = len(coords)\n",
    "\n",
    "metric = [[0 for i in range(2)] for i in range(2)]\n",
    "metric[0][0] = 1\n",
    "metric[1][1] = phi**2\n",
    "metric = MetricTensor(metric, coords)\n",
    "V = (V0 - a*theta + 1/2*(m**2)*((phi-φ0)**2)).nsimplify()\n",
    "display(metric.tensor())\n",
    "display(V)"
   ]
  },
  {
   "cell_type": "code",
   "execution_count": 3,
   "metadata": {},
   "outputs": [
    {
     "name": "stdout",
     "output_type": "stream",
     "text": [
      "Calculating orthonormal basis...\n"
     ]
    },
    {
     "data": {
      "text/latex": [
       "$\\displaystyle v=\\left[ \\frac{2 m^{2} \\phi \\left(\\phi - \\phi_{0}\\right)}{\\sqrt{\\alpha^{2} \\left(\\phi^{2} + 1\\right)^{2} + 4 m^{4} \\phi^{2} \\left(\\phi - \\phi_{0}\\right)^{2}}}, \\  - \\frac{\\alpha \\left(\\phi^{2} + 1\\right)}{\\phi \\sqrt{\\alpha^{2} \\left(\\phi^{2} + 1\\right)^{2} + 4 m^{4} \\phi^{2} \\left(\\phi - \\phi_{0}\\right)^{2}}}\\right]$"
      ],
      "text/plain": [
       "<IPython.core.display.Math object>"
      ]
     },
     "metadata": {},
     "output_type": "display_data"
    },
    {
     "data": {
      "text/latex": [
       "$\\displaystyle w_1=\\left[ \\frac{\\alpha \\left(\\phi - \\phi_{0}\\right) \\left(\\phi^{2} + 1\\right)}{\\sqrt{\\alpha^{2} \\left(\\phi^{2} + 1\\right)^{2} + 4 m^{4} \\phi^{2} \\left(\\phi - \\phi_{0}\\right)^{2}} \\left|{\\phi - \\phi_{0}}\\right|}, \\  \\frac{2 m^{2} \\left(\\phi - \\phi_{0}\\right)^{2}}{\\sqrt{\\alpha^{2} \\left(\\phi^{2} + 1\\right)^{2} + 4 m^{4} \\phi^{2} \\left(\\phi - \\phi_{0}\\right)^{2}} \\left|{\\phi - \\phi_{0}}\\right|}\\right]$"
      ],
      "text/plain": [
       "<IPython.core.display.Math object>"
      ]
     },
     "metadata": {},
     "output_type": "display_data"
    },
    {
     "name": "stdout",
     "output_type": "stream",
     "text": [
      "Calculating covariant Hesse matrix...\n"
     ]
    },
    {
     "data": {
      "text/latex": [
       "$\\displaystyle H=\\left[\\begin{matrix}m^{2} & \\frac{\\alpha}{\\phi}\\\\\\frac{\\alpha}{\\phi} & m^{2} \\phi \\left(\\phi - \\phi_{0}\\right)\\end{matrix}\\right]$"
      ],
      "text/plain": [
       "<IPython.core.display.Math object>"
      ]
     },
     "metadata": {},
     "output_type": "display_data"
    },
    {
     "name": "stdout",
     "output_type": "stream",
     "text": [
      "Projecting the Hesse matrix on the vielbein basis...\n"
     ]
    },
    {
     "data": {
      "text/latex": [
       "$\\displaystyle H_{vv}=\\frac{m^{2} \\left(\\phi - \\phi_{0}\\right) \\left(\\alpha^{2} \\left(\\phi^{2} - 3\\right) \\left(\\phi^{2} + 1\\right) + m^{4} \\phi^{3} \\cdot \\left(4 \\phi - 4 \\phi_{0}\\right)\\right)}{\\phi \\left(\\alpha^{2} \\left(\\phi^{2} + 1\\right)^{2} + 4 m^{4} \\phi^{2} \\left(\\phi - \\phi_{0}\\right)^{2}\\right)}$"
      ],
      "text/plain": [
       "<IPython.core.display.Math object>"
      ]
     },
     "metadata": {},
     "output_type": "display_data"
    },
    {
     "data": {
      "text/latex": [
       "$\\displaystyle H_{v1}=\\frac{\\alpha \\left(\\phi - \\phi_{0}\\right) \\left(- \\alpha^{2} \\left(\\phi^{2} + 1\\right)^{2} + 2 m^{4} \\phi^{2} \\left(\\phi - \\phi_{0}\\right) \\left(\\phi \\left(\\phi^{2} + 1\\right) + 2 \\phi - 2 \\phi_{0} - \\left(\\phi - \\phi_{0}\\right) \\left(\\phi^{2} + 1\\right)\\right)\\right)}{\\phi^{2} \\left(\\alpha^{2} \\left(\\phi^{2} + 1\\right)^{2} + 4 m^{4} \\phi^{2} \\left(\\phi - \\phi_{0}\\right)^{2}\\right) \\left|{\\phi - \\phi_{0}}\\right|}$"
      ],
      "text/plain": [
       "<IPython.core.display.Math object>"
      ]
     },
     "metadata": {},
     "output_type": "display_data"
    },
    {
     "data": {
      "text/latex": [
       "$\\displaystyle H_{1v}=\\frac{\\alpha \\left(\\phi - \\phi_{0}\\right) \\left(- \\alpha^{2} \\left(\\phi^{2} + 1\\right)^{2} + 2 m^{4} \\phi^{2} \\left(\\phi - \\phi_{0}\\right) \\left(\\phi \\left(\\phi^{2} + 1\\right) + 2 \\phi - 2 \\phi_{0} - \\left(\\phi - \\phi_{0}\\right) \\left(\\phi^{2} + 1\\right)\\right)\\right)}{\\phi^{2} \\left(\\alpha^{2} \\left(\\phi^{2} + 1\\right)^{2} + 4 m^{4} \\phi^{2} \\left(\\phi - \\phi_{0}\\right)^{2}\\right) \\left|{\\phi - \\phi_{0}}\\right|}$"
      ],
      "text/plain": [
       "<IPython.core.display.Math object>"
      ]
     },
     "metadata": {},
     "output_type": "display_data"
    },
    {
     "data": {
      "text/latex": [
       "$\\displaystyle H_{11}=\\frac{m^{2} \\cdot \\left(4 \\alpha^{2} \\left(\\phi - \\phi_{0}\\right) \\left(\\phi^{2} + 1\\right) + \\phi \\left(\\alpha^{2} \\left(\\phi^{2} + 1\\right)^{2} + 4 m^{4} \\phi \\left(\\phi - \\phi_{0}\\right)^{3}\\right)\\right)}{\\phi \\left(\\alpha^{2} \\left(\\phi^{2} + 1\\right)^{2} + 4 m^{4} \\phi^{2} \\left(\\phi - \\phi_{0}\\right)^{2}\\right)}$"
      ],
      "text/plain": [
       "<IPython.core.display.Math object>"
      ]
     },
     "metadata": {},
     "output_type": "display_data"
    }
   ],
   "source": [
    "hesse = inflatox.SymbolicCalculation.new(\n",
    "  coords,\n",
    "  metric,\n",
    "  V,\n",
    ").execute([[0,1]])"
   ]
  },
  {
   "cell_type": "code",
   "execution_count": 4,
   "metadata": {},
   "outputs": [
    {
     "name": "stdout",
     "output_type": "stream",
     "text": [
      "[Symbol Dictionary]\n",
      "phi -> x[0]\n",
      "theta -> x[1]\n",
      "V0 -> args[0]\n",
      "alpha -> args[1]\n",
      "m -> args[2]\n",
      "phi0 -> args[3]\n"
     ]
    }
   ],
   "source": [
    "out = inflatox.Compiler(hesse).compile()\n",
    "out.print_sym_lookup_table()"
   ]
  },
  {
   "cell_type": "code",
   "execution_count": 5,
   "metadata": {},
   "outputs": [
    {
     "name": "stdout",
     "output_type": "stream",
     "text": [
      "-0.5\n",
      "[[0.45121951 0.18902439]\n",
      " [0.18902439 1.04878049]]\n"
     ]
    }
   ],
   "source": [
    "from inflatox.consistency_conditions import AnguelovaLazaroiuCondition\n",
    "anguelova = AnguelovaLazaroiuCondition(out)\n",
    "\n",
    "args = np.array([3.4e-10, 5e-16, 2.5e-3, 0])\n",
    "args = np.array([1.0, 1.0, 1.0, 1.0])\n",
    "x = np.array([2.0, 2.0])\n",
    "print(anguelova.calc_V(x, args))\n",
    "print(anguelova.calc_H(x, args))"
   ]
  },
  {
   "cell_type": "code",
   "execution_count": 6,
   "metadata": {},
   "outputs": [],
   "source": [
    "extent = (-2.0, 2.0, -2.0, 2.0)\n",
    "array = anguelova.evaluate(args, *extent)"
   ]
  },
  {
   "cell_type": "code",
   "execution_count": 7,
   "metadata": {},
   "outputs": [
    {
     "name": "stdout",
     "output_type": "stream",
     "text": [
      "-129005309.86055237\n",
      "494250033030.17804\n"
     ]
    }
   ],
   "source": [
    "print(np.nanmin(array))\n",
    "print(np.nanmax(array))"
   ]
  },
  {
   "cell_type": "code",
   "execution_count": 8,
   "metadata": {},
   "outputs": [
    {
     "data": {
      "text/plain": [
       "<matplotlib.colorbar.Colorbar at 0x7f606ff701d0>"
      ]
     },
     "execution_count": 8,
     "metadata": {},
     "output_type": "execute_result"
    },
    {
     "data": {
      "image/png": "[encoded data removed]",
      "text/plain": [
       "<Figure size 640x480 with 2 Axes>"
      ]
     },
     "metadata": {},
     "output_type": "display_data"
    }
   ],
   "source": [
    "plt.imshow(array, norm=LogNorm(), extent=extent, aspect='equal')\n",
    "plt.colorbar()"
   ]
  },
  {
   "cell_type": "code",
   "execution_count": 9,
   "metadata": {},
   "outputs": [
    {
     "data": {
      "image/png": "[encoded data removed]",
      "text/plain": [
       "<Figure size 640x480 with 2 Axes>"
      ]
     },
     "metadata": {},
     "output_type": "display_data"
    }
   ],
   "source": [
    "import matplotlib as mpl\n",
    "\n",
    "cmap = mpl.colormaps['Greens'].copy().reversed()\n",
    "cmap.set_over('red')\n",
    "cmap.set_bad('red')\n",
    "\n",
    "plt.imshow(\n",
    "  array,\n",
    "  extent=extent,\n",
    "  cmap=cmap,\n",
    "  norm=plt.Normalize(vmin=0.0, vmax=1.0),\n",
    "  aspect='equal'\n",
    ")\n",
    "plt.colorbar(extend='max', location='top')\n",
    "\n",
    "plt.xlabel(f'${sympy.latex(coords[0])}$')\n",
    "plt.ylabel(f'${sympy.latex(coords[1])}$')\n",
    "plt.show()"
   ]
  },
  {
   "attachments": {},
   "cell_type": "markdown",
   "metadata": {},
   "source": [
    "# Ideeën\n",
    "- Björkmo zegt:\n",
    "> In this model, the rapid-turn regime appears at $\\rho \\gg \\rho_0$, where the\n",
    "gradient of the potential is dominated by the $\\rho$-direction, but where the\n",
    "$\\theta$-term nevertheless plays an important role.\n",
    "Bestaat dit regime wel? Ter herinnering, de ongeprojecteerde Hesse matrix heeft\n",
    "11 comp $m^2$ (dus constant)\n",
    "\n",
    "- waarom zoveel `NaN`?"
   ]
  }
 ],
 "metadata": {
  "kernelspec": {
   "display_name": "Python 3",
   "language": "python",
   "name": "python3"
  },
  "language_info": {
   "codemirror_mode": {
    "name": "ipython",
    "version": 3
   },
   "file_extension": ".py",
   "mimetype": "text/x-python",
   "name": "python",
   "nbconvert_exporter": "python",
   "pygments_lexer": "ipython3",
   "version": "3.11.3"
  },
  "orig_nbformat": 4
 },
 "nbformat": 4,
 "nbformat_minor": 2
}
