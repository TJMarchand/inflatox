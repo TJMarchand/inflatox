{
 "cells": [
  {
   "cell_type": "code",
   "execution_count": 1,
   "metadata": {},
   "outputs": [],
   "source": [
    "import sympy\n",
    "import numpy as np\n",
    "from einsteinpy.symbolic import MetricTensor\n",
    "\n",
    "#import inflatox\n",
    "import inflatox"
   ]
  },
  {
   "cell_type": "code",
   "execution_count": 12,
   "metadata": {},
   "outputs": [
    {
     "data": {
      "text/latex": [
       "$\\displaystyle \\left[\\begin{matrix}1 & 0\\\\0 & \\phi^{2}\\end{matrix}\\right]$"
      ],
      "text/plain": [
       "⎡1  0 ⎤\n",
       "⎢     ⎥\n",
       "⎢    2⎥\n",
       "⎣0  φ ⎦"
      ]
     },
     "metadata": {},
     "output_type": "display_data"
    },
    {
     "data": {
      "image/png": "[encoded data removed]",
      "text/latex": [
       "$\\displaystyle V_{0} - \\alpha \\theta + \\frac{m^{2} \\left(\\phi - \\phi_{0}\\right)^{2}}{2}$"
      ],
      "text/plain": [
       "            2         2\n",
       "           m ⋅(φ - φ₀) \n",
       "V₀ - α⋅θ + ────────────\n",
       "                2      "
      ]
     },
     "metadata": {},
     "output_type": "display_data"
    }
   ],
   "source": [
    "sympy.init_printing()\n",
    "phi, theta = sympy.symbols(\"phi theta\")\n",
    "V0, φ0, a, m = sympy.symbols(\"V0 phi0 alpha m\")\n",
    "coords = [phi, theta]\n",
    "d = len(coords)\n",
    "\n",
    "metric = [[0 for i in range(2)] for i in range(2)]\n",
    "metric[0][0] = 1\n",
    "metric[1][1] = phi**2\n",
    "metric = MetricTensor(metric, coords)\n",
    "V = (V0 - a*theta + 1/2*(m**2)*((phi-φ0)**2)).nsimplify()\n",
    "display(metric.tensor())\n",
    "display(V)"
   ]
  },
  {
   "cell_type": "code",
   "execution_count": 13,
   "metadata": {},
   "outputs": [
    {
     "name": "stdout",
     "output_type": "stream",
     "text": [
      "Calculating orthonormal basis...\n"
     ]
    },
    {
     "data": {
      "text/latex": [
       "$\\displaystyle v=\\left[ \\frac{2 m^{2} \\phi \\left(\\phi - \\phi_{0}\\right)}{\\sqrt{\\alpha^{2} \\left(\\phi^{2} + 1\\right)^{2} + 4 m^{4} \\phi^{2} \\left(\\phi - \\phi_{0}\\right)^{2}}}, \\  - \\frac{\\alpha \\left(\\phi^{2} + 1\\right)}{\\phi \\sqrt{\\alpha^{2} \\left(\\phi^{2} + 1\\right)^{2} + 4 m^{4} \\phi^{2} \\left(\\phi - \\phi_{0}\\right)^{2}}}\\right]$"
      ],
      "text/plain": [
       "<IPython.core.display.Math object>"
      ]
     },
     "metadata": {},
     "output_type": "display_data"
    },
    {
     "data": {
      "text/latex": [
       "$\\displaystyle w_1=\\left[ \\frac{\\alpha \\left(\\phi - \\phi_{0}\\right) \\left(\\phi^{2} + 1\\right)}{\\sqrt{\\alpha^{2} \\left(\\phi^{2} + 1\\right)^{2} + 4 m^{4} \\phi^{2} \\left(\\phi - \\phi_{0}\\right)^{2}} \\left|{\\phi - \\phi_{0}}\\right|}, \\  \\frac{2 m^{2} \\left(\\phi - \\phi_{0}\\right)^{2}}{\\sqrt{\\alpha^{2} \\left(\\phi^{2} + 1\\right)^{2} + 4 m^{4} \\phi^{2} \\left(\\phi - \\phi_{0}\\right)^{2}} \\left|{\\phi - \\phi_{0}}\\right|}\\right]$"
      ],
      "text/plain": [
       "<IPython.core.display.Math object>"
      ]
     },
     "metadata": {},
     "output_type": "display_data"
    },
    {
     "name": "stdout",
     "output_type": "stream",
     "text": [
      "Calculating covariant Hesse matrix...\n"
     ]
    },
    {
     "data": {
      "text/latex": [
       "$\\displaystyle H=\\left[\\begin{matrix}m^{2} & \\frac{\\alpha}{\\phi}\\\\\\frac{\\alpha}{\\phi} & m^{2} \\phi \\left(\\phi - \\phi_{0}\\right)\\end{matrix}\\right]$"
      ],
      "text/plain": [
       "<IPython.core.display.Math object>"
      ]
     },
     "metadata": {},
     "output_type": "display_data"
    },
    {
     "name": "stdout",
     "output_type": "stream",
     "text": [
      "Projecting the Hesse matrix on the vielbein basis...\n"
     ]
    },
    {
     "data": {
      "text/latex": [
       "$\\displaystyle H_{vv}=\\frac{m^{2} \\left(\\phi - \\phi_{0}\\right) \\left(\\alpha^{2} \\left(\\phi^{2} - 3\\right) \\left(\\phi^{2} + 1\\right) + m^{4} \\phi^{3} \\cdot \\left(4 \\phi - 4 \\phi_{0}\\right)\\right)}{\\phi \\left(\\alpha^{2} \\left(\\phi^{2} + 1\\right)^{2} + 4 m^{4} \\phi^{2} \\left(\\phi - \\phi_{0}\\right)^{2}\\right)}$"
      ],
      "text/plain": [
       "<IPython.core.display.Math object>"
      ]
     },
     "metadata": {},
     "output_type": "display_data"
    },
    {
     "data": {
      "text/latex": [
       "$\\displaystyle H_{v1}=\\frac{\\alpha \\left(\\phi - \\phi_{0}\\right) \\left(- \\alpha^{2} \\left(\\phi^{2} + 1\\right)^{2} + 2 m^{4} \\phi^{2} \\left(\\phi - \\phi_{0}\\right) \\left(\\phi \\left(\\phi^{2} + 1\\right) + 2 \\phi - 2 \\phi_{0} - \\left(\\phi - \\phi_{0}\\right) \\left(\\phi^{2} + 1\\right)\\right)\\right)}{\\phi^{2} \\left(\\alpha^{2} \\left(\\phi^{2} + 1\\right)^{2} + 4 m^{4} \\phi^{2} \\left(\\phi - \\phi_{0}\\right)^{2}\\right) \\left|{\\phi - \\phi_{0}}\\right|}$"
      ],
      "text/plain": [
       "<IPython.core.display.Math object>"
      ]
     },
     "metadata": {},
     "output_type": "display_data"
    },
    {
     "data": {
      "text/latex": [
       "$\\displaystyle H_{1v}=\\frac{\\alpha \\left(\\phi - \\phi_{0}\\right) \\left(- \\alpha^{2} \\left(\\phi^{2} + 1\\right)^{2} + 2 m^{4} \\phi^{2} \\left(\\phi - \\phi_{0}\\right) \\left(\\phi \\left(\\phi^{2} + 1\\right) + 2 \\phi - 2 \\phi_{0} - \\left(\\phi - \\phi_{0}\\right) \\left(\\phi^{2} + 1\\right)\\right)\\right)}{\\phi^{2} \\left(\\alpha^{2} \\left(\\phi^{2} + 1\\right)^{2} + 4 m^{4} \\phi^{2} \\left(\\phi - \\phi_{0}\\right)^{2}\\right) \\left|{\\phi - \\phi_{0}}\\right|}$"
      ],
      "text/plain": [
       "<IPython.core.display.Math object>"
      ]
     },
     "metadata": {},
     "output_type": "display_data"
    },
    {
     "data": {
      "text/latex": [
       "$\\displaystyle H_{11}=\\frac{m^{2} \\cdot \\left(4 \\alpha^{2} \\left(\\phi - \\phi_{0}\\right) \\left(\\phi^{2} + 1\\right) + \\phi \\left(\\alpha^{2} \\left(\\phi^{2} + 1\\right)^{2} + 4 m^{4} \\phi \\left(\\phi - \\phi_{0}\\right)^{3}\\right)\\right)}{\\phi \\left(\\alpha^{2} \\left(\\phi^{2} + 1\\right)^{2} + 4 m^{4} \\phi^{2} \\left(\\phi - \\phi_{0}\\right)^{2}\\right)}$"
      ],
      "text/plain": [
       "<IPython.core.display.Math object>"
      ]
     },
     "metadata": {},
     "output_type": "display_data"
    }
   ],
   "source": [
    "hesse = inflatox.SymbolicCalculation.new(coords, metric, V).execute([[0,1]])"
   ]
  },
  {
   "cell_type": "code",
   "execution_count": 14,
   "metadata": {},
   "outputs": [
    {
     "name": "stdout",
     "output_type": "stream",
     "text": [
      "[Symbol Dictionary]\n",
      "phi -> x[0]\n",
      "theta -> x[1]\n",
      "V0 -> args[0]\n",
      "alpha -> args[1]\n",
      "m -> args[2]\n",
      "phi0 -> args[3]\n"
     ]
    }
   ],
   "source": [
    "out = inflatox.Compiler(hesse, cleanup=False).compile()\n",
    "out.print_sym_lookup_table()"
   ]
  },
  {
   "cell_type": "code",
   "execution_count": 15,
   "metadata": {},
   "outputs": [],
   "source": [
    "lib = inflatox.consistency_conditions.InflationCondition(out).dylib"
   ]
  },
  {
   "cell_type": "code",
   "execution_count": 21,
   "metadata": {},
   "outputs": [],
   "source": [
    "p = np.array([3.4e-10, 5e-16, 2.5e-3, 1.0])\n",
    "x = np.zeros((10_000, 10_000))\n",
    "start_stop = np.array([\n",
    "  [-2.0, 2.0],\n",
    "  [-2.0, 2.0]\n",
    "])\n",
    "\n",
    "inflatox.libinflx_rs.anguelova(\n",
    "  lib,\n",
    "  p,\n",
    "  x,\n",
    "  start_stop\n",
    ")"
   ]
  },
  {
   "cell_type": "code",
   "execution_count": 22,
   "metadata": {},
   "outputs": [
    {
     "name": "stdout",
     "output_type": "stream",
     "text": [
      "[[6.22080000e+56 6.22080000e+56 6.22080000e+56 ... 6.22080000e+56\n",
      "  6.22080000e+56 6.22080000e+56]\n",
      " [6.18772138e+56 6.18772138e+56 6.18772138e+56 ... 6.18772138e+56\n",
      "  6.18772138e+56 6.18772138e+56]\n",
      " [6.15483983e+56 6.15483983e+56 6.15483983e+56 ... 6.15483983e+56\n",
      "  6.15483983e+56 6.15483983e+56]\n",
      " ...\n",
      " [3.18115865e+51 3.18115865e+51 3.18115865e+51 ... 3.18115865e+51\n",
      "  3.18115865e+51 3.18115865e+51]\n",
      " [3.18698631e+51 3.18698631e+51 3.18698631e+51 ... 3.18698631e+51\n",
      "  3.18698631e+51 3.18698631e+51]\n",
      " [3.19282250e+51 3.19282250e+51 3.19282250e+51 ... 3.19282250e+51\n",
      "  3.19282250e+51 3.19282250e+51]]\n",
      "[6.2208000e+56 6.2208000e+56 6.2208000e+56 ... 3.1928225e+51 3.1928225e+51\n",
      " 3.1928225e+51]\n",
      "2\n"
     ]
    }
   ],
   "source": [
    "print(x)\n",
    "print(x[~np.isnan(x)])\n",
    "print(len(np.where(x <= 1))) #praktisch nergens"
   ]
  },
  {
   "cell_type": "code",
   "execution_count": 27,
   "metadata": {},
   "outputs": [
    {
     "data": {
      "text/plain": [
       "<matplotlib.colorbar.Colorbar at 0x7f3dff8ab910>"
      ]
     },
     "execution_count": 27,
     "metadata": {},
     "output_type": "execute_result"
    },
    {
     "data": {
      "image/png": "[encoded data removed]",
      "text/plain": [
       "<Figure size 640x480 with 2 Axes>"
      ]
     },
     "metadata": {},
     "output_type": "display_data"
    }
   ],
   "source": [
    "from matplotlib import pyplot as plt\n",
    "from matplotlib.colors import LogNorm\n",
    "plt.imshow(x, norm=LogNorm(), extent=(*start_stop[0], *start_stop[1]))\n",
    "plt.colorbar()"
   ]
  },
  {
   "attachments": {},
   "cell_type": "markdown",
   "metadata": {},
   "source": [
    "# Ideeën\n",
    "- Björkmo zegt:\n",
    "> In this model, the rapid-turn regime appears at $\\rho \\gg \\rho_0$, where the\n",
    "gradient of the potential is dominated by the $\\rho$-direction, but where the\n",
    "$\\theta$-term nevertheless plays an important role.\n",
    "Bestaat dit regime wel? Ter herinnering, de ongeprojecteerde Hesse matrix heeft\n",
    "11 comp $m^2$ (dus constant)\n",
    "\n",
    "- waarom zoveel `NaN`?"
   ]
  }
 ],
 "metadata": {
  "kernelspec": {
   "display_name": "Python 3",
   "language": "python",
   "name": "python3"
  },
  "language_info": {
   "codemirror_mode": {
    "name": "ipython",
    "version": 3
   },
   "file_extension": ".py",
   "mimetype": "text/x-python",
   "name": "python",
   "nbconvert_exporter": "python",
   "pygments_lexer": "ipython3",
   "version": "3.11.3"
  },
  "orig_nbformat": 4
 },
 "nbformat": 4,
 "nbformat_minor": 2
}
