{
 "cells": [
  {
   "cell_type": "code",
   "execution_count": 1,
   "metadata": {},
   "outputs": [],
   "source": [
    "import sympy\n",
    "from einsteinpy.symbolic import MetricTensor\n",
    "\n",
    "#import inflatox\n",
    "import inflatox"
   ]
  },
  {
   "cell_type": "code",
   "execution_count": 2,
   "metadata": {},
   "outputs": [
    {
     "data": {
      "text/plain": [
       "'3'"
      ]
     },
     "execution_count": 2,
     "metadata": {},
     "output_type": "execute_result"
    }
   ],
   "source": [
    "#test\n",
    "inflatox.libinflx_rs.sum_as_string(1, 2)"
   ]
  },
  {
   "cell_type": "code",
   "execution_count": 3,
   "metadata": {},
   "outputs": [
    {
     "data": {
      "text/latex": [
       "$\\displaystyle \\left[\\begin{matrix}1 & 0\\\\0 & φ^{2}\\end{matrix}\\right]$"
      ],
      "text/plain": [
       "⎡1  0 ⎤\n",
       "⎢     ⎥\n",
       "⎢    2⎥\n",
       "⎣0  φ ⎦"
      ]
     },
     "metadata": {},
     "output_type": "display_data"
    },
    {
     "data": {
      "image/png": "[encoded data removed]",
      "text/latex": [
       "$\\displaystyle V_{0} + \\frac{m^{2} \\left(φ - φ_{0}\\right)^{2}}{2} - \\sqrt{ψ ψ_{0}}$"
      ],
      "text/plain": [
       "      2         2           \n",
       "     m ⋅(φ - φ₀)      ______\n",
       "V₀ + ──────────── - ╲╱ ψ⋅ψ₀ \n",
       "          2                 "
      ]
     },
     "metadata": {},
     "output_type": "display_data"
    }
   ],
   "source": [
    "sympy.init_printing()\n",
    "φ, ψ = sympy.symbols(\"φ ψ\")\n",
    "V0, φ0, ψ0, m = sympy.symbols(\"V0 φ0 ψ0 m\")\n",
    "coords = [φ, ψ]\n",
    "d = len(coords)\n",
    "\n",
    "metric = [[0 for i in range(2)] for i in range(2)]\n",
    "metric[0][0] = 1\n",
    "metric[1][1] = φ**2\n",
    "metric = MetricTensor(metric, (φ, ψ))\n",
    "V = (V0 - sympy.sqrt(ψ0*ψ) + 1/2*(m**2)*((φ-φ0)**2)).nsimplify()\n",
    "display(metric.tensor())\n",
    "display(V)"
   ]
  },
  {
   "cell_type": "code",
   "execution_count": 4,
   "metadata": {},
   "outputs": [
    {
     "name": "stdout",
     "output_type": "stream",
     "text": [
      "Calculating orthonormal basis...\n"
     ]
    },
    {
     "data": {
      "text/latex": [
       "$\\displaystyle v=\\left[ \\frac{4 m^{2} φ \\sqrt{ψ} \\left(φ - φ_{0}\\right)}{\\sqrt{16 m^{4} φ^{2} ψ \\left(φ - φ_{0}\\right)^{2} + ψ_{0} \\left(φ^{2} + 1\\right)^{2}}}, \\  \\frac{\\sqrt{ψ_{0}} \\left(- φ^{2} - 1\\right)}{φ \\sqrt{16 m^{4} φ^{2} ψ \\left(φ - φ_{0}\\right)^{2} + ψ_{0} \\left(φ^{2} + 1\\right)^{2}}}\\right]$"
      ],
      "text/plain": [
       "<IPython.core.display.Math object>"
      ]
     },
     "metadata": {},
     "output_type": "display_data"
    },
    {
     "data": {
      "text/latex": [
       "$\\displaystyle w_1=\\left[ \\frac{\\sqrt{ψ_{0}} \\left(φ - φ_{0}\\right) \\left(φ^{2} + 1\\right)}{\\sqrt{16 m^{4} φ^{2} ψ \\left(φ - φ_{0}\\right)^{2} + ψ_{0} \\left(φ^{2} + 1\\right)^{2}} \\left|{φ - φ_{0}}\\right|}, \\  \\frac{4 m^{2} \\sqrt{ψ} \\left(φ - φ_{0}\\right)^{2}}{\\sqrt{16 m^{4} φ^{2} ψ \\left(φ - φ_{0}\\right)^{2} + ψ_{0} \\left(φ^{2} + 1\\right)^{2}} \\left|{φ - φ_{0}}\\right|}\\right]$"
      ],
      "text/plain": [
       "<IPython.core.display.Math object>"
      ]
     },
     "metadata": {},
     "output_type": "display_data"
    },
    {
     "name": "stdout",
     "output_type": "stream",
     "text": [
      "Calculating covariant Hesse matrix...\n"
     ]
    },
    {
     "data": {
      "text/latex": [
       "$\\displaystyle H=\\left[\\begin{matrix}m^{2} & \\frac{\\sqrt{ψ_{0}}}{2 φ \\sqrt{ψ}}\\\\\\frac{\\sqrt{ψ_{0}}}{2 φ \\sqrt{ψ}} & \\frac{m^{2} φ ψ^{2} \\left(φ - φ_{0}\\right) + \\frac{\\sqrt{ψ} \\sqrt{ψ_{0}}}{4}}{ψ^{2}}\\end{matrix}\\right]$"
      ],
      "text/plain": [
       "<IPython.core.display.Math object>"
      ]
     },
     "metadata": {},
     "output_type": "display_data"
    },
    {
     "name": "stdout",
     "output_type": "stream",
     "text": [
      "Projecting the Hesse matrix on the vielbein basis...\n"
     ]
    },
    {
     "data": {
      "text/latex": [
       "$\\displaystyle H_{vv}=\\frac{16 m^{6} φ^{4} ψ^{3} \\left(φ - φ_{0}\\right)^{2} - 4 m^{2} φ ψ^{2} ψ_{0} \\left(φ - φ_{0}\\right) \\left(φ^{2} + 1\\right) + \\frac{ψ_{0} \\left(φ^{2} + 1\\right)^{2} \\cdot \\left(4 m^{2} φ ψ^{2} \\left(φ - φ_{0}\\right) + \\sqrt{ψ} \\sqrt{ψ_{0}}\\right)}{4}}{φ^{2} ψ^{2} \\cdot \\left(16 m^{4} φ^{2} ψ \\left(φ - φ_{0}\\right)^{2} + ψ_{0} \\left(φ^{2} + 1\\right)^{2}\\right)}$"
      ],
      "text/plain": [
       "<IPython.core.display.Math object>"
      ]
     },
     "metadata": {},
     "output_type": "display_data"
    },
    {
     "data": {
      "text/latex": [
       "$\\displaystyle H_{v1}=\\frac{\\sqrt{ψ_{0}} \\left(φ - φ_{0}\\right) \\left(8 m^{4} φ^{2} ψ^{2} \\left(φ - φ_{0}\\right) \\left(φ \\left(φ^{2} + 1\\right) + 2 φ - 2 φ_{0}\\right) - 2 m^{2} φ \\left(φ - φ_{0}\\right) \\left(φ^{2} + 1\\right) \\left(4 m^{2} φ ψ^{2} \\left(φ - φ_{0}\\right) + \\sqrt{ψ} \\sqrt{ψ_{0}}\\right) - ψ ψ_{0} \\left(φ^{2} + 1\\right)^{2}\\right)}{2 φ^{2} ψ^{\\frac{3}{2}} \\cdot \\left(16 m^{4} φ^{2} ψ \\left(φ - φ_{0}\\right)^{2} + ψ_{0} \\left(φ^{2} + 1\\right)^{2}\\right) \\left|{φ - φ_{0}}\\right|}$"
      ],
      "text/plain": [
       "<IPython.core.display.Math object>"
      ]
     },
     "metadata": {},
     "output_type": "display_data"
    },
    {
     "data": {
      "text/latex": [
       "$\\displaystyle H_{1v}=\\frac{\\sqrt{ψ_{0}} \\left(φ - φ_{0}\\right) \\left(8 m^{4} φ^{2} ψ^{2} \\left(φ - φ_{0}\\right) \\left(φ \\left(φ^{2} + 1\\right) + 2 φ - 2 φ_{0}\\right) - 2 m^{2} φ \\left(φ - φ_{0}\\right) \\left(φ^{2} + 1\\right) \\left(4 m^{2} φ ψ^{2} \\left(φ - φ_{0}\\right) + \\sqrt{ψ} \\sqrt{ψ_{0}}\\right) - ψ ψ_{0} \\left(φ^{2} + 1\\right)^{2}\\right)}{2 φ^{2} ψ^{\\frac{3}{2}} \\cdot \\left(16 m^{4} φ^{2} ψ \\left(φ - φ_{0}\\right)^{2} + ψ_{0} \\left(φ^{2} + 1\\right)^{2}\\right) \\left|{φ - φ_{0}}\\right|}$"
      ],
      "text/plain": [
       "<IPython.core.display.Math object>"
      ]
     },
     "metadata": {},
     "output_type": "display_data"
    },
    {
     "data": {
      "text/latex": [
       "$\\displaystyle H_{11}=\\frac{m^{2} \\cdot \\left(4 m^{2} φ \\left(φ - φ_{0}\\right)^{2} \\cdot \\left(4 m^{2} φ ψ^{2} \\left(φ - φ_{0}\\right) + \\sqrt{ψ} \\sqrt{ψ_{0}}\\right) + φ ψ ψ_{0} \\left(φ^{2} + 1\\right)^{2} + 4 ψ ψ_{0} \\left(φ - φ_{0}\\right) \\left(φ^{2} + 1\\right)\\right)}{φ ψ \\left(16 m^{4} φ^{2} ψ \\left(φ - φ_{0}\\right)^{2} + ψ_{0} \\left(φ^{2} + 1\\right)^{2}\\right)}$"
      ],
      "text/plain": [
       "<IPython.core.display.Math object>"
      ]
     },
     "metadata": {},
     "output_type": "display_data"
    }
   ],
   "source": [
    "hesse = inflatox.SymbolicCalculation.new(coords, metric, V).execute([[0,1]])"
   ]
  },
  {
   "cell_type": "code",
   "execution_count": 5,
   "metadata": {},
   "outputs": [
    {
     "name": "stdout",
     "output_type": "stream",
     "text": [
      "[Symbol Dictionary]\n",
      "φ -> x[0]\n",
      "ψ -> x[1]\n",
      "V0 -> args[0]\n",
      "m -> args[1]\n",
      "φ0 -> args[2]\n",
      "ψ0 -> args[3]\n"
     ]
    }
   ],
   "source": [
    "out = inflatox.Compiler(hesse, cleanup=False).compile()\n",
    "out.print_sym_lookup_table()"
   ]
  },
  {
   "cell_type": "code",
   "execution_count": 6,
   "metadata": {},
   "outputs": [
    {
     "data": {
      "text/plain": [
       "'/tmp/libinflx_autoc_cib_8ep9.so'"
      ]
     },
     "execution_count": 6,
     "metadata": {},
     "output_type": "execute_result"
    }
   ],
   "source": [
    "out.shared_object_path"
   ]
  },
  {
   "cell_type": "code",
   "execution_count": 9,
   "metadata": {},
   "outputs": [
    {
     "name": "stdout",
     "output_type": "stream",
     "text": [
      "<inflatox.consistency_conditions.InflationCondition object at 0x7fcfe34658d0>\n"
     ]
    }
   ],
   "source": [
    "inflatox.consistency_conditions.InflationCondition(out)"
   ]
  }
 ],
 "metadata": {
  "kernelspec": {
   "display_name": "Python 3",
   "language": "python",
   "name": "python3"
  },
  "language_info": {
   "codemirror_mode": {
    "name": "ipython",
    "version": 3
   },
   "file_extension": ".py",
   "mimetype": "text/x-python",
   "name": "python",
   "nbconvert_exporter": "python",
   "pygments_lexer": "ipython3",
   "version": "3.11.3"
  },
  "orig_nbformat": 4
 },
 "nbformat": 4,
 "nbformat_minor": 2
}
