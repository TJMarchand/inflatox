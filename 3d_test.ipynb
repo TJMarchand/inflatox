{
 "cells": [
  {
   "cell_type": "code",
   "execution_count": 1,
   "metadata": {},
   "outputs": [
    {
     "name": "stdout",
     "output_type": "stream",
     "text": [
      "['/home/raulwolters/Documents/inflatox', '/usr/lib64/python310.zip', '/usr/lib64/python3.10', '/usr/lib64/python3.10/lib-dynload', '', '/home/raulwolters/Documents/python310env/lib64/python3.10/site-packages', '/home/raulwolters/Documents/python310env/lib/python3.10/site-packages', '/home/raulwolters/Documents/inflatox/python/src']\n"
     ]
    }
   ],
   "source": [
    "import sympy\n",
    "from einsteinpy.symbolic import MetricTensor\n",
    "\n",
    "#import inflatox\n",
    "import os, sys\n",
    "inflatox_mod_path = os.path.abspath(os.path.join('./python/src/'))\n",
    "if inflatox_mod_path not in sys.path:\n",
    "  sys.path.append(inflatox_mod_path)\n",
    "print(sys.path)\n",
    "from inflatox import SymbolicCalculation, Compiler"
   ]
  },
  {
   "cell_type": "code",
   "execution_count": 2,
   "metadata": {},
   "outputs": [
    {
     "data": {
      "text/latex": [
       "$\\displaystyle \\left[\\begin{matrix}1 & 0 & 0\\\\0 & φ^{2} & 0\\\\0 & 0 & φ^{2} \\sin^{2}{\\left(θ \\right)}\\end{matrix}\\right]$"
      ],
      "text/plain": [
       "⎡1  0       0     ⎤\n",
       "⎢                 ⎥\n",
       "⎢    2            ⎥\n",
       "⎢0  φ       0     ⎥\n",
       "⎢                 ⎥\n",
       "⎢        2    2   ⎥\n",
       "⎣0  0   φ ⋅sin (θ)⎦"
      ]
     },
     "metadata": {},
     "output_type": "display_data"
    }
   ],
   "source": [
    "sympy.init_printing()\n",
    "φ, θ, ψ = sympy.symbols('φ θ ψ')\n",
    "d = 3\n",
    "coords = [φ, θ, ψ]\n",
    "\n",
    "g = [[0 for _ in range(d)] for _ in range(d)]\n",
    "g[0][0] = 1\n",
    "g[1][1] = φ**2\n",
    "g[2][2] = (φ**2) * (sympy.sin(θ)**2)\n",
    "g = MetricTensor(g ,(φ, θ, ψ))\n",
    "display(g.tensor())"
   ]
  },
  {
   "cell_type": "code",
   "execution_count": 3,
   "metadata": {},
   "outputs": [
    {
     "data": {
      "image/png": "[encoded data removed]",
      "text/latex": [
       "$\\displaystyle V_{0} + \\frac{m^{2} \\left(φ - φ_{0}\\right)^{2}}{2} - θ θ_{0} - ψ ψ_{0}$"
      ],
      "text/plain": [
       "      2         2              \n",
       "     m ⋅(φ - φ₀)               \n",
       "V₀ + ──────────── - θ⋅θ₀ - ψ⋅ψ₀\n",
       "          2                    "
      ]
     },
     "metadata": {},
     "output_type": "display_data"
    }
   ],
   "source": [
    "V0, m, φ0, θ0, ψ0 = sympy.symbols(\"V0 m φ0 θ0 ψ0\")\n",
    "V = (V0 + 1/2 * m**2 * (φ - φ0)**2 - θ*θ0 - ψ*ψ0).nsimplify()\n",
    "display(V)"
   ]
  },
  {
   "cell_type": "code",
   "execution_count": 4,
   "metadata": {},
   "outputs": [
    {
     "name": "stdout",
     "output_type": "stream",
     "text": [
      "Calculating orthonormal basis...\n"
     ]
    },
    {
     "data": {
      "text/latex": [
       "$\\displaystyle v_0=\\left[ \\frac{2 m^{2} \\left(φ - φ_{0}\\right)}{\\sqrt{4 m^{4} φ^{2} - 8 m^{4} φ φ_{0} + 4 m^{4} φ_{0}^{2} + θ_{0}^{2} φ^{2} + 2 θ_{0}^{2} + \\frac{θ_{0}^{2}}{φ^{2}} + φ^{2} ψ_{0}^{2} \\sin^{2}{\\left(θ \\right)} + 2 ψ_{0}^{2} + \\frac{ψ_{0}^{2}}{φ^{2} \\sin^{2}{\\left(θ \\right)}}}}, \\  - \\frac{θ_{0} \\left(φ^{2} + 1\\right)}{φ^{2} \\sqrt{4 m^{4} φ^{2} - 8 m^{4} φ φ_{0} + 4 m^{4} φ_{0}^{2} + θ_{0}^{2} φ^{2} + 2 θ_{0}^{2} + \\frac{θ_{0}^{2}}{φ^{2}} + φ^{2} ψ_{0}^{2} \\sin^{2}{\\left(θ \\right)} + 2 ψ_{0}^{2} + \\frac{ψ_{0}^{2}}{φ^{2} \\sin^{2}{\\left(θ \\right)}}}}, \\  - \\frac{ψ_{0} \\left(φ^{2} + \\frac{1}{\\sin^{2}{\\left(θ \\right)}}\\right)}{φ^{2} \\sqrt{4 m^{4} φ^{2} - 8 m^{4} φ φ_{0} + 4 m^{4} φ_{0}^{2} + θ_{0}^{2} φ^{2} + 2 θ_{0}^{2} + \\frac{θ_{0}^{2}}{φ^{2}} + φ^{2} ψ_{0}^{2} \\sin^{2}{\\left(θ \\right)} + 2 ψ_{0}^{2} + \\frac{ψ_{0}^{2}}{φ^{2} \\sin^{2}{\\left(θ \\right)}}}}\\right]$"
      ],
      "text/plain": [
       "<IPython.core.display.Math object>"
      ]
     },
     "metadata": {},
     "output_type": "display_data"
    },
    {
     "data": {
      "text/latex": [
       "$\\displaystyle v_1=\\left[ \\frac{2 m^{2} \\left(φ - φ_{0}\\right)}{\\sqrt{4 m^{4} φ^{2} - 8 m^{4} φ φ_{0} + 4 m^{4} φ_{0}^{2} + θ_{0}^{2} φ^{2} + 2 θ_{0}^{2} + \\frac{θ_{0}^{2}}{φ^{2}} + φ^{2} ψ_{0}^{2} \\sin^{2}{\\left(θ \\right)} + 2 ψ_{0}^{2} + \\frac{ψ_{0}^{2}}{φ^{2} \\sin^{2}{\\left(θ \\right)}}}}, \\  - \\frac{θ_{0} \\left(φ^{2} + 1\\right)}{φ^{2} \\sqrt{4 m^{4} φ^{2} - 8 m^{4} φ φ_{0} + 4 m^{4} φ_{0}^{2} + θ_{0}^{2} φ^{2} + 2 θ_{0}^{2} + \\frac{θ_{0}^{2}}{φ^{2}} + φ^{2} ψ_{0}^{2} \\sin^{2}{\\left(θ \\right)} + 2 ψ_{0}^{2} + \\frac{ψ_{0}^{2}}{φ^{2} \\sin^{2}{\\left(θ \\right)}}}}, \\  - \\frac{ψ_{0} \\left(φ^{2} + \\frac{1}{\\sin^{2}{\\left(θ \\right)}}\\right)}{φ^{2} \\sqrt{4 m^{4} φ^{2} - 8 m^{4} φ φ_{0} + 4 m^{4} φ_{0}^{2} + θ_{0}^{2} φ^{2} + 2 θ_{0}^{2} + \\frac{θ_{0}^{2}}{φ^{2}} + φ^{2} ψ_{0}^{2} \\sin^{2}{\\left(θ \\right)} + 2 ψ_{0}^{2} + \\frac{ψ_{0}^{2}}{φ^{2} \\sin^{2}{\\left(θ \\right)}}}}\\right]$"
      ],
      "text/plain": [
       "<IPython.core.display.Math object>"
      ]
     },
     "metadata": {},
     "output_type": "display_data"
    },
    {
     "data": {
      "text/latex": [
       "$\\displaystyle v_2=\\left[ \\frac{2 m^{2} θ_{0} φ \\left(φ - φ_{0}\\right) \\left(φ^{2} + 1\\right) \\sin^{2}{\\left(θ \\right)}}{\\sqrt{\\frac{4 m^{4} φ^{4} \\sin^{2}{\\left(θ \\right)} - 8 m^{4} φ^{3} φ_{0} \\sin^{2}{\\left(θ \\right)} + 4 m^{4} φ^{2} φ_{0}^{2} \\sin^{2}{\\left(θ \\right)} + φ^{4} ψ_{0}^{2} \\sin^{4}{\\left(θ \\right)} + 2 φ^{2} ψ_{0}^{2} \\sin^{2}{\\left(θ \\right)} + ψ_{0}^{2}}{4 m^{4} φ^{4} \\sin^{2}{\\left(θ \\right)} - 8 m^{4} φ^{3} φ_{0} \\sin^{2}{\\left(θ \\right)} + 4 m^{4} φ^{2} φ_{0}^{2} \\sin^{2}{\\left(θ \\right)} + θ_{0}^{2} φ^{4} \\sin^{2}{\\left(θ \\right)} + 2 θ_{0}^{2} φ^{2} \\sin^{2}{\\left(θ \\right)} + θ_{0}^{2} \\sin^{2}{\\left(θ \\right)} + φ^{4} ψ_{0}^{2} \\sin^{4}{\\left(θ \\right)} + 2 φ^{2} ψ_{0}^{2} \\sin^{2}{\\left(θ \\right)} + ψ_{0}^{2}}} \\left(θ_{0}^{2} \\sin^{2}{\\left(θ \\right)} + φ^{2} \\cdot \\left(4 m^{4} φ^{2} - 8 m^{4} φ φ_{0} + 4 m^{4} φ_{0}^{2} + θ_{0}^{2} φ^{2} + 2 θ_{0}^{2} + φ^{2} ψ_{0}^{2} \\sin^{2}{\\left(θ \\right)} + 2 ψ_{0}^{2}\\right) \\sin^{2}{\\left(θ \\right)} + ψ_{0}^{2}\\right)}, \\  \\frac{- θ_{0}^{2} \\left(φ^{2} + 1\\right)^{2} \\sin^{2}{\\left(θ \\right)} + θ_{0}^{2} \\sin^{2}{\\left(θ \\right)} + φ^{2} \\cdot \\left(4 m^{4} φ^{2} - 8 m^{4} φ φ_{0} + 4 m^{4} φ_{0}^{2} + θ_{0}^{2} φ^{2} + 2 θ_{0}^{2} + φ^{2} ψ_{0}^{2} \\sin^{2}{\\left(θ \\right)} + 2 ψ_{0}^{2}\\right) \\sin^{2}{\\left(θ \\right)} + ψ_{0}^{2}}{φ \\sqrt{\\frac{4 m^{4} φ^{4} \\sin^{2}{\\left(θ \\right)} - 8 m^{4} φ^{3} φ_{0} \\sin^{2}{\\left(θ \\right)} + 4 m^{4} φ^{2} φ_{0}^{2} \\sin^{2}{\\left(θ \\right)} + φ^{4} ψ_{0}^{2} \\sin^{4}{\\left(θ \\right)} + 2 φ^{2} ψ_{0}^{2} \\sin^{2}{\\left(θ \\right)} + ψ_{0}^{2}}{4 m^{4} φ^{4} \\sin^{2}{\\left(θ \\right)} - 8 m^{4} φ^{3} φ_{0} \\sin^{2}{\\left(θ \\right)} + 4 m^{4} φ^{2} φ_{0}^{2} \\sin^{2}{\\left(θ \\right)} + θ_{0}^{2} φ^{4} \\sin^{2}{\\left(θ \\right)} + 2 θ_{0}^{2} φ^{2} \\sin^{2}{\\left(θ \\right)} + θ_{0}^{2} \\sin^{2}{\\left(θ \\right)} + φ^{4} ψ_{0}^{2} \\sin^{4}{\\left(θ \\right)} + 2 φ^{2} ψ_{0}^{2} \\sin^{2}{\\left(θ \\right)} + ψ_{0}^{2}}} \\left(θ_{0}^{2} \\sin^{2}{\\left(θ \\right)} + φ^{2} \\cdot \\left(4 m^{4} φ^{2} - 8 m^{4} φ φ_{0} + 4 m^{4} φ_{0}^{2} + θ_{0}^{2} φ^{2} + 2 θ_{0}^{2} + φ^{2} ψ_{0}^{2} \\sin^{2}{\\left(θ \\right)} + 2 ψ_{0}^{2}\\right) \\sin^{2}{\\left(θ \\right)} + ψ_{0}^{2}\\right)}, \\  - \\frac{θ_{0} ψ_{0} \\left(φ^{2} + 1\\right) \\left(φ^{2} \\sin^{2}{\\left(θ \\right)} + 1\\right)}{φ \\sqrt{\\frac{4 m^{4} φ^{4} \\sin^{2}{\\left(θ \\right)} - 8 m^{4} φ^{3} φ_{0} \\sin^{2}{\\left(θ \\right)} + 4 m^{4} φ^{2} φ_{0}^{2} \\sin^{2}{\\left(θ \\right)} + φ^{4} ψ_{0}^{2} \\sin^{4}{\\left(θ \\right)} + 2 φ^{2} ψ_{0}^{2} \\sin^{2}{\\left(θ \\right)} + ψ_{0}^{2}}{4 m^{4} φ^{4} \\sin^{2}{\\left(θ \\right)} - 8 m^{4} φ^{3} φ_{0} \\sin^{2}{\\left(θ \\right)} + 4 m^{4} φ^{2} φ_{0}^{2} \\sin^{2}{\\left(θ \\right)} + θ_{0}^{2} φ^{4} \\sin^{2}{\\left(θ \\right)} + 2 θ_{0}^{2} φ^{2} \\sin^{2}{\\left(θ \\right)} + θ_{0}^{2} \\sin^{2}{\\left(θ \\right)} + φ^{4} ψ_{0}^{2} \\sin^{4}{\\left(θ \\right)} + 2 φ^{2} ψ_{0}^{2} \\sin^{2}{\\left(θ \\right)} + ψ_{0}^{2}}} \\left(θ_{0}^{2} \\sin^{2}{\\left(θ \\right)} + φ^{2} \\cdot \\left(4 m^{4} φ^{2} - 8 m^{4} φ φ_{0} + 4 m^{4} φ_{0}^{2} + θ_{0}^{2} φ^{2} + 2 θ_{0}^{2} + φ^{2} ψ_{0}^{2} \\sin^{2}{\\left(θ \\right)} + 2 ψ_{0}^{2}\\right) \\sin^{2}{\\left(θ \\right)} + ψ_{0}^{2}\\right)}\\right]$"
      ],
      "text/plain": [
       "<IPython.core.display.Math object>"
      ]
     },
     "metadata": {},
     "output_type": "display_data"
    },
    {
     "name": "stdout",
     "output_type": "stream",
     "text": [
      "Calculating covariant Hesse matrix...\n"
     ]
    },
    {
     "data": {
      "text/latex": [
       "$\\displaystyle H=\\left[\\begin{matrix}m^{2} & \\frac{θ_{0}}{φ} & \\frac{ψ_{0}}{φ}\\\\\\frac{θ_{0}}{φ} & m^{2} φ \\left(φ - φ_{0}\\right) & \\frac{ψ_{0}}{\\tan{\\left(θ \\right)}}\\\\\\frac{ψ_{0}}{φ} & \\frac{ψ_{0}}{\\tan{\\left(θ \\right)}} & \\left(m^{2} φ \\left(φ - φ_{0}\\right) \\sin{\\left(θ \\right)} - θ_{0} \\cos{\\left(θ \\right)}\\right) \\sin{\\left(θ \\right)}\\end{matrix}\\right]$"
      ],
      "text/plain": [
       "<IPython.core.display.Math object>"
      ]
     },
     "metadata": {},
     "output_type": "display_data"
    },
    {
     "name": "stdout",
     "output_type": "stream",
     "text": [
      "Projecting the Hesse matrix on the vielbein basis...\n"
     ]
    },
    {
     "data": {
      "text/latex": [
       "$\\displaystyle H_{00}=\\frac{m^{2} φ \\left(φ - φ_{0}\\right) \\left(m^{4} φ^{3} \\cdot \\left(4 φ - 4 φ_{0}\\right) \\sin^{2}{\\left(θ \\right)} + θ_{0}^{2} \\left(- 4 φ^{2} - 4\\right) \\sin^{2}{\\left(θ \\right)} + θ_{0}^{2} \\left(φ^{2} + 1\\right)^{2} \\sin^{2}{\\left(θ \\right)} + ψ_{0}^{2} \\left(- 4 φ^{2} \\sin^{2}{\\left(θ \\right)} - 4\\right)\\right) \\sin{\\left(θ \\right)} \\tan{\\left(θ \\right)} + 2 θ_{0} ψ_{0}^{2} \\left(φ^{2} + 1\\right) \\left(φ^{2} \\sin^{3}{\\left(θ \\right)} + \\sin{\\left(θ \\right)}\\right) + ψ_{0}^{2} \\left(φ^{2} \\sin^{2}{\\left(θ \\right)} + 1\\right)^{2} \\left(m^{2} φ \\left(φ - φ_{0}\\right) \\sin{\\left(θ \\right)} - θ_{0} \\cos{\\left(θ \\right)}\\right) \\tan{\\left(θ \\right)}}{φ^{2} \\left(θ_{0}^{2} \\sin^{2}{\\left(θ \\right)} + φ^{2} \\cdot \\left(4 m^{4} φ^{2} - 8 m^{4} φ φ_{0} + 4 m^{4} φ_{0}^{2} + θ_{0}^{2} φ^{2} + 2 θ_{0}^{2} + φ^{2} ψ_{0}^{2} \\sin^{2}{\\left(θ \\right)} + 2 ψ_{0}^{2}\\right) \\sin^{2}{\\left(θ \\right)} + ψ_{0}^{2}\\right) \\sin{\\left(θ \\right)} \\tan{\\left(θ \\right)}}$"
      ],
      "text/plain": [
       "<IPython.core.display.Math object>"
      ]
     },
     "metadata": {},
     "output_type": "display_data"
    },
    {
     "data": {
      "text/latex": [
       "$\\displaystyle H_{01}=\\frac{\\left(θ_{0}^{2} \\sin^{2}{\\left(θ \\right)} + φ^{2} \\cdot \\left(4 m^{4} φ^{2} - 8 m^{4} φ φ_{0} + 4 m^{4} φ_{0}^{2} + θ_{0}^{2} φ^{2} + 2 θ_{0}^{2} + φ^{2} ψ_{0}^{2} \\sin^{2}{\\left(θ \\right)} + 2 ψ_{0}^{2}\\right) \\sin^{2}{\\left(θ \\right)} + ψ_{0}^{2}\\right) \\left(4 m^{6} θ_{0} φ^{4} \\left(φ - φ_{0}\\right)^{2} \\left(φ^{2} + 1\\right) \\sin^{4}{\\left(θ \\right)} \\tan{\\left(θ \\right)} + m^{2} θ_{0} φ \\left(θ_{0}^{2} \\left(- 2 φ + 2 φ_{0}\\right) \\left(φ^{2} + 1\\right)^{2} \\sin^{2}{\\left(θ \\right)} - 4 ψ_{0}^{2} \\left(φ - φ_{0}\\right) \\left(φ^{2} + 1\\right) \\left(φ^{2} \\sin^{2}{\\left(θ \\right)} + 1\\right) - \\left(φ - φ_{0}\\right) \\left(φ^{2} + 1\\right) \\left(- θ_{0}^{2} \\left(φ^{2} + 1\\right)^{2} \\sin^{2}{\\left(θ \\right)} + θ_{0}^{2} \\sin^{2}{\\left(θ \\right)} + φ^{2} \\cdot \\left(4 m^{4} φ^{2} - 8 m^{4} φ φ_{0} + 4 m^{4} φ_{0}^{2} + θ_{0}^{2} φ^{2} + 2 θ_{0}^{2} + φ^{2} ψ_{0}^{2} \\sin^{2}{\\left(θ \\right)} + 2 ψ_{0}^{2}\\right) \\sin^{2}{\\left(θ \\right)} + ψ_{0}^{2}\\right) + \\left(2 φ - 2 φ_{0}\\right) \\left(- θ_{0}^{2} \\left(φ^{2} + 1\\right)^{2} \\sin^{2}{\\left(θ \\right)} + θ_{0}^{2} \\sin^{2}{\\left(θ \\right)} + φ^{2} \\cdot \\left(4 m^{4} φ^{2} - 8 m^{4} φ φ_{0} + 4 m^{4} φ_{0}^{2} + θ_{0}^{2} φ^{2} + 2 θ_{0}^{2} + φ^{2} ψ_{0}^{2} \\sin^{2}{\\left(θ \\right)} + 2 ψ_{0}^{2}\\right) \\sin^{2}{\\left(θ \\right)} + ψ_{0}^{2}\\right)\\right) \\sin^{2}{\\left(θ \\right)} \\tan{\\left(θ \\right)} + θ_{0}^{2} ψ_{0}^{2} \\left(φ^{2} + 1\\right)^{2} \\left(φ^{2} \\sin^{4}{\\left(θ \\right)} + \\sin^{2}{\\left(θ \\right)}\\right) + θ_{0} ψ_{0}^{2} \\left(φ^{2} + 1\\right) \\left(φ^{2} \\sin^{2}{\\left(θ \\right)} + 1\\right)^{2} \\left(m^{2} φ \\left(φ - φ_{0}\\right) \\sin{\\left(θ \\right)} - θ_{0} \\cos{\\left(θ \\right)}\\right) \\sin{\\left(θ \\right)} \\tan{\\left(θ \\right)} - ψ_{0}^{2} \\left(φ^{2} \\sin^{2}{\\left(θ \\right)} + 1\\right) \\left(- θ_{0}^{2} \\left(φ^{2} + 1\\right)^{2} \\sin^{2}{\\left(θ \\right)} + θ_{0}^{2} \\sin^{2}{\\left(θ \\right)} + φ^{2} \\cdot \\left(4 m^{4} φ^{2} - 8 m^{4} φ φ_{0} + 4 m^{4} φ_{0}^{2} + θ_{0}^{2} φ^{2} + 2 θ_{0}^{2} + φ^{2} ψ_{0}^{2} \\sin^{2}{\\left(θ \\right)} + 2 ψ_{0}^{2}\\right) \\sin^{2}{\\left(θ \\right)} + ψ_{0}^{2}\\right)\\right) \\left(4 m^{4} φ^{4} \\sin^{2}{\\left(θ \\right)} - 8 m^{4} φ^{3} φ_{0} \\sin^{2}{\\left(θ \\right)} + 4 m^{4} φ^{2} φ_{0}^{2} \\sin^{2}{\\left(θ \\right)} + φ^{4} ψ_{0}^{2} \\sin^{4}{\\left(θ \\right)} + 2 φ^{2} ψ_{0}^{2} \\sin^{2}{\\left(θ \\right)} + ψ_{0}^{2}\\right)^{2}}{φ^{7} \\left(\\frac{4 m^{4} φ^{4} \\sin^{2}{\\left(θ \\right)} - 8 m^{4} φ^{3} φ_{0} \\sin^{2}{\\left(θ \\right)} + 4 m^{4} φ^{2} φ_{0}^{2} \\sin^{2}{\\left(θ \\right)} + φ^{4} ψ_{0}^{2} \\sin^{4}{\\left(θ \\right)} + 2 φ^{2} ψ_{0}^{2} \\sin^{2}{\\left(θ \\right)} + ψ_{0}^{2}}{4 m^{4} φ^{4} \\sin^{2}{\\left(θ \\right)} - 8 m^{4} φ^{3} φ_{0} \\sin^{2}{\\left(θ \\right)} + 4 m^{4} φ^{2} φ_{0}^{2} \\sin^{2}{\\left(θ \\right)} + θ_{0}^{2} φ^{4} \\sin^{2}{\\left(θ \\right)} + 2 θ_{0}^{2} φ^{2} \\sin^{2}{\\left(θ \\right)} + θ_{0}^{2} \\sin^{2}{\\left(θ \\right)} + φ^{4} ψ_{0}^{2} \\sin^{4}{\\left(θ \\right)} + 2 φ^{2} ψ_{0}^{2} \\sin^{2}{\\left(θ \\right)} + ψ_{0}^{2}}\\right)^{\\frac{5}{2}} \\left(4 m^{4} φ^{2} - 8 m^{4} φ φ_{0} + 4 m^{4} φ_{0}^{2} + θ_{0}^{2} φ^{2} + 2 θ_{0}^{2} + \\frac{θ_{0}^{2}}{φ^{2}} + φ^{2} ψ_{0}^{2} \\sin^{2}{\\left(θ \\right)} + 2 ψ_{0}^{2} + \\frac{ψ_{0}^{2}}{φ^{2} \\sin^{2}{\\left(θ \\right)}}\\right)^{\\frac{5}{2}} \\left(4 m^{4} φ^{4} \\sin^{2}{\\left(θ \\right)} - 8 m^{4} φ^{3} φ_{0} \\sin^{2}{\\left(θ \\right)} + 4 m^{4} φ^{2} φ_{0}^{2} \\sin^{2}{\\left(θ \\right)} + θ_{0}^{2} φ^{4} \\sin^{2}{\\left(θ \\right)} + 2 θ_{0}^{2} φ^{2} \\sin^{2}{\\left(θ \\right)} + θ_{0}^{2} \\sin^{2}{\\left(θ \\right)} + φ^{4} ψ_{0}^{2} \\sin^{4}{\\left(θ \\right)} + 2 φ^{2} ψ_{0}^{2} \\sin^{2}{\\left(θ \\right)} + ψ_{0}^{2}\\right)^{2} \\sin^{6}{\\left(θ \\right)} \\tan{\\left(θ \\right)}}$"
      ],
      "text/plain": [
       "<IPython.core.display.Math object>"
      ]
     },
     "metadata": {},
     "output_type": "display_data"
    },
    {
     "data": {
      "text/latex": [
       "$\\displaystyle H_{02}=\\frac{φ^{3} ψ_{0} \\cdot \\left(2 m^{4} φ^{3} \\left(φ - φ_{0}\\right) \\left(φ^{3} \\sin^{2}{\\left(θ \\right)} - φ^{2} φ_{0} \\sin^{2}{\\left(θ \\right)} + φ - φ_{0}\\right) \\sin^{2}{\\left(θ \\right)} \\tan{\\left(θ \\right)} + 4 m^{4} φ^{2} \\left(φ - φ_{0}\\right) \\left(φ^{2} - 2 φ φ_{0} + φ_{0}^{2}\\right) \\sin^{2}{\\left(θ \\right)} \\tan{\\left(θ \\right)} - 2 m^{2} θ_{0} φ \\left(φ^{2} + 1\\right) \\left(φ^{2} - 2 φ φ_{0} + φ_{0}^{2}\\right) \\sin^{2}{\\left(θ \\right)} - 2 m^{2} φ \\left(φ^{2} \\sin^{2}{\\left(θ \\right)} + 1\\right) \\left(m^{2} φ \\left(φ - φ_{0}\\right) \\sin{\\left(θ \\right)} - θ_{0} \\cos{\\left(θ \\right)}\\right) \\left(φ^{2} - 2 φ φ_{0} + φ_{0}^{2}\\right) \\sin{\\left(θ \\right)} \\tan{\\left(θ \\right)} - θ_{0}^{2} \\left(φ^{2} + 1\\right) \\left(φ^{3} \\sin^{2}{\\left(θ \\right)} - φ^{2} φ_{0} \\sin^{2}{\\left(θ \\right)} + φ - φ_{0}\\right) \\sin^{2}{\\left(θ \\right)} \\tan{\\left(θ \\right)} - ψ_{0}^{2} \\left(φ - φ_{0}\\right) \\left(φ^{2} \\sin^{2}{\\left(θ \\right)} + 1\\right)^{2} \\tan{\\left(θ \\right)}\\right) \\left(4 m^{4} φ^{2} - 8 m^{4} φ φ_{0} + 4 m^{4} φ_{0}^{2} + θ_{0}^{2} φ^{2} + 2 θ_{0}^{2} + \\frac{θ_{0}^{2}}{φ^{2}} + φ^{2} ψ_{0}^{2} \\sin^{2}{\\left(θ \\right)} + 2 ψ_{0}^{2} + \\frac{ψ_{0}^{2}}{φ^{2} \\sin^{2}{\\left(θ \\right)}}\\right)^{\\frac{5}{2}} \\sin^{4}{\\left(θ \\right)}}{\\left(θ_{0}^{2} \\sin^{2}{\\left(θ \\right)} + φ^{2} \\cdot \\left(4 m^{4} φ^{2} - 8 m^{4} φ φ_{0} + 4 m^{4} φ_{0}^{2} + θ_{0}^{2} φ^{2} + 2 θ_{0}^{2} + φ^{2} ψ_{0}^{2} \\sin^{2}{\\left(θ \\right)} + 2 ψ_{0}^{2}\\right) \\sin^{2}{\\left(θ \\right)} + ψ_{0}^{2}\\right)^{3} \\sqrt{4 m^{4} φ^{4} \\sin^{2}{\\left(θ \\right)} - 8 m^{4} φ^{3} φ_{0} \\sin^{2}{\\left(θ \\right)} + 4 m^{4} φ^{2} φ_{0}^{2} \\sin^{2}{\\left(θ \\right)} + φ^{4} ψ_{0}^{2} \\sin^{4}{\\left(θ \\right)} + 2 φ^{2} ψ_{0}^{2} \\sin^{2}{\\left(θ \\right)} + ψ_{0}^{2}} \\tan{\\left(θ \\right)} \\left|{φ - φ_{0}}\\right|}$"
      ],
      "text/plain": [
       "<IPython.core.display.Math object>"
      ]
     },
     "metadata": {},
     "output_type": "display_data"
    },
    {
     "data": {
      "text/latex": [
       "$\\displaystyle H_{10}=\\frac{\\left(θ_{0}^{2} \\sin^{2}{\\left(θ \\right)} + φ^{2} \\cdot \\left(4 m^{4} φ^{2} - 8 m^{4} φ φ_{0} + 4 m^{4} φ_{0}^{2} + θ_{0}^{2} φ^{2} + 2 θ_{0}^{2} + φ^{2} ψ_{0}^{2} \\sin^{2}{\\left(θ \\right)} + 2 ψ_{0}^{2}\\right) \\sin^{2}{\\left(θ \\right)} + ψ_{0}^{2}\\right) \\left(4 m^{6} θ_{0} φ^{4} \\left(φ - φ_{0}\\right)^{2} \\left(φ^{2} + 1\\right) \\sin^{4}{\\left(θ \\right)} \\tan{\\left(θ \\right)} + m^{2} θ_{0} φ \\left(θ_{0}^{2} \\left(- 2 φ + 2 φ_{0}\\right) \\left(φ^{2} + 1\\right)^{2} \\sin^{2}{\\left(θ \\right)} - 4 ψ_{0}^{2} \\left(φ - φ_{0}\\right) \\left(φ^{2} + 1\\right) \\left(φ^{2} \\sin^{2}{\\left(θ \\right)} + 1\\right) - \\left(φ - φ_{0}\\right) \\left(φ^{2} + 1\\right) \\left(- θ_{0}^{2} \\left(φ^{2} + 1\\right)^{2} \\sin^{2}{\\left(θ \\right)} + θ_{0}^{2} \\sin^{2}{\\left(θ \\right)} + φ^{2} \\cdot \\left(4 m^{4} φ^{2} - 8 m^{4} φ φ_{0} + 4 m^{4} φ_{0}^{2} + θ_{0}^{2} φ^{2} + 2 θ_{0}^{2} + φ^{2} ψ_{0}^{2} \\sin^{2}{\\left(θ \\right)} + 2 ψ_{0}^{2}\\right) \\sin^{2}{\\left(θ \\right)} + ψ_{0}^{2}\\right) + \\left(2 φ - 2 φ_{0}\\right) \\left(- θ_{0}^{2} \\left(φ^{2} + 1\\right)^{2} \\sin^{2}{\\left(θ \\right)} + θ_{0}^{2} \\sin^{2}{\\left(θ \\right)} + φ^{2} \\cdot \\left(4 m^{4} φ^{2} - 8 m^{4} φ φ_{0} + 4 m^{4} φ_{0}^{2} + θ_{0}^{2} φ^{2} + 2 θ_{0}^{2} + φ^{2} ψ_{0}^{2} \\sin^{2}{\\left(θ \\right)} + 2 ψ_{0}^{2}\\right) \\sin^{2}{\\left(θ \\right)} + ψ_{0}^{2}\\right)\\right) \\sin^{2}{\\left(θ \\right)} \\tan{\\left(θ \\right)} + θ_{0}^{2} ψ_{0}^{2} \\left(φ^{2} + 1\\right)^{2} \\left(φ^{2} \\sin^{4}{\\left(θ \\right)} + \\sin^{2}{\\left(θ \\right)}\\right) + θ_{0} ψ_{0}^{2} \\left(φ^{2} + 1\\right) \\left(φ^{2} \\sin^{2}{\\left(θ \\right)} + 1\\right)^{2} \\left(m^{2} φ \\left(φ - φ_{0}\\right) \\sin{\\left(θ \\right)} - θ_{0} \\cos{\\left(θ \\right)}\\right) \\sin{\\left(θ \\right)} \\tan{\\left(θ \\right)} - ψ_{0}^{2} \\left(φ^{2} \\sin^{2}{\\left(θ \\right)} + 1\\right) \\left(- θ_{0}^{2} \\left(φ^{2} + 1\\right)^{2} \\sin^{2}{\\left(θ \\right)} + θ_{0}^{2} \\sin^{2}{\\left(θ \\right)} + φ^{2} \\cdot \\left(4 m^{4} φ^{2} - 8 m^{4} φ φ_{0} + 4 m^{4} φ_{0}^{2} + θ_{0}^{2} φ^{2} + 2 θ_{0}^{2} + φ^{2} ψ_{0}^{2} \\sin^{2}{\\left(θ \\right)} + 2 ψ_{0}^{2}\\right) \\sin^{2}{\\left(θ \\right)} + ψ_{0}^{2}\\right)\\right) \\left(4 m^{4} φ^{4} \\sin^{2}{\\left(θ \\right)} - 8 m^{4} φ^{3} φ_{0} \\sin^{2}{\\left(θ \\right)} + 4 m^{4} φ^{2} φ_{0}^{2} \\sin^{2}{\\left(θ \\right)} + φ^{4} ψ_{0}^{2} \\sin^{4}{\\left(θ \\right)} + 2 φ^{2} ψ_{0}^{2} \\sin^{2}{\\left(θ \\right)} + ψ_{0}^{2}\\right)^{2}}{φ^{7} \\left(\\frac{4 m^{4} φ^{4} \\sin^{2}{\\left(θ \\right)} - 8 m^{4} φ^{3} φ_{0} \\sin^{2}{\\left(θ \\right)} + 4 m^{4} φ^{2} φ_{0}^{2} \\sin^{2}{\\left(θ \\right)} + φ^{4} ψ_{0}^{2} \\sin^{4}{\\left(θ \\right)} + 2 φ^{2} ψ_{0}^{2} \\sin^{2}{\\left(θ \\right)} + ψ_{0}^{2}}{4 m^{4} φ^{4} \\sin^{2}{\\left(θ \\right)} - 8 m^{4} φ^{3} φ_{0} \\sin^{2}{\\left(θ \\right)} + 4 m^{4} φ^{2} φ_{0}^{2} \\sin^{2}{\\left(θ \\right)} + θ_{0}^{2} φ^{4} \\sin^{2}{\\left(θ \\right)} + 2 θ_{0}^{2} φ^{2} \\sin^{2}{\\left(θ \\right)} + θ_{0}^{2} \\sin^{2}{\\left(θ \\right)} + φ^{4} ψ_{0}^{2} \\sin^{4}{\\left(θ \\right)} + 2 φ^{2} ψ_{0}^{2} \\sin^{2}{\\left(θ \\right)} + ψ_{0}^{2}}\\right)^{\\frac{5}{2}} \\left(4 m^{4} φ^{2} - 8 m^{4} φ φ_{0} + 4 m^{4} φ_{0}^{2} + θ_{0}^{2} φ^{2} + 2 θ_{0}^{2} + \\frac{θ_{0}^{2}}{φ^{2}} + φ^{2} ψ_{0}^{2} \\sin^{2}{\\left(θ \\right)} + 2 ψ_{0}^{2} + \\frac{ψ_{0}^{2}}{φ^{2} \\sin^{2}{\\left(θ \\right)}}\\right)^{\\frac{5}{2}} \\left(4 m^{4} φ^{4} \\sin^{2}{\\left(θ \\right)} - 8 m^{4} φ^{3} φ_{0} \\sin^{2}{\\left(θ \\right)} + 4 m^{4} φ^{2} φ_{0}^{2} \\sin^{2}{\\left(θ \\right)} + θ_{0}^{2} φ^{4} \\sin^{2}{\\left(θ \\right)} + 2 θ_{0}^{2} φ^{2} \\sin^{2}{\\left(θ \\right)} + θ_{0}^{2} \\sin^{2}{\\left(θ \\right)} + φ^{4} ψ_{0}^{2} \\sin^{4}{\\left(θ \\right)} + 2 φ^{2} ψ_{0}^{2} \\sin^{2}{\\left(θ \\right)} + ψ_{0}^{2}\\right)^{2} \\sin^{6}{\\left(θ \\right)} \\tan{\\left(θ \\right)}}$"
      ],
      "text/plain": [
       "<IPython.core.display.Math object>"
      ]
     },
     "metadata": {},
     "output_type": "display_data"
    },
    {
     "data": {
      "text/latex": [
       "$\\displaystyle H_{11}=\\frac{\\left(4 m^{6} θ_{0}^{2} φ^{4} \\left(φ - φ_{0}\\right)^{2} \\left(φ^{2} + 1\\right)^{2} \\sin^{4}{\\left(θ \\right)} \\tan{\\left(θ \\right)} + m^{2} φ \\left(φ - φ_{0}\\right) \\left(θ_{0}^{2} ψ_{0}^{2} \\left(φ^{2} + 1\\right)^{2} \\left(- 4 φ^{2} \\sin^{4}{\\left(θ \\right)} - 4 \\sin^{2}{\\left(θ \\right)}\\right) + 4 θ_{0}^{2} \\left(φ^{2} + 1\\right) \\left(- θ_{0}^{2} \\left(φ^{2} + 1\\right)^{2} \\sin^{2}{\\left(θ \\right)} + θ_{0}^{2} \\sin^{2}{\\left(θ \\right)} + φ^{2} \\cdot \\left(4 m^{4} φ^{2} - 8 m^{4} φ φ_{0} + 4 m^{4} φ_{0}^{2} + θ_{0}^{2} φ^{2} + 2 θ_{0}^{2} + φ^{2} ψ_{0}^{2} \\sin^{2}{\\left(θ \\right)} + 2 ψ_{0}^{2}\\right) \\sin^{2}{\\left(θ \\right)} + ψ_{0}^{2}\\right) \\sin^{2}{\\left(θ \\right)} + \\left(- θ_{0}^{2} \\left(φ^{2} + 1\\right)^{2} \\sin^{2}{\\left(θ \\right)} + θ_{0}^{2} \\sin^{2}{\\left(θ \\right)} + φ^{2} \\cdot \\left(4 m^{4} φ^{2} - 8 m^{4} φ φ_{0} + 4 m^{4} φ_{0}^{2} + θ_{0}^{2} φ^{2} + 2 θ_{0}^{2} + φ^{2} ψ_{0}^{2} \\sin^{2}{\\left(θ \\right)} + 2 ψ_{0}^{2}\\right) \\sin^{2}{\\left(θ \\right)} + ψ_{0}^{2}\\right)^{2}\\right) \\tan{\\left(θ \\right)} + θ_{0}^{2} ψ_{0}^{2} \\left(φ^{2} + 1\\right)^{2} \\left(φ^{2} \\sin^{2}{\\left(θ \\right)} + 1\\right)^{2} \\left(m^{2} φ \\left(φ - φ_{0}\\right) \\sin{\\left(θ \\right)} - θ_{0} \\cos{\\left(θ \\right)}\\right) \\sin{\\left(θ \\right)} \\tan{\\left(θ \\right)} - 2 θ_{0} ψ_{0}^{2} \\left(φ^{2} + 1\\right) \\left(φ^{2} \\sin^{2}{\\left(θ \\right)} + 1\\right) \\left(- θ_{0}^{2} \\left(φ^{2} + 1\\right)^{2} \\sin^{2}{\\left(θ \\right)} + θ_{0}^{2} \\sin^{2}{\\left(θ \\right)} + φ^{2} \\cdot \\left(4 m^{4} φ^{2} - 8 m^{4} φ φ_{0} + 4 m^{4} φ_{0}^{2} + θ_{0}^{2} φ^{2} + 2 θ_{0}^{2} + φ^{2} ψ_{0}^{2} \\sin^{2}{\\left(θ \\right)} + 2 ψ_{0}^{2}\\right) \\sin^{2}{\\left(θ \\right)} + ψ_{0}^{2}\\right)\\right) \\left(4 m^{4} φ^{4} \\sin^{2}{\\left(θ \\right)} - 8 m^{4} φ^{3} φ_{0} \\sin^{2}{\\left(θ \\right)} + 4 m^{4} φ^{2} φ_{0}^{2} \\sin^{2}{\\left(θ \\right)} + θ_{0}^{2} φ^{4} \\sin^{2}{\\left(θ \\right)} + 2 θ_{0}^{2} φ^{2} \\sin^{2}{\\left(θ \\right)} + θ_{0}^{2} \\sin^{2}{\\left(θ \\right)} + φ^{4} ψ_{0}^{2} \\sin^{4}{\\left(θ \\right)} + 2 φ^{2} ψ_{0}^{2} \\sin^{2}{\\left(θ \\right)} + ψ_{0}^{2}\\right)}{φ^{2} \\left(θ_{0}^{2} \\sin^{2}{\\left(θ \\right)} + φ^{2} \\cdot \\left(4 m^{4} φ^{2} - 8 m^{4} φ φ_{0} + 4 m^{4} φ_{0}^{2} + θ_{0}^{2} φ^{2} + 2 θ_{0}^{2} + φ^{2} ψ_{0}^{2} \\sin^{2}{\\left(θ \\right)} + 2 ψ_{0}^{2}\\right) \\sin^{2}{\\left(θ \\right)} + ψ_{0}^{2}\\right)^{2} \\cdot \\left(4 m^{4} φ^{4} \\sin^{2}{\\left(θ \\right)} - 8 m^{4} φ^{3} φ_{0} \\sin^{2}{\\left(θ \\right)} + 4 m^{4} φ^{2} φ_{0}^{2} \\sin^{2}{\\left(θ \\right)} + φ^{4} ψ_{0}^{2} \\sin^{4}{\\left(θ \\right)} + 2 φ^{2} ψ_{0}^{2} \\sin^{2}{\\left(θ \\right)} + ψ_{0}^{2}\\right) \\tan{\\left(θ \\right)}}$"
      ],
      "text/plain": [
       "<IPython.core.display.Math object>"
      ]
     },
     "metadata": {},
     "output_type": "display_data"
    },
    {
     "data": {
      "text/latex": [
       "$\\displaystyle H_{12}=\\frac{ψ_{0} \\left(\\frac{4 m^{4} φ^{4} \\sin^{2}{\\left(θ \\right)} - 8 m^{4} φ^{3} φ_{0} \\sin^{2}{\\left(θ \\right)} + 4 m^{4} φ^{2} φ_{0}^{2} \\sin^{2}{\\left(θ \\right)} + φ^{4} ψ_{0}^{2} \\sin^{4}{\\left(θ \\right)} + 2 φ^{2} ψ_{0}^{2} \\sin^{2}{\\left(θ \\right)} + ψ_{0}^{2}}{4 m^{4} φ^{4} \\sin^{2}{\\left(θ \\right)} - 8 m^{4} φ^{3} φ_{0} \\sin^{2}{\\left(θ \\right)} + 4 m^{4} φ^{2} φ_{0}^{2} \\sin^{2}{\\left(θ \\right)} + θ_{0}^{2} φ^{4} \\sin^{2}{\\left(θ \\right)} + 2 θ_{0}^{2} φ^{2} \\sin^{2}{\\left(θ \\right)} + θ_{0}^{2} \\sin^{2}{\\left(θ \\right)} + φ^{4} ψ_{0}^{2} \\sin^{4}{\\left(θ \\right)} + 2 φ^{2} ψ_{0}^{2} \\sin^{2}{\\left(θ \\right)} + ψ_{0}^{2}}\\right)^{\\frac{3}{2}} \\cdot \\left(2 m^{4} θ_{0} φ^{2} \\left(φ - φ_{0}\\right) \\left(φ^{2} + 1\\right) \\left(φ^{4} \\sin^{2}{\\left(θ \\right)} - φ^{3} φ_{0} \\sin^{2}{\\left(θ \\right)} + 3 φ^{2} - 5 φ φ_{0} + 2 φ_{0}^{2}\\right) \\sin^{2}{\\left(θ \\right)} \\tan{\\left(θ \\right)} - 2 m^{2} θ_{0} φ \\left(φ^{2} + 1\\right) \\left(φ^{2} \\sin^{2}{\\left(θ \\right)} + 1\\right) \\left(m^{2} φ \\left(φ - φ_{0}\\right) \\sin{\\left(θ \\right)} - θ_{0} \\cos{\\left(θ \\right)}\\right) \\left(φ^{2} - 2 φ φ_{0} + φ_{0}^{2}\\right) \\sin{\\left(θ \\right)} \\tan{\\left(θ \\right)} + 2 m^{2} φ \\left(φ^{2} - 2 φ φ_{0} + φ_{0}^{2}\\right) \\left(- θ_{0}^{2} \\left(φ^{2} + 1\\right)^{2} \\sin^{2}{\\left(θ \\right)} + θ_{0}^{2} \\sin^{2}{\\left(θ \\right)} + φ^{2} \\cdot \\left(4 m^{4} φ^{2} - 8 m^{4} φ φ_{0} + 4 m^{4} φ_{0}^{2} + θ_{0}^{2} φ^{2} + 2 θ_{0}^{2} + φ^{2} ψ_{0}^{2} \\sin^{2}{\\left(θ \\right)} + 2 ψ_{0}^{2}\\right) \\sin^{2}{\\left(θ \\right)} + ψ_{0}^{2}\\right) + θ_{0} \\left(φ^{3} \\sin^{2}{\\left(θ \\right)} - φ^{2} φ_{0} \\sin^{2}{\\left(θ \\right)} + φ - φ_{0}\\right) \\left(- θ_{0}^{2} \\left(φ^{2} + 1\\right)^{2} \\sin^{2}{\\left(θ \\right)} + θ_{0}^{2} \\sin^{2}{\\left(θ \\right)} + φ^{2} \\cdot \\left(4 m^{4} φ^{2} - 8 m^{4} φ φ_{0} + 4 m^{4} φ_{0}^{2} + θ_{0}^{2} φ^{2} + 2 θ_{0}^{2} + φ^{2} ψ_{0}^{2} \\sin^{2}{\\left(θ \\right)} + 2 ψ_{0}^{2}\\right) \\sin^{2}{\\left(θ \\right)} - ψ_{0}^{2} \\left(φ^{2} + 1\\right) \\left(φ^{2} \\sin^{2}{\\left(θ \\right)} + 1\\right) + ψ_{0}^{2}\\right) \\tan{\\left(θ \\right)}\\right) \\left(4 m^{4} φ^{4} \\sin^{2}{\\left(θ \\right)} - 8 m^{4} φ^{3} φ_{0} \\sin^{2}{\\left(θ \\right)} + 4 m^{4} φ^{2} φ_{0}^{2} \\sin^{2}{\\left(θ \\right)} + θ_{0}^{2} φ^{4} \\sin^{2}{\\left(θ \\right)} + 2 θ_{0}^{2} φ^{2} \\sin^{2}{\\left(θ \\right)} + θ_{0}^{2} \\sin^{2}{\\left(θ \\right)} + φ^{4} ψ_{0}^{2} \\sin^{4}{\\left(θ \\right)} + 2 φ^{2} ψ_{0}^{2} \\sin^{2}{\\left(θ \\right)} + ψ_{0}^{2}\\right)^{2}}{φ^{2} \\left(θ_{0}^{2} \\sin^{2}{\\left(θ \\right)} + φ^{2} \\cdot \\left(4 m^{4} φ^{2} - 8 m^{4} φ φ_{0} + 4 m^{4} φ_{0}^{2} + θ_{0}^{2} φ^{2} + 2 θ_{0}^{2} + φ^{2} ψ_{0}^{2} \\sin^{2}{\\left(θ \\right)} + 2 ψ_{0}^{2}\\right) \\sin^{2}{\\left(θ \\right)} + ψ_{0}^{2}\\right) \\left(4 m^{4} φ^{4} \\sin^{2}{\\left(θ \\right)} - 8 m^{4} φ^{3} φ_{0} \\sin^{2}{\\left(θ \\right)} + 4 m^{4} φ^{2} φ_{0}^{2} \\sin^{2}{\\left(θ \\right)} + φ^{4} ψ_{0}^{2} \\sin^{4}{\\left(θ \\right)} + 2 φ^{2} ψ_{0}^{2} \\sin^{2}{\\left(θ \\right)} + ψ_{0}^{2}\\right)^{\\frac{5}{2}} \\tan{\\left(θ \\right)} \\left|{φ - φ_{0}}\\right|}$"
      ],
      "text/plain": [
       "<IPython.core.display.Math object>"
      ]
     },
     "metadata": {},
     "output_type": "display_data"
    },
    {
     "data": {
      "text/latex": [
       "$\\displaystyle H_{20}=\\frac{φ^{3} ψ_{0} \\cdot \\left(2 m^{4} φ^{3} \\left(φ - φ_{0}\\right) \\left(φ^{3} \\sin^{2}{\\left(θ \\right)} - φ^{2} φ_{0} \\sin^{2}{\\left(θ \\right)} + φ - φ_{0}\\right) \\sin^{2}{\\left(θ \\right)} \\tan{\\left(θ \\right)} + 4 m^{4} φ^{2} \\left(φ - φ_{0}\\right) \\left(φ^{2} - 2 φ φ_{0} + φ_{0}^{2}\\right) \\sin^{2}{\\left(θ \\right)} \\tan{\\left(θ \\right)} - 2 m^{2} θ_{0} φ \\left(φ^{2} + 1\\right) \\left(φ^{2} - 2 φ φ_{0} + φ_{0}^{2}\\right) \\sin^{2}{\\left(θ \\right)} - 2 m^{2} φ \\left(φ^{2} \\sin^{2}{\\left(θ \\right)} + 1\\right) \\left(m^{2} φ \\left(φ - φ_{0}\\right) \\sin{\\left(θ \\right)} - θ_{0} \\cos{\\left(θ \\right)}\\right) \\left(φ^{2} - 2 φ φ_{0} + φ_{0}^{2}\\right) \\sin{\\left(θ \\right)} \\tan{\\left(θ \\right)} - θ_{0}^{2} \\left(φ^{2} + 1\\right) \\left(φ^{3} \\sin^{2}{\\left(θ \\right)} - φ^{2} φ_{0} \\sin^{2}{\\left(θ \\right)} + φ - φ_{0}\\right) \\sin^{2}{\\left(θ \\right)} \\tan{\\left(θ \\right)} - ψ_{0}^{2} \\left(φ - φ_{0}\\right) \\left(φ^{2} \\sin^{2}{\\left(θ \\right)} + 1\\right)^{2} \\tan{\\left(θ \\right)}\\right) \\left(4 m^{4} φ^{2} - 8 m^{4} φ φ_{0} + 4 m^{4} φ_{0}^{2} + θ_{0}^{2} φ^{2} + 2 θ_{0}^{2} + \\frac{θ_{0}^{2}}{φ^{2}} + φ^{2} ψ_{0}^{2} \\sin^{2}{\\left(θ \\right)} + 2 ψ_{0}^{2} + \\frac{ψ_{0}^{2}}{φ^{2} \\sin^{2}{\\left(θ \\right)}}\\right)^{\\frac{5}{2}} \\sin^{4}{\\left(θ \\right)}}{\\left(θ_{0}^{2} \\sin^{2}{\\left(θ \\right)} + φ^{2} \\cdot \\left(4 m^{4} φ^{2} - 8 m^{4} φ φ_{0} + 4 m^{4} φ_{0}^{2} + θ_{0}^{2} φ^{2} + 2 θ_{0}^{2} + φ^{2} ψ_{0}^{2} \\sin^{2}{\\left(θ \\right)} + 2 ψ_{0}^{2}\\right) \\sin^{2}{\\left(θ \\right)} + ψ_{0}^{2}\\right)^{3} \\sqrt{4 m^{4} φ^{4} \\sin^{2}{\\left(θ \\right)} - 8 m^{4} φ^{3} φ_{0} \\sin^{2}{\\left(θ \\right)} + 4 m^{4} φ^{2} φ_{0}^{2} \\sin^{2}{\\left(θ \\right)} + φ^{4} ψ_{0}^{2} \\sin^{4}{\\left(θ \\right)} + 2 φ^{2} ψ_{0}^{2} \\sin^{2}{\\left(θ \\right)} + ψ_{0}^{2}} \\tan{\\left(θ \\right)} \\left|{φ - φ_{0}}\\right|}$"
      ],
      "text/plain": [
       "<IPython.core.display.Math object>"
      ]
     },
     "metadata": {},
     "output_type": "display_data"
    },
    {
     "data": {
      "text/latex": [
       "$\\displaystyle H_{21}=\\frac{ψ_{0} \\left(\\frac{4 m^{4} φ^{4} \\sin^{2}{\\left(θ \\right)} - 8 m^{4} φ^{3} φ_{0} \\sin^{2}{\\left(θ \\right)} + 4 m^{4} φ^{2} φ_{0}^{2} \\sin^{2}{\\left(θ \\right)} + φ^{4} ψ_{0}^{2} \\sin^{4}{\\left(θ \\right)} + 2 φ^{2} ψ_{0}^{2} \\sin^{2}{\\left(θ \\right)} + ψ_{0}^{2}}{4 m^{4} φ^{4} \\sin^{2}{\\left(θ \\right)} - 8 m^{4} φ^{3} φ_{0} \\sin^{2}{\\left(θ \\right)} + 4 m^{4} φ^{2} φ_{0}^{2} \\sin^{2}{\\left(θ \\right)} + θ_{0}^{2} φ^{4} \\sin^{2}{\\left(θ \\right)} + 2 θ_{0}^{2} φ^{2} \\sin^{2}{\\left(θ \\right)} + θ_{0}^{2} \\sin^{2}{\\left(θ \\right)} + φ^{4} ψ_{0}^{2} \\sin^{4}{\\left(θ \\right)} + 2 φ^{2} ψ_{0}^{2} \\sin^{2}{\\left(θ \\right)} + ψ_{0}^{2}}\\right)^{\\frac{3}{2}} \\cdot \\left(2 m^{4} θ_{0} φ^{2} \\left(φ - φ_{0}\\right) \\left(φ^{2} + 1\\right) \\left(φ^{4} \\sin^{2}{\\left(θ \\right)} - φ^{3} φ_{0} \\sin^{2}{\\left(θ \\right)} + 3 φ^{2} - 5 φ φ_{0} + 2 φ_{0}^{2}\\right) \\sin^{2}{\\left(θ \\right)} \\tan{\\left(θ \\right)} - 2 m^{2} θ_{0} φ \\left(φ^{2} + 1\\right) \\left(φ^{2} \\sin^{2}{\\left(θ \\right)} + 1\\right) \\left(m^{2} φ \\left(φ - φ_{0}\\right) \\sin{\\left(θ \\right)} - θ_{0} \\cos{\\left(θ \\right)}\\right) \\left(φ^{2} - 2 φ φ_{0} + φ_{0}^{2}\\right) \\sin{\\left(θ \\right)} \\tan{\\left(θ \\right)} + 2 m^{2} φ \\left(φ^{2} - 2 φ φ_{0} + φ_{0}^{2}\\right) \\left(- θ_{0}^{2} \\left(φ^{2} + 1\\right)^{2} \\sin^{2}{\\left(θ \\right)} + θ_{0}^{2} \\sin^{2}{\\left(θ \\right)} + φ^{2} \\cdot \\left(4 m^{4} φ^{2} - 8 m^{4} φ φ_{0} + 4 m^{4} φ_{0}^{2} + θ_{0}^{2} φ^{2} + 2 θ_{0}^{2} + φ^{2} ψ_{0}^{2} \\sin^{2}{\\left(θ \\right)} + 2 ψ_{0}^{2}\\right) \\sin^{2}{\\left(θ \\right)} + ψ_{0}^{2}\\right) + θ_{0} \\left(φ^{3} \\sin^{2}{\\left(θ \\right)} - φ^{2} φ_{0} \\sin^{2}{\\left(θ \\right)} + φ - φ_{0}\\right) \\left(- θ_{0}^{2} \\left(φ^{2} + 1\\right)^{2} \\sin^{2}{\\left(θ \\right)} + θ_{0}^{2} \\sin^{2}{\\left(θ \\right)} + φ^{2} \\cdot \\left(4 m^{4} φ^{2} - 8 m^{4} φ φ_{0} + 4 m^{4} φ_{0}^{2} + θ_{0}^{2} φ^{2} + 2 θ_{0}^{2} + φ^{2} ψ_{0}^{2} \\sin^{2}{\\left(θ \\right)} + 2 ψ_{0}^{2}\\right) \\sin^{2}{\\left(θ \\right)} - ψ_{0}^{2} \\left(φ^{2} + 1\\right) \\left(φ^{2} \\sin^{2}{\\left(θ \\right)} + 1\\right) + ψ_{0}^{2}\\right) \\tan{\\left(θ \\right)}\\right) \\left(4 m^{4} φ^{4} \\sin^{2}{\\left(θ \\right)} - 8 m^{4} φ^{3} φ_{0} \\sin^{2}{\\left(θ \\right)} + 4 m^{4} φ^{2} φ_{0}^{2} \\sin^{2}{\\left(θ \\right)} + θ_{0}^{2} φ^{4} \\sin^{2}{\\left(θ \\right)} + 2 θ_{0}^{2} φ^{2} \\sin^{2}{\\left(θ \\right)} + θ_{0}^{2} \\sin^{2}{\\left(θ \\right)} + φ^{4} ψ_{0}^{2} \\sin^{4}{\\left(θ \\right)} + 2 φ^{2} ψ_{0}^{2} \\sin^{2}{\\left(θ \\right)} + ψ_{0}^{2}\\right)^{2}}{φ^{2} \\left(θ_{0}^{2} \\sin^{2}{\\left(θ \\right)} + φ^{2} \\cdot \\left(4 m^{4} φ^{2} - 8 m^{4} φ φ_{0} + 4 m^{4} φ_{0}^{2} + θ_{0}^{2} φ^{2} + 2 θ_{0}^{2} + φ^{2} ψ_{0}^{2} \\sin^{2}{\\left(θ \\right)} + 2 ψ_{0}^{2}\\right) \\sin^{2}{\\left(θ \\right)} + ψ_{0}^{2}\\right) \\left(4 m^{4} φ^{4} \\sin^{2}{\\left(θ \\right)} - 8 m^{4} φ^{3} φ_{0} \\sin^{2}{\\left(θ \\right)} + 4 m^{4} φ^{2} φ_{0}^{2} \\sin^{2}{\\left(θ \\right)} + φ^{4} ψ_{0}^{2} \\sin^{4}{\\left(θ \\right)} + 2 φ^{2} ψ_{0}^{2} \\sin^{2}{\\left(θ \\right)} + ψ_{0}^{2}\\right)^{\\frac{5}{2}} \\tan{\\left(θ \\right)} \\left|{φ - φ_{0}}\\right|}$"
      ],
      "text/plain": [
       "<IPython.core.display.Math object>"
      ]
     },
     "metadata": {},
     "output_type": "display_data"
    },
    {
     "data": {
      "text/latex": [
       "$\\displaystyle H_{22}=\\frac{m^{2} \\left(φ \\left(4 m^{2} \\left(m^{2} φ \\left(φ - φ_{0}\\right) \\sin{\\left(θ \\right)} - θ_{0} \\cos{\\left(θ \\right)}\\right) \\left(φ^{2} - 2 φ φ_{0} + φ_{0}^{2}\\right)^{2} \\sin{\\left(θ \\right)} + ψ_{0}^{2} \\left(- φ + φ_{0}\\right)^{2} \\left(φ^{2} \\sin^{2}{\\left(θ \\right)} + 1\\right)^{2}\\right) + 4 ψ_{0}^{2} \\left(φ^{2} - 2 φ φ_{0} + φ_{0}^{2}\\right) \\left(φ^{3} \\sin^{2}{\\left(θ \\right)} - φ^{2} φ_{0} \\sin^{2}{\\left(θ \\right)} + φ - φ_{0}\\right)\\right)}{φ \\left(φ - φ_{0}\\right)^{2} \\cdot \\left(4 m^{4} φ^{4} \\sin^{2}{\\left(θ \\right)} - 8 m^{4} φ^{3} φ_{0} \\sin^{2}{\\left(θ \\right)} + 4 m^{4} φ^{2} φ_{0}^{2} \\sin^{2}{\\left(θ \\right)} + φ^{4} ψ_{0}^{2} \\sin^{4}{\\left(θ \\right)} + 2 φ^{2} ψ_{0}^{2} \\sin^{2}{\\left(θ \\right)} + ψ_{0}^{2}\\right)}$"
      ],
      "text/plain": [
       "<IPython.core.display.Math object>"
      ]
     },
     "metadata": {},
     "output_type": "display_data"
    }
   ],
   "source": [
    "hesse = SymbolicCalculation(coords, g, V).execute([[0,1,0],[0,0,1]])"
   ]
  },
  {
   "cell_type": "code",
   "execution_count": 5,
   "metadata": {},
   "outputs": [
    {
     "name": "stdout",
     "output_type": "stream",
     "text": [
      "[Symbol Dictionary]\n",
      "φ -> x[0]\n",
      "θ -> x[1]\n",
      "ψ -> x[2]\n",
      "V0 -> args[0]\n",
      "m -> args[1]\n",
      "φ0 -> args[2]\n",
      "θ0 -> args[3]\n",
      "ψ0 -> args[4]\n"
     ]
    }
   ],
   "source": [
    "out = Compiler(hesse, cleanup=False).compile()\n",
    "out.print_sym_lookup_table()"
   ]
  }
 ],
 "metadata": {
  "kernelspec": {
   "display_name": "python310env",
   "language": "python",
   "name": "python3"
  },
  "language_info": {
   "codemirror_mode": {
    "name": "ipython",
    "version": 3
   },
   "file_extension": ".py",
   "mimetype": "text/x-python",
   "name": "python",
   "nbconvert_exporter": "python",
   "pygments_lexer": "ipython3",
   "version": "3.10.11"
  },
  "orig_nbformat": 4
 },
 "nbformat": 4,
 "nbformat_minor": 2
}
