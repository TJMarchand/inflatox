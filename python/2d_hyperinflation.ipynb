{
 "cells": [
  {
   "cell_type": "code",
   "execution_count": 1,
   "metadata": {},
   "outputs": [],
   "source": [
    "import sympy\n",
    "from sympy import powdenest\n",
    "from IPython.display import display\n",
    "from einsteinpy.symbolic import MetricTensor, ChristoffelSymbols, RiemannCurvatureTensor\n",
    "sympy.init_printing()\n",
    "\n",
    "def calc_hesse(coords: list, g_fm: MetricTensor, V):\n",
    "  #We have to calculate covariant derivatives using the covariant derivative of\n",
    "  #V using the christoffel symbols of g_fm\n",
    "  dim = len(coords)\n",
    "  conn = ChristoffelSymbols.from_metric(g_fm).tensor()\n",
    "  Vab = [[0 for _ in range(dim)] for _ in range(dim)]\n",
    "  for a in range(dim):\n",
    "    for b in range(dim):\n",
    "      da_dbV = sympy.diff(V, coords[b], coords[a]).simplify()\n",
    "      gamma_ab = 0\n",
    "      for c in range(dim):\n",
    "        gamma_ab = (gamma_ab + conn[a][b][c]*sympy.diff(V, coords[c])).simplify()\n",
    "      Vab[a][b] = da_dbV - gamma_ab\n",
    "  return Vab\n",
    "\n",
    "def inner_prod(vec1: list, vec2: list, metric: MetricTensor):\n",
    "  \"\"\"returns the inner product of vec1 and vec2 with respect to the supplied metric\n",
    "\n",
    "  Args:\n",
    "    vec1 (list): first vector, once contravariant\n",
    "    vec2 (list): second vector, once contravariant\n",
    "    metric (MetricTensor): metric tensor, twice covariant\n",
    "\n",
    "  Returns:\n",
    "    symbolic sympy expression: inner product of vec1 with vec2 with respect to\n",
    "    the specified metric tensor\n",
    "  \"\"\"\n",
    "  assert(len(vec1) == len(vec2))\n",
    "  ans = 0\n",
    "  for a in range(len(vec1)):\n",
    "    for b in range(len(vec2)):\n",
    "      ans = ans + vec1[a]*vec2[b]*metric.arr[a][b]\n",
    "  return powdenest(ans.simplify(), force=True)\n",
    "\n",
    "def normalize(vec: list, metric: MetricTensor):\n",
    "  norm = sympy.sqrt(inner_prod(vec, vec, metric))\n",
    "  return [powdenest((cmp / norm).simplify(), force=True) for cmp in vec]\n",
    "\n",
    "def calc_v(coords: list, g_fm: MetricTensor, V):\n",
    "  dim = len(coords)\n",
    "  norm = (1 / sympy.sqrt(sympy.Matrix(g_fm.arr).det())).simplify()\n",
    "  \n",
    "  #Non-normalised components of grad V\n",
    "  va = [0 for _ in range(dim)]\n",
    "  for a in range(dim):\n",
    "    va[a] = powdenest((sympy.diff(V, coords[a]) * norm).simplify(), force=True)\n",
    "  return normalize(va, g_fm)\n",
    "\n",
    "def calc_next_w(current_basis: list, guess: list, g: MetricTensor):\n",
    "  \"\"\"Use the Gramm-Schmidt procedure to find a new orthogonal basis vector given\n",
    "  an incomplete set of orthogonal basis vectors and a third vector that is linearly\n",
    "  independent from the other vectors.\n",
    "\n",
    "  Args:\n",
    "    current_basis (list(list)): list of current *orthogonal* basisvectors. The\n",
    "      components of the vectors should be given in *contravariant* form.\n",
    "    guess (list): vector that is linearly independent from the (incomplete) set of\n",
    "      current basis vectors. The components of this vector should be given in\n",
    "      *contravariant* form. This vector needn't be normalized nor orthogonal to\n",
    "      the set of current basis vectors.\n",
    "    g (MetricTensor): metric tensor (twice covariant) used to define inner products\n",
    "      for the Gramm-Schmidt procedure\n",
    "\n",
    "  Returns:\n",
    "    (list): list of the contravariant components of an additional basis vector\n",
    "      orthogonal to the supplied set of basis vectors, with respect to the supplied\n",
    "      metric.\n",
    "  \"\"\"\n",
    "  dim = len(current_basis[0])\n",
    "  #make sure the supplied basis is not already complete\n",
    "  assert(len(current_basis) < dim)\n",
    "  ans = guess\n",
    "  for vec in current_basis:\n",
    "    overlap = inner_prod(vec, guess, g)\n",
    "    for a in range(dim):\n",
    "      ans[a] = (ans[a] - overlap*vec[a]).simplify()\n",
    "  return normalize(ans, g)\n",
    "\n",
    "def project_hesse(hesse_matrix: list, vec1: list, vec2: list):\n",
    "  dim = len(vec1)\n",
    "  assert(len(vec1) == len(vec2))\n",
    "  V_proj = 0\n",
    "  for a in range(dim):\n",
    "    for b in range(dim):\n",
    "      V_proj = V_proj + hesse_matrix[a][b]*vec1[a]*vec2[b]\n",
    "  return powdenest(V_proj.simplify(), force=True)"
   ]
  },
  {
   "cell_type": "code",
   "execution_count": 3,
   "metadata": {},
   "outputs": [
    {
     "data": {
      "text/latex": [
       "$\\displaystyle \\left[\\begin{matrix}1 & 0\\\\0 & L^{2} \\sinh^{2}{\\left(\\frac{φ}{L} \\right)}\\end{matrix}\\right]$"
      ],
      "text/plain": [
       "⎡1       0     ⎤\n",
       "⎢              ⎥\n",
       "⎢    2     2⎛φ⎞⎥\n",
       "⎢0  L ⋅sinh ⎜─⎟⎥\n",
       "⎣           ⎝L⎠⎦"
      ]
     },
     "metadata": {},
     "output_type": "display_data"
    }
   ],
   "source": [
    "φ, θ, L = sympy.symbols('φ θ L')\n",
    "d = 2\n",
    "coords = [φ, θ]\n",
    "\n",
    "g = [[0 for _ in range(d)] for _ in range(d)]\n",
    "g[0][0] = 1\n",
    "g[1][1] = L**2*sympy.sinh(φ/L)**2\n",
    "\n",
    "g = MetricTensor(g, coords)\n",
    "display(g.tensor())"
   ]
  },
  {
   "cell_type": "code",
   "execution_count": 4,
   "metadata": {},
   "outputs": [
    {
     "data": {
      "image/png": "[encoded data removed]",
      "text/latex": [
       "$\\displaystyle \\frac{m^{2} \\left(φ - φ_{0}\\right)^{2}}{2}$"
      ],
      "text/plain": [
       " 2         2\n",
       "m ⋅(φ - φ₀) \n",
       "────────────\n",
       "     2      "
      ]
     },
     "metadata": {},
     "output_type": "display_data"
    }
   ],
   "source": [
    "m, φ0 = sympy.symbols('m φ0')\n",
    "V = (1/2*m**2*(φ-φ0)**2).nsimplify()\n",
    "display(V)"
   ]
  },
  {
   "cell_type": "code",
   "execution_count": 5,
   "metadata": {},
   "outputs": [
    {
     "data": {
      "image/png": "[encoded data removed]",
      "text/latex": [
       "$\\displaystyle \\left[ \\frac{φ - φ_{0}}{\\left|{φ - φ_{0}}\\right|}, \\  0\\right]$"
      ],
      "text/plain": [
       "⎡ φ - φ₀    ⎤\n",
       "⎢────────, 0⎥\n",
       "⎣│φ - φ₀│   ⎦"
      ]
     },
     "metadata": {},
     "output_type": "display_data"
    },
    {
     "data": {
      "image/png": "[encoded data removed]",
      "text/latex": [
       "$\\displaystyle \\left[ 0, \\  \\frac{1}{L \\sinh{\\left(\\frac{φ}{L} \\right)}}\\right]$"
      ],
      "text/plain": [
       "⎡       1    ⎤\n",
       "⎢0, ─────────⎥\n",
       "⎢         ⎛φ⎞⎥\n",
       "⎢   L⋅sinh⎜─⎟⎥\n",
       "⎣         ⎝L⎠⎦"
      ]
     },
     "metadata": {},
     "output_type": "display_data"
    }
   ],
   "source": [
    "#Calculate the gradient basis\n",
    "basis = [calc_v(coords, g, V)]\n",
    "display(basis[0])\n",
    "for i in range(d - 1):\n",
    "  next_guess = [0 for _ in range(d)]\n",
    "  next_guess[i + 1] = 1\n",
    "  w = calc_next_w(basis, next_guess, g)\n",
    "  display(w)\n",
    "  basis.append(w)"
   ]
  },
  {
   "cell_type": "code",
   "execution_count": 6,
   "metadata": {},
   "outputs": [
    {
     "name": "stdout",
     "output_type": "stream",
     "text": [
      "w[0]*w[0]=1\n",
      "w[0]*w[1]=0\n",
      "w[1]*w[0]=0\n",
      "w[1]*w[1]=1\n"
     ]
    }
   ],
   "source": [
    "#sanity check\n",
    "for a in range(d):\n",
    "  for b in range(d):\n",
    "    print(f\"w[{a}]*w[{b}]={inner_prod(basis[a], basis[b], g)}\")"
   ]
  },
  {
   "cell_type": "code",
   "execution_count": 7,
   "metadata": {},
   "outputs": [
    {
     "data": {
      "text/latex": [
       "$\\displaystyle \\left[\\begin{matrix}m^{2} & 0\\\\0 & - \\frac{m^{2} \\left(φ - φ_{0}\\right)}{L \\tanh{\\left(\\frac{φ}{L} \\right)}}\\end{matrix}\\right]$"
      ],
      "text/plain": [
       "⎡ 2               ⎤\n",
       "⎢m         0      ⎥\n",
       "⎢                 ⎥\n",
       "⎢      2          ⎥\n",
       "⎢    -m ⋅(φ - φ₀) ⎥\n",
       "⎢0   ─────────────⎥\n",
       "⎢            ⎛φ⎞  ⎥\n",
       "⎢      L⋅tanh⎜─⎟  ⎥\n",
       "⎣            ⎝L⎠  ⎦"
      ]
     },
     "metadata": {},
     "output_type": "display_data"
    }
   ],
   "source": [
    "H = calc_hesse(coords, g, V)\n",
    "display(sympy.Matrix(H))"
   ]
  },
  {
   "cell_type": "code",
   "execution_count": 16,
   "metadata": {},
   "outputs": [
    {
     "name": "stdout",
     "output_type": "stream",
     "text": [
      "H00=\n"
     ]
    },
    {
     "data": {
      "image/png": "[encoded data removed]",
      "text/latex": [
       "$\\displaystyle m^{2}$"
      ],
      "text/plain": [
       " 2\n",
       "m "
      ]
     },
     "metadata": {},
     "output_type": "display_data"
    },
    {
     "name": "stdout",
     "output_type": "stream",
     "text": [
      "H01=\n"
     ]
    },
    {
     "data": {
      "image/png": "[encoded data removed]",
      "text/latex": [
       "$\\displaystyle 0$"
      ],
      "text/plain": [
       "0"
      ]
     },
     "metadata": {},
     "output_type": "display_data"
    },
    {
     "name": "stdout",
     "output_type": "stream",
     "text": [
      "H10=\n"
     ]
    },
    {
     "data": {
      "image/png": "[encoded data removed]",
      "text/latex": [
       "$\\displaystyle 0$"
      ],
      "text/plain": [
       "0"
      ]
     },
     "metadata": {},
     "output_type": "display_data"
    },
    {
     "name": "stdout",
     "output_type": "stream",
     "text": [
      "H11=\n"
     ]
    },
    {
     "data": {
      "image/png": "[encoded data removed]",
      "text/latex": [
       "$\\displaystyle - \\frac{m^{2} \\left(φ - φ_{0}\\right) \\cosh{\\left(\\frac{φ}{L} \\right)}}{L^{3} \\sinh^{3}{\\left(\\frac{φ}{L} \\right)}}$"
      ],
      "text/plain": [
       "  2              ⎛φ⎞ \n",
       "-m ⋅(φ - φ₀)⋅cosh⎜─⎟ \n",
       "                 ⎝L⎠ \n",
       "─────────────────────\n",
       "      3     3⎛φ⎞     \n",
       "     L ⋅sinh ⎜─⎟     \n",
       "             ⎝L⎠     "
      ]
     },
     "metadata": {},
     "output_type": "display_data"
    }
   ],
   "source": [
    "from joblib import Parallel, delayed\n",
    "def process(a:int, b:int):\n",
    "  return ([a, b], project_hesse(H, basis[a], basis[b]))\n",
    "\n",
    "H_proj = [[0 for _ in range(d)] for _ in range(d)]\n",
    "results = Parallel(n_jobs=8)(delayed(process)(a, b) for a in range(d) for b in range(d))\n",
    "for (idx, result) in results:\n",
    "  H_proj[idx[0]][idx[1]] = result\n",
    "  print(f\"H{idx[0]}{idx[1]}=\")\n",
    "  display(result)"
   ]
  },
  {
   "cell_type": "code",
   "execution_count": 17,
   "metadata": {},
   "outputs": [
    {
     "data": {
      "image/png": "[encoded data removed]",
      "text/latex": [
       "$\\displaystyle - \\frac{2 \\cosh{\\left(\\frac{φ}{L} \\right)}}{L^{3} \\left(φ - φ_{0}\\right) \\sinh^{3}{\\left(\\frac{φ}{L} \\right)}}$"
      ],
      "text/plain": [
       "           ⎛φ⎞      \n",
       "    -2⋅cosh⎜─⎟      \n",
       "           ⎝L⎠      \n",
       "────────────────────\n",
       " 3              3⎛φ⎞\n",
       "L ⋅(φ - φ₀)⋅sinh ⎜─⎟\n",
       "                 ⎝L⎠"
      ]
     },
     "metadata": {},
     "output_type": "display_data"
    },
    {
     "data": {
      "image/png": "[encoded data removed]",
      "text/latex": [
       "$\\displaystyle 0$"
      ],
      "text/plain": [
       "0"
      ]
     },
     "metadata": {},
     "output_type": "display_data"
    }
   ],
   "source": [
    "display((H_proj[1][1]/V).simplify())\n",
    "display((1/27*(H_proj[0][1]/V)**2).nsimplify().simplify())"
   ]
  }
 ],
 "metadata": {
  "kernelspec": {
   "display_name": "python310env",
   "language": "python",
   "name": "python3"
  },
  "language_info": {
   "codemirror_mode": {
    "name": "ipython",
    "version": 3
   },
   "file_extension": ".py",
   "mimetype": "text/x-python",
   "name": "python",
   "nbconvert_exporter": "python",
   "pygments_lexer": "ipython3",
   "version": "3.10.11"
  },
  "orig_nbformat": 4
 },
 "nbformat": 4,
 "nbformat_minor": 2
}
