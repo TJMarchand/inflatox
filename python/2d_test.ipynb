{
 "cells": [
  {
   "cell_type": "code",
   "execution_count": 2,
   "metadata": {},
   "outputs": [],
   "source": [
    "import sympy\n",
    "from sympy import powdenest\n",
    "from IPython.display import display\n",
    "from einsteinpy.symbolic import MetricTensor, ChristoffelSymbols\n",
    "sympy.init_printing()\n",
    "\n",
    "def calc_hesse(coords: list, g_fm: MetricTensor, V):\n",
    "  #We have to calculate covariant derivatives using the covariant derivative of\n",
    "  #V using the christoffel symbols of g_fm\n",
    "  dim = len(coords)\n",
    "  conn = ChristoffelSymbols.from_metric(g_fm).tensor()\n",
    "  Vab = [[0 for _ in range(dim)] for _ in range(dim)]\n",
    "  for a in range(dim):\n",
    "    for b in range(dim):\n",
    "      da_dbV = sympy.diff(V, coords[b], coords[a]).simplify()\n",
    "      gamma_ab = 0\n",
    "      for c in range(dim):\n",
    "        gamma_ab = (gamma_ab + conn[a][b][c]*sympy.diff(V, coords[c])).simplify()\n",
    "      Vab[a][b] = da_dbV - gamma_ab\n",
    "  return Vab\n",
    "\n",
    "def inner_prod(vec1: list, vec2: list, metric: MetricTensor):\n",
    "  \"\"\"returns the inner product of vec1 and vec2 with respect to the supplied metric\n",
    "\n",
    "  Args:\n",
    "    vec1 (list): first vector, once contravariant\n",
    "    vec2 (list): second vector, once contravariant\n",
    "    metric (MetricTensor): metric tensor, twice covariant\n",
    "\n",
    "  Returns:\n",
    "    symbolic sympy expression: inner product of vec1 with vec2 with respect to\n",
    "    the specified metric tensor\n",
    "  \"\"\"\n",
    "  assert(len(vec1) == len(vec2))\n",
    "  ans = 0\n",
    "  for a in range(len(vec1)):\n",
    "    for b in range(len(vec2)):\n",
    "      ans = ans + vec1[a]*vec2[b]*metric.arr[a][b]\n",
    "  return powdenest(ans.simplify(), force=True)\n",
    "\n",
    "def normalize(vec: list, metric: MetricTensor):\n",
    "  norm = sympy.sqrt(inner_prod(vec, vec, metric))\n",
    "  return [powdenest((cmp / norm).simplify(), force=True) for cmp in vec]\n",
    "\n",
    "def calc_v(coords: list, g_fm: MetricTensor, V):\n",
    "  dim = len(coords)\n",
    "  norm = (1 / sympy.sqrt(sympy.Matrix(g_fm.arr).det())).simplify()\n",
    "  \n",
    "  #Non-normalised components of grad V\n",
    "  va = [0 for _ in range(dim)]\n",
    "  for a in range(dim):\n",
    "    va[a] = powdenest((sympy.diff(V, coords[a]) * norm).simplify(), force=True)\n",
    "  return normalize(va, g_fm)\n",
    "\n",
    "def calc_next_w(current_basis: list, guess: list, g: MetricTensor):\n",
    "  \"\"\"Use the Gramm-Schmidt procedure to find a new orthogonal basis vector given\n",
    "  an incomplete set of orthogonal basis vectors and a third vector that is linearly\n",
    "  independent from the other vectors.\n",
    "\n",
    "  Args:\n",
    "    current_basis (list(list)): list of current *orthogonal* basisvectors. The\n",
    "      components of the vectors should be given in *contravariant* form.\n",
    "    guess (list): vector that is linearly independent from the (incomplete) set of\n",
    "      current basis vectors. The components of this vector should be given in\n",
    "      *contravariant* form. This vector needn't be normalized nor orthogonal to\n",
    "      the set of current basis vectors.\n",
    "    g (MetricTensor): metric tensor (twice covariant) used to define inner products\n",
    "      for the Gramm-Schmidt procedure\n",
    "\n",
    "  Returns:\n",
    "    (list): list of the contravariant components of an additional basis vector\n",
    "      orthogonal to the supplied set of basis vectors, with respect to the supplied\n",
    "      metric.\n",
    "  \"\"\"\n",
    "  dim = len(current_basis[0])\n",
    "  #make sure the supplied basis is not already complete\n",
    "  assert(len(current_basis) < dim)\n",
    "  ans = guess\n",
    "  for vec in current_basis:\n",
    "    overlap = inner_prod(vec, guess, g)\n",
    "    for a in range(dim):\n",
    "      ans[a] = (ans[a] - overlap*vec[a]).simplify()\n",
    "  return normalize(ans, g)\n",
    "\n",
    "def project_hesse(hesse_matrix: list, vec1: list, vec2: list):\n",
    "  dim = len(vec1)\n",
    "  assert(len(vec1) == len(vec2))\n",
    "  V_proj = 0\n",
    "  for a in range(dim):\n",
    "    for b in range(dim):\n",
    "      V_proj = V_proj + hesse_matrix[a][b]*vec1[a]*vec2[b]\n",
    "  return powdenest(V_proj.simplify(), force=True)"
   ]
  },
  {
   "cell_type": "code",
   "execution_count": 5,
   "metadata": {},
   "outputs": [
    {
     "data": {
      "text/latex": [
       "$\\displaystyle \\left[\\begin{matrix}1 & 0\\\\0 & g^{2}\\end{matrix}\\right]$"
      ],
      "text/plain": [
       "⎡1  0 ⎤\n",
       "⎢     ⎥\n",
       "⎢    2⎥\n",
       "⎣0  g ⎦"
      ]
     },
     "metadata": {},
     "output_type": "display_data"
    },
    {
     "data": {
      "image/png": "[encoded data removed]",
      "text/latex": [
       "$\\displaystyle V_{0} - g g_{0} + \\frac{m^{2} \\left(f - f_{0}\\right)^{2}}{2}$"
      ],
      "text/plain": [
       "             2         2\n",
       "            m ⋅(f - f₀) \n",
       "V₀ - g⋅g₀ + ────────────\n",
       "                 2      "
      ]
     },
     "metadata": {},
     "output_type": "display_data"
    }
   ],
   "source": [
    "f, g = sympy.symbols(\"f g\")\n",
    "V0, f0, g0, m = sympy.symbols(\"V0 f0 g0 m\")\n",
    "coords = [f, g]\n",
    "d = 2\n",
    "\n",
    "metric = [[0 for i in range(2)] for i in range(2)]\n",
    "metric[0][0] = 1\n",
    "metric[1][1] = g**2\n",
    "metric = MetricTensor(metric, (f, g))\n",
    "V = (V0 - g0*g + 1/2*(m**2)*((f-f0)**2)).nsimplify()\n",
    "display(metric.tensor())\n",
    "display(V)"
   ]
  },
  {
   "cell_type": "code",
   "execution_count": 12,
   "metadata": {},
   "outputs": [
    {
     "data": {
      "image/png": "[encoded data removed]",
      "text/latex": [
       "$\\displaystyle \\left[ \\frac{m^{2} \\left(f - f_{0}\\right)}{\\sqrt{g^{2} g_{0}^{2} + m^{4} \\left(f - f_{0}\\right)^{2}}}, \\  - \\frac{g_{0}}{g \\sqrt{g_{0}^{2} + \\frac{m^{4} \\left(f - f_{0}\\right)^{2}}{g^{2}}}}\\right]$"
      ],
      "text/plain": [
       "⎡        2                                               ⎤\n",
       "⎢       m ⋅(f - f₀)                      -g₀             ⎥\n",
       "⎢──────────────────────────, ────────────────────────────⎥\n",
       "⎢   _______________________          ____________________⎥\n",
       "⎢  ╱  2   2    4         2          ╱        4         2 ⎥\n",
       "⎢╲╱  g ⋅g₀  + m ⋅(f - f₀)          ╱    2   m ⋅(f - f₀)  ⎥\n",
       "⎢                            g⋅   ╱   g₀  + ──────────── ⎥\n",
       "⎢                                ╱                2      ⎥\n",
       "⎣                              ╲╱                g       ⎦"
      ]
     },
     "metadata": {},
     "output_type": "display_data"
    },
    {
     "data": {
      "image/png": "[encoded data removed]",
      "text/latex": [
       "$\\displaystyle \\left[ \\frac{g g_{0} \\left(f - f_{0}\\right)}{\\sqrt{g^{2} g_{0}^{2} + m^{4} \\left(f - f_{0}\\right)^{2}} \\left|{f - f_{0}}\\right|}, \\  \\frac{m^{2} \\left(f - f_{0}\\right)^{2}}{g \\sqrt{g^{2} g_{0}^{2} + m^{4} \\left(f - f_{0}\\right)^{2}} \\left|{f - f_{0}}\\right|}\\right]$"
      ],
      "text/plain": [
       "⎡                                                   2         2            ⎤\n",
       "⎢           g⋅g₀⋅(f - f₀)                          m ⋅(f - f₀)             ⎥\n",
       "⎢───────────────────────────────────, ─────────────────────────────────────⎥\n",
       "⎢   _______________________                _______________________         ⎥\n",
       "⎢  ╱  2   2    4         2                ╱  2   2    4         2          ⎥\n",
       "⎣╲╱  g ⋅g₀  + m ⋅(f - f₀)  ⋅│f - f₀│  g⋅╲╱  g ⋅g₀  + m ⋅(f - f₀)  ⋅│f - f₀│⎦"
      ]
     },
     "metadata": {},
     "output_type": "display_data"
    }
   ],
   "source": [
    "#Calculate the gradient basis\n",
    "basis = [calc_v(coords, metric, V)]\n",
    "display(basis[0])\n",
    "for i in range(d - 1):\n",
    "  next_guess = [0 for _ in range(d)]\n",
    "  next_guess[i + 1] = 1\n",
    "  w = calc_next_w(basis, next_guess, metric)\n",
    "  display(w)\n",
    "  basis.append(w)"
   ]
  },
  {
   "cell_type": "code",
   "execution_count": 13,
   "metadata": {},
   "outputs": [
    {
     "name": "stdout",
     "output_type": "stream",
     "text": [
      "w[0]*w[0]=1\n",
      "w[0]*w[1]=0\n",
      "w[1]*w[0]=0\n",
      "w[1]*w[1]=1\n"
     ]
    }
   ],
   "source": [
    "#sanity check\n",
    "for a in range(d):\n",
    "  for b in range(d):\n",
    "    print(f\"w[{a}]*w[{b}]={inner_prod(basis[a], basis[b], metric)}\")"
   ]
  },
  {
   "cell_type": "code",
   "execution_count": 14,
   "metadata": {},
   "outputs": [
    {
     "data": {
      "text/latex": [
       "$\\displaystyle \\left[\\begin{matrix}m^{2} & 0\\\\0 & \\frac{g_{0}}{g}\\end{matrix}\\right]$"
      ],
      "text/plain": [
       "⎡ 2    ⎤\n",
       "⎢m   0 ⎥\n",
       "⎢      ⎥\n",
       "⎢    g₀⎥\n",
       "⎢0   ──⎥\n",
       "⎣    g ⎦"
      ]
     },
     "metadata": {},
     "output_type": "display_data"
    }
   ],
   "source": [
    "H = calc_hesse(coords, metric, V)\n",
    "display(sympy.Matrix(H))"
   ]
  },
  {
   "cell_type": "code",
   "execution_count": 24,
   "metadata": {},
   "outputs": [
    {
     "name": "stdout",
     "output_type": "stream",
     "text": [
      "H00=\n"
     ]
    },
    {
     "data": {
      "image/png": "[encoded data removed]",
      "text/latex": [
       "$\\displaystyle \\frac{g m^{6} \\left(f - f_{0}\\right)^{2} + g_{0}^{3}}{g \\left(g^{2} g_{0}^{2} + m^{4} \\left(f - f_{0}\\right)^{2}\\right)}$"
      ],
      "text/plain": [
       "      6         2     3  \n",
       "   g⋅m ⋅(f - f₀)  + g₀   \n",
       "─────────────────────────\n",
       "  ⎛ 2   2    4         2⎞\n",
       "g⋅⎝g ⋅g₀  + m ⋅(f - f₀) ⎠"
      ]
     },
     "metadata": {},
     "output_type": "display_data"
    },
    {
     "name": "stdout",
     "output_type": "stream",
     "text": [
      "H01=\n"
     ]
    },
    {
     "data": {
      "image/png": "[encoded data removed]",
      "text/latex": [
       "$\\displaystyle \\frac{g_{0} m^{2} \\left(f - f_{0}\\right)^{2} \\left(g^{3} m^{2} \\left(g^{2} g_{0}^{2} + m^{4} \\left(f - f_{0}\\right)^{2}\\right) - g_{0} \\left(g^{2} g_{0}^{2} + m^{4} \\left(f - f_{0}\\right)^{2}\\right)\\right)}{g^{2} \\left(g^{2} g_{0}^{2} + m^{4} \\left(f - f_{0}\\right)^{2}\\right)^{2} \\left|{f - f_{0}}\\right|}$"
      ],
      "text/plain": [
       "    2         2 ⎛ 3  2 ⎛ 2   2    4         2⎞      ⎛ 2   2    4         2⎞⎞\n",
       "g₀⋅m ⋅(f - f₀) ⋅⎝g ⋅m ⋅⎝g ⋅g₀  + m ⋅(f - f₀) ⎠ - g₀⋅⎝g ⋅g₀  + m ⋅(f - f₀) ⎠⎠\n",
       "────────────────────────────────────────────────────────────────────────────\n",
       "                                              2                             \n",
       "                     2 ⎛ 2   2    4         2⎞                              \n",
       "                    g ⋅⎝g ⋅g₀  + m ⋅(f - f₀) ⎠ ⋅│f - f₀│                    "
      ]
     },
     "metadata": {},
     "output_type": "display_data"
    },
    {
     "name": "stdout",
     "output_type": "stream",
     "text": [
      "H10=\n"
     ]
    },
    {
     "data": {
      "image/png": "[encoded data removed]",
      "text/latex": [
       "$\\displaystyle \\frac{g_{0} m^{2} \\left(f - f_{0}\\right)^{2} \\left(g^{3} m^{2} \\left(g^{2} g_{0}^{2} + m^{4} \\left(f - f_{0}\\right)^{2}\\right) - g_{0} \\left(g^{2} g_{0}^{2} + m^{4} \\left(f - f_{0}\\right)^{2}\\right)\\right)}{g^{2} \\left(g^{2} g_{0}^{2} + m^{4} \\left(f - f_{0}\\right)^{2}\\right)^{2} \\left|{f - f_{0}}\\right|}$"
      ],
      "text/plain": [
       "    2         2 ⎛ 3  2 ⎛ 2   2    4         2⎞      ⎛ 2   2    4         2⎞⎞\n",
       "g₀⋅m ⋅(f - f₀) ⋅⎝g ⋅m ⋅⎝g ⋅g₀  + m ⋅(f - f₀) ⎠ - g₀⋅⎝g ⋅g₀  + m ⋅(f - f₀) ⎠⎠\n",
       "────────────────────────────────────────────────────────────────────────────\n",
       "                                              2                             \n",
       "                     2 ⎛ 2   2    4         2⎞                              \n",
       "                    g ⋅⎝g ⋅g₀  + m ⋅(f - f₀) ⎠ ⋅│f - f₀│                    "
      ]
     },
     "metadata": {},
     "output_type": "display_data"
    },
    {
     "name": "stdout",
     "output_type": "stream",
     "text": [
      "H11=\n"
     ]
    },
    {
     "data": {
      "image/png": "[encoded data removed]",
      "text/latex": [
       "$\\displaystyle \\frac{g_{0} m^{2} \\left(g^{5} g_{0} + m^{2} \\left(f - f_{0}\\right)^{2}\\right)}{g^{3} \\left(g^{2} g_{0}^{2} + m^{4} \\left(f - f_{0}\\right)^{2}\\right)}$"
      ],
      "text/plain": [
       "    2 ⎛ 5       2         2⎞\n",
       "g₀⋅m ⋅⎝g ⋅g₀ + m ⋅(f - f₀) ⎠\n",
       "────────────────────────────\n",
       "  3 ⎛ 2   2    4         2⎞ \n",
       " g ⋅⎝g ⋅g₀  + m ⋅(f - f₀) ⎠ "
      ]
     },
     "metadata": {},
     "output_type": "display_data"
    }
   ],
   "source": [
    "from joblib import Parallel, delayed\n",
    "def process(a:int, b:int):\n",
    "  return ([a, b], project_hesse(H, basis[a], basis[b]))\n",
    "\n",
    "H_proj = [[0 for _ in range(d)] for _ in range(d)]\n",
    "results = Parallel(n_jobs=8)(delayed(process)(a, b) for a in range(d) for b in range(d))\n",
    "for (idx, result) in results:\n",
    "  H_proj[idx[0]][idx[1]] = result\n",
    "  print(f\"H{idx[0]}{idx[1]}=\")\n",
    "  display(result)"
   ]
  },
  {
   "cell_type": "code",
   "execution_count": 25,
   "metadata": {},
   "outputs": [
    {
     "data": {
      "image/png": "[encoded data removed]",
      "text/latex": [
       "$\\displaystyle \\frac{2 g_{0} m^{2} \\left(g^{5} g_{0} + m^{2} \\left(f - f_{0}\\right)^{2}\\right)}{g^{3} \\left(g^{2} g_{0}^{2} + m^{4} \\left(f - f_{0}\\right)^{2}\\right) \\left(2 V_{0} - 2 g g_{0} + m^{2} \\left(f - f_{0}\\right)^{2}\\right)}$"
      ],
      "text/plain": [
       "                    2 ⎛ 5       2         2⎞             \n",
       "              2⋅g₀⋅m ⋅⎝g ⋅g₀ + m ⋅(f - f₀) ⎠             \n",
       "─────────────────────────────────────────────────────────\n",
       " 3 ⎛ 2   2    4         2⎞ ⎛                 2         2⎞\n",
       "g ⋅⎝g ⋅g₀  + m ⋅(f - f₀) ⎠⋅⎝2⋅V₀ - 2⋅g⋅g₀ + m ⋅(f - f₀) ⎠"
      ]
     },
     "metadata": {},
     "output_type": "display_data"
    },
    {
     "data": {
      "image/png": "[encoded data removed]",
      "text/latex": [
       "$\\displaystyle \\frac{4 g_{0}^{2} m^{4} \\left(f - f_{0}\\right)^{4} \\left(g^{3} m^{2} - g_{0}\\right)^{2}}{27 g^{4} \\left(g^{2} g_{0}^{2} + m^{4} \\left(f - f_{0}\\right)^{2}\\right)^{2} \\left(2 V_{0} - 2 g g_{0} + m^{2} \\left(f - f_{0}\\right)^{2}\\right)^{2} \\left|{\\left(f - f_{0}\\right)^{2}}\\right|}$"
      ],
      "text/plain": [
       "                                                    2                     \n",
       "                         2  4         4 ⎛ 3  2     ⎞                      \n",
       "                     4⋅g₀ ⋅m ⋅(f - f₀) ⋅⎝g ⋅m  - g₀⎠                      \n",
       "──────────────────────────────────────────────────────────────────────────\n",
       "                             2                               2            \n",
       "    4 ⎛ 2   2    4         2⎞  ⎛                 2         2⎞  │        2│\n",
       "27⋅g ⋅⎝g ⋅g₀  + m ⋅(f - f₀) ⎠ ⋅⎝2⋅V₀ - 2⋅g⋅g₀ + m ⋅(f - f₀) ⎠ ⋅│(f - f₀) │"
      ]
     },
     "metadata": {},
     "output_type": "display_data"
    }
   ],
   "source": [
    "display((H_proj[1][1]/V).simplify())\n",
    "display((1/27*(H_proj[0][1]/V)**2).nsimplify().simplify())"
   ]
  },
  {
   "cell_type": "code",
   "execution_count": 27,
   "metadata": {},
   "outputs": [
    {
     "data": {
      "image/png": "[encoded data removed]",
      "text/latex": [
       "$\\displaystyle \\frac{8 g_{0}^{2} m^{4} \\left(f - f_{0}\\right)^{4} \\left(g^{3} m^{2} - g_{0}\\right)^{2} \\left(g m^{6} \\left(f - f_{0}\\right)^{2} + g_{0}^{3}\\right)}{3 g^{5} \\left(g^{2} g_{0}^{2} + m^{4} \\left(f - f_{0}\\right)^{2}\\right)^{3} \\left(2 V_{0} - 2 g g_{0} + m^{2} \\left(f - f_{0}\\right)^{2}\\right)^{3} \\left|{\\left(f - f_{0}\\right)^{2}}\\right|}$"
      ],
      "text/plain": [
       "                                        2                                \n",
       "             2  4         4 ⎛ 3  2     ⎞  ⎛   6         2     3⎞         \n",
       "         8⋅g₀ ⋅m ⋅(f - f₀) ⋅⎝g ⋅m  - g₀⎠ ⋅⎝g⋅m ⋅(f - f₀)  + g₀ ⎠         \n",
       "─────────────────────────────────────────────────────────────────────────\n",
       "                            3                               3            \n",
       "   5 ⎛ 2   2    4         2⎞  ⎛                 2         2⎞  │        2│\n",
       "3⋅g ⋅⎝g ⋅g₀  + m ⋅(f - f₀) ⎠ ⋅⎝2⋅V₀ - 2⋅g⋅g₀ + m ⋅(f - f₀) ⎠ ⋅│(f - f₀) │"
      ]
     },
     "metadata": {},
     "output_type": "display_data"
    }
   ],
   "source": [
    "display((1/3*(H_proj[0][1]/V)**2*(H_proj[0][0]/V)).nsimplify().simplify())"
   ]
  }
 ],
 "metadata": {
  "kernelspec": {
   "display_name": "Python 3",
   "language": "python",
   "name": "python3"
  },
  "language_info": {
   "codemirror_mode": {
    "name": "ipython",
    "version": 3
   },
   "file_extension": ".py",
   "mimetype": "text/x-python",
   "name": "python",
   "nbconvert_exporter": "python",
   "pygments_lexer": "ipython3",
   "version": "3.10.11"
  },
  "orig_nbformat": 4
 },
 "nbformat": 4,
 "nbformat_minor": 2
}
