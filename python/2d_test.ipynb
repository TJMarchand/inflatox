{
 "cells": [
  {
   "cell_type": "code",
   "execution_count": 33,
   "metadata": {},
   "outputs": [],
   "source": [
    "import sympy\n",
    "from sympy import powdenest\n",
    "from IPython.display import display\n",
    "from einsteinpy.symbolic import MetricTensor, ChristoffelSymbols\n",
    "\n",
    "def inner_prod(vec1: list, vec2: list, metric: MetricTensor):\n",
    "  \"\"\"returns the inner product of vec1 and vec2 with respect to the supplied metric\n",
    "\n",
    "  Args:\n",
    "    vec1 (list): first vector, once contravariant\n",
    "    vec2 (list): second vector, once contravariant\n",
    "    metric (MetricTensor): metric tensor, twice covariant\n",
    "\n",
    "  Returns:\n",
    "    symbolic sympy expression: inner product of vec1 with vec2 with respect to\n",
    "    the specified metric tensor\n",
    "  \"\"\"\n",
    "  ans = 0\n",
    "  for a in range(len(vec1)):\n",
    "    for b in range(len(vec2)):\n",
    "      ans = ans + vec1[a]*vec2[b]*metric.arr[a][b]\n",
    "  return powdenest(ans.simplify(), force=True)\n",
    "\n",
    "def normalize(vec: list, metric: MetricTensor):\n",
    "  \"\"\"normalizes the input vector with respect to the supplied metric tensor\n",
    "\n",
    "  Args:\n",
    "    vec (list[sympy expressions]): components of the vector to be normalised\n",
    "    metric (MetricTensor): metric tensor used to define the vector norm\n",
    "\n",
    "  Returns: None\n",
    "  \"\"\"\n",
    "  norm = sympy.sqrt(inner_prod(vec, vec, metric))\n",
    "  vec[:] = [powdenest((cmp / norm).simplify(), force=True) for cmp in vec]\n",
    "  \n",
    "def calc_hesse(coords: list, g: MetricTensor, V):\n",
    "  \"\"\"returns the components of the covariant Hesse matrix in a twice-covariant\n",
    "  form. Components for all pairs of the supplied coordinates are calculated for\n",
    "  the scalar potential V using the supplied metric tensor.\n",
    "  \n",
    "  The components of the covariant Hesse matrix are defined as:\n",
    "    V_ab(ϕ) = ∇_a ∇_b V(ϕ)\n",
    "  This is expanded as (using Einstein notation):\n",
    "    V_ab(ϕ) = ∇_a (∂_b V(ϕ)) = ∂_a ∂_b V(ϕ) - Γ_ab^c(ϕ) ∂_c V(ϕ)\n",
    "  Where Γ_ab^c(ϕ) is the standard Christoffel connection defined as:\n",
    "    Γ_ab^c = 1/2 g^cd (∂_a g_bd + ∂_b g_ad - ∂_d g_ab)\n",
    "\n",
    "  Args:\n",
    "    coords (list[sympy symbols]): coordinates (scalar fields) with respect to\n",
    "      which the components of the Hesse matrix are defined\n",
    "    g (MetricTensor): metric tensor to be used to raise/lower indices and define\n",
    "      the covariant derivative\n",
    "    V (sympy expression): expression for the scalar potential of the inflaton\n",
    "      fields.\n",
    "\n",
    "  Returns:\n",
    "    list[list[sympy expressions]]: nested list of components of the Hesse matrix\n",
    "  \"\"\"\n",
    "  dim = len(coords)\n",
    "  #The connection has indices up-down-down (opposite order that we usually use)\n",
    "  conn = ChristoffelSymbols.from_metric(g).tensor()\n",
    "  #output components of the Hesse matrix\n",
    "  Vab = [[0 for _ in range(dim)] for _ in range(dim)]\n",
    "  \n",
    "  for a in range(dim):\n",
    "    for b in range(dim):\n",
    "      #Calculate ∂_a ∂_b V(ϕ)\n",
    "      da_dbV = sympy.diff(V, coords[b], coords[a]).simplify()\n",
    "      #Calculate the contraction Γ_ab^c(ϕ) ∂_c V(ϕ)\n",
    "      gamma_ab = 0\n",
    "      for c in range(dim):\n",
    "        gamma_ab = (gamma_ab + conn[c][b][a]*sympy.diff(V, coords[c])).simplify()\n",
    "      #set the output components\n",
    "      Vab[a][b] = (da_dbV - gamma_ab).simplify()\n",
    "  return Vab\n",
    "\n",
    "def calc_v(coords: list, g: MetricTensor, V):\n",
    "  \"\"\"calculates a normalized vector pointing in the direction of the gradient of\n",
    "  the supplied scalar potential\n",
    "\n",
    "  Args:\n",
    "    coords (list[sympy symbols]): coordinates (scalar fields) with respect to\n",
    "      which the potential and its gradient are defined\n",
    "    g (MetricTensor): metric tensor of the scalar manifold (used to calculate\n",
    "      covariant derivatives)\n",
    "    V (sympy expression): scalar potential\n",
    "    \n",
    "  The contravariant components of the gradient of V are given by:\n",
    "    (grad V)^a(ϕ) = g^ab(ϕ) ∂_b V(ϕ)\n",
    "\n",
    "  Returns:\n",
    "    list[sympy expression]: contravariant components of normalized gradient vector\n",
    "      v.\n",
    "  \"\"\"\n",
    "  dim = len(coords)\n",
    "  #non-normalised components of grad V\n",
    "  v = [sympy.diff(V, φ) for φ in coords]  \n",
    "  \n",
    "  #contract v with the inverse of the metric tensor\n",
    "  for a in range(dim):\n",
    "    for b in range(dim):\n",
    "      v[a] = (v[a] + powdenest(g.inv().arr[a][b] * v[a], force=True)).simplify()\n",
    "  \n",
    "  #normalize v\n",
    "  normalize(v, g)\n",
    "  return v\n",
    "\n",
    "def calc_next_w(current_basis: list, guess: list, g: MetricTensor):\n",
    "  f\"\"\"Use the Gramm-Schmidt procedure to find a new orthogonal basis vector given\n",
    "  an incomplete set of orthogonal basis vectors and a third vector that is linearly\n",
    "  independent from the other vectors.\n",
    "\n",
    "  Args:\n",
    "    current_basis (list(list)): list of current *orthogonal* basisvectors. The\n",
    "      components of the vectors should be given in *contravariant* form.\n",
    "    guess (list): vector that is linearly independent from the (incomplete) set of\n",
    "      current basis vectors. The components of this vector should be given in\n",
    "      *contravariant* form. This vector needn't be normalized nor orthogonal to\n",
    "      the set of current basis vectors.\n",
    "    g (MetricTensor): metric tensor (twice covariant) used to define inner products\n",
    "      for the Gramm-Schmidt procedure\n",
    "      \n",
    "  The Gramm-Schmidt procedure starts with a(n incomplete) set of orthonormal\n",
    "  basis vectors x_i and new vector y that is linearly independent of all x_i. We\n",
    "  then simply subtract the overlap between y and each basisvector to obtain a\n",
    "  vector x_i+1 that is orthogonal to all x_i:\n",
    "    x_i+1 = y - Σ_a g_ij x^i_a y^j\n",
    "  The final step is to normalise x_i+1\n",
    "\n",
    "  Returns:\n",
    "    (list): list of the contravariant components of an additional basis vector\n",
    "      orthogonal to the supplied set of basis vectors, with respect to the supplied\n",
    "      metric.\n",
    "  \"\"\"\n",
    "  dim = len(current_basis[0])\n",
    "  #make sure the supplied basis is not already complete\n",
    "  assert(len(current_basis) < dim)\n",
    "  \n",
    "  #start with vector y\n",
    "  y = guess\n",
    "  \n",
    "  #subtract the overlap of each current basis vector from y\n",
    "  for x in current_basis:\n",
    "    #first assert that vec is actually normalised\n",
    "    #assert(sympy.Eq(inner_prod(x, x, g), 1))\n",
    "    xy = inner_prod(x, guess, g) #we have to use guess here, not y!\n",
    "    y = [(y_a - xy*x_a).simplify() for (y_a, x_a) in zip(y, x)]\n",
    "    \n",
    "  #normalize y\n",
    "  normalize(y, g)\n",
    "  return y\n",
    "\n",
    "def project_hesse(hesse_matrix: list, vec1: list, vec2: list):\n",
    "  \"\"\"_summary_\n",
    "\n",
    "  Args:\n",
    "    hesse_matrix (list[list[sympy expression]]): twice-covariant components of\n",
    "      the Hesse matrix\n",
    "    vec1 (list[sympy expression]): first vector along which to project the Hesse\n",
    "      matrix\n",
    "    vec2 (list[sympy expression]): second vector along which to project the Hesse\n",
    "      matrix\n",
    "\n",
    "  Returns:\n",
    "      _type_: _description_\n",
    "  \"\"\"\n",
    "  dim = len(vec1)\n",
    "  assert(len(vec1) == len(vec2))\n",
    "  V_proj = 0\n",
    "  for a in range(dim):\n",
    "    for b in range(dim):\n",
    "      V_proj = V_proj + hesse_matrix[a][b]*vec1[a]*vec2[b]\n",
    "  return powdenest(V_proj.simplify(), force=True)"
   ]
  },
  {
   "cell_type": "code",
   "execution_count": 34,
   "metadata": {},
   "outputs": [
    {
     "data": {
      "text/latex": [
       "$\\displaystyle \\left[\\begin{matrix}1 & 0\\\\0 & g^{2}\\end{matrix}\\right]$"
      ],
      "text/plain": [
       "⎡1  0 ⎤\n",
       "⎢     ⎥\n",
       "⎢    2⎥\n",
       "⎣0  g ⎦"
      ]
     },
     "metadata": {},
     "output_type": "display_data"
    },
    {
     "data": {
      "image/png": "[encoded data removed]",
      "text/latex": [
       "$\\displaystyle V_{0} - g g_{0} + \\frac{m^{2} \\left(f - f_{0}\\right)^{2}}{2}$"
      ],
      "text/plain": [
       "             2         2\n",
       "            m ⋅(f - f₀) \n",
       "V₀ - g⋅g₀ + ────────────\n",
       "                 2      "
      ]
     },
     "metadata": {},
     "output_type": "display_data"
    }
   ],
   "source": [
    "sympy.init_printing()\n",
    "f, g = sympy.symbols(\"f g\")\n",
    "V0, f0, g0, m = sympy.symbols(\"V0 f0 g0 m\")\n",
    "coords = [f, g]\n",
    "d = 2\n",
    "\n",
    "metric = [[0 for i in range(2)] for i in range(2)]\n",
    "metric[0][0] = 1\n",
    "metric[1][1] = g**2\n",
    "metric = MetricTensor(metric, (f, g))\n",
    "V = (V0 - g0*g + 1/2*(m**2)*((f-f0)**2)).nsimplify()\n",
    "display(metric.tensor())\n",
    "display(V)"
   ]
  },
  {
   "cell_type": "code",
   "execution_count": 35,
   "metadata": {},
   "outputs": [
    {
     "data": {
      "image/png": "[encoded data removed]",
      "text/latex": [
       "$\\displaystyle \\left[ \\frac{2 g m^{2} \\left(f - f_{0}\\right)}{\\sqrt{4 g^{2} m^{4} \\left(f - f_{0}\\right)^{2} + g_{0}^{2} \\left(g^{2} + 1\\right)^{2}}}, \\  \\frac{g_{0} \\left(- g^{2} - 1\\right)}{g \\sqrt{4 g^{2} m^{4} \\left(f - f_{0}\\right)^{2} + g_{0}^{2} \\left(g^{2} + 1\\right)^{2}}}\\right]$"
      ],
      "text/plain": [
       "⎡                 2                                        ⎛   2    ⎞         \n",
       "⎢            2⋅g⋅m ⋅(f - f₀)                            g₀⋅⎝- g  - 1⎠         \n",
       "⎢───────────────────────────────────────, ────────────────────────────────────\n",
       "⎢    ___________________________________        ______________________________\n",
       "⎢   ╱                                 2        ╱                              \n",
       "⎢  ╱     2  4         2     2 ⎛ 2    ⎞        ╱     2  4         2     2 ⎛ 2  \n",
       "⎣╲╱   4⋅g ⋅m ⋅(f - f₀)  + g₀ ⋅⎝g  + 1⎠    g⋅╲╱   4⋅g ⋅m ⋅(f - f₀)  + g₀ ⋅⎝g  +\n",
       "\n",
       "     ⎤\n",
       "     ⎥\n",
       "─────⎥\n",
       "_____⎥\n",
       "   2 ⎥\n",
       "  ⎞  ⎥\n",
       " 1⎠  ⎦"
      ]
     },
     "metadata": {},
     "output_type": "display_data"
    },
    {
     "data": {
      "image/png": "[encoded data removed]",
      "text/latex": [
       "$\\displaystyle \\left[ \\frac{g_{0} \\left(f - f_{0}\\right) \\left(g^{2} + 1\\right)}{\\sqrt{4 g^{2} m^{4} \\left(f - f_{0}\\right)^{2} + g_{0}^{2} \\left(g^{2} + 1\\right)^{2}} \\left|{f - f_{0}}\\right|}, \\  \\frac{2 m^{2} \\left(f - f_{0}\\right)^{2}}{\\sqrt{4 g^{2} m^{4} \\left(f - f_{0}\\right)^{2} + g_{0}^{2} \\left(g^{2} + 1\\right)^{2}} \\left|{f - f_{0}}\\right|}\\right]$"
      ],
      "text/plain": [
       "⎡                          ⎛ 2    ⎞                                    2      \n",
       "⎢              g₀⋅(f - f₀)⋅⎝g  + 1⎠                                 2⋅m ⋅(f - \n",
       "⎢────────────────────────────────────────────────, ───────────────────────────\n",
       "⎢    ___________________________________               _______________________\n",
       "⎢   ╱                                 2               ╱                       \n",
       "⎢  ╱     2  4         2     2 ⎛ 2    ⎞               ╱     2  4         2     \n",
       "⎣╲╱   4⋅g ⋅m ⋅(f - f₀)  + g₀ ⋅⎝g  + 1⎠  ⋅│f - f₀│  ╲╱   4⋅g ⋅m ⋅(f - f₀)  + g₀\n",
       "\n",
       "   2                 ⎤\n",
       "f₀)                  ⎥\n",
       "─────────────────────⎥\n",
       "____________         ⎥\n",
       "          2          ⎥\n",
       "2 ⎛ 2    ⎞           ⎥\n",
       " ⋅⎝g  + 1⎠  ⋅│f - f₀│⎦"
      ]
     },
     "metadata": {},
     "output_type": "display_data"
    }
   ],
   "source": [
    "#Calculate the gradient basis\n",
    "basis = [calc_v(coords, metric, V)]\n",
    "display(basis[0])\n",
    "for i in range(d - 1):\n",
    "  next_guess = [0 for _ in range(d)]\n",
    "  next_guess[i + 1] = 1\n",
    "  w = calc_next_w(basis, next_guess, metric)\n",
    "  display(w)\n",
    "  basis.append(w)"
   ]
  },
  {
   "cell_type": "code",
   "execution_count": 36,
   "metadata": {},
   "outputs": [
    {
     "name": "stdout",
     "output_type": "stream",
     "text": [
      "w[0]*w[0]=1\n",
      "w[0]*w[1]=0\n",
      "w[1]*w[0]=0\n",
      "w[1]*w[1]=1\n"
     ]
    }
   ],
   "source": [
    "#sanity check\n",
    "for a in range(d):\n",
    "  for b in range(d):\n",
    "    print(f\"w[{a}]*w[{b}]={inner_prod(basis[a], basis[b], metric)}\")"
   ]
  },
  {
   "cell_type": "code",
   "execution_count": 37,
   "metadata": {},
   "outputs": [
    {
     "data": {
      "text/latex": [
       "$\\displaystyle \\left[\\begin{matrix}m^{2} & 0\\\\0 & \\frac{g_{0}}{g}\\end{matrix}\\right]$"
      ],
      "text/plain": [
       "⎡ 2    ⎤\n",
       "⎢m   0 ⎥\n",
       "⎢      ⎥\n",
       "⎢    g₀⎥\n",
       "⎢0   ──⎥\n",
       "⎣    g ⎦"
      ]
     },
     "metadata": {},
     "output_type": "display_data"
    }
   ],
   "source": [
    "H = calc_hesse(coords, metric, V)\n",
    "display(sympy.Matrix(H))"
   ]
  },
  {
   "cell_type": "code",
   "execution_count": 38,
   "metadata": {},
   "outputs": [
    {
     "name": "stdout",
     "output_type": "stream",
     "text": [
      "H00=\n"
     ]
    },
    {
     "data": {
      "image/png": "[encoded data removed]",
      "text/latex": [
       "$\\displaystyle \\frac{4 g^{5} m^{6} \\left(f - f_{0}\\right)^{2} + g_{0}^{3} \\left(g^{2} + 1\\right)^{2}}{g^{3} \\cdot \\left(4 g^{2} m^{4} \\left(f - f_{0}\\right)^{2} + g_{0}^{2} \\left(g^{2} + 1\\right)^{2}\\right)}$"
      ],
      "text/plain": [
       "                                  2   \n",
       "     5  6         2     3 ⎛ 2    ⎞    \n",
       "  4⋅g ⋅m ⋅(f - f₀)  + g₀ ⋅⎝g  + 1⎠    \n",
       "──────────────────────────────────────\n",
       "   ⎛                                2⎞\n",
       " 3 ⎜   2  4         2     2 ⎛ 2    ⎞ ⎟\n",
       "g ⋅⎝4⋅g ⋅m ⋅(f - f₀)  + g₀ ⋅⎝g  + 1⎠ ⎠"
      ]
     },
     "metadata": {},
     "output_type": "display_data"
    },
    {
     "name": "stdout",
     "output_type": "stream",
     "text": [
      "H01=\n"
     ]
    },
    {
     "data": {
      "image/png": "[encoded data removed]",
      "text/latex": [
       "$\\displaystyle \\frac{2 g_{0} m^{2} \\left(f - f_{0}\\right)^{2} \\left(g^{2} + 1\\right) \\left(g^{3} m^{2} - g_{0}\\right)}{g^{2} \\cdot \\left(4 g^{2} m^{4} \\left(f - f_{0}\\right)^{2} + g_{0}^{2} \\left(g^{2} + 1\\right)^{2}\\right) \\left|{f - f_{0}}\\right|}$"
      ],
      "text/plain": [
       "          2         2 ⎛ 2    ⎞ ⎛ 3  2     ⎞    \n",
       "    2⋅g₀⋅m ⋅(f - f₀) ⋅⎝g  + 1⎠⋅⎝g ⋅m  - g₀⎠    \n",
       "───────────────────────────────────────────────\n",
       "   ⎛                                2⎞         \n",
       " 2 ⎜   2  4         2     2 ⎛ 2    ⎞ ⎟         \n",
       "g ⋅⎝4⋅g ⋅m ⋅(f - f₀)  + g₀ ⋅⎝g  + 1⎠ ⎠⋅│f - f₀│"
      ]
     },
     "metadata": {},
     "output_type": "display_data"
    },
    {
     "name": "stdout",
     "output_type": "stream",
     "text": [
      "H10=\n"
     ]
    },
    {
     "data": {
      "image/png": "[encoded data removed]",
      "text/latex": [
       "$\\displaystyle \\frac{2 g_{0} m^{2} \\left(f - f_{0}\\right)^{2} \\left(g^{2} + 1\\right) \\left(g^{3} m^{2} - g_{0}\\right)}{g^{2} \\cdot \\left(4 g^{2} m^{4} \\left(f - f_{0}\\right)^{2} + g_{0}^{2} \\left(g^{2} + 1\\right)^{2}\\right) \\left|{f - f_{0}}\\right|}$"
      ],
      "text/plain": [
       "          2         2 ⎛ 2    ⎞ ⎛ 3  2     ⎞    \n",
       "    2⋅g₀⋅m ⋅(f - f₀) ⋅⎝g  + 1⎠⋅⎝g ⋅m  - g₀⎠    \n",
       "───────────────────────────────────────────────\n",
       "   ⎛                                2⎞         \n",
       " 2 ⎜   2  4         2     2 ⎛ 2    ⎞ ⎟         \n",
       "g ⋅⎝4⋅g ⋅m ⋅(f - f₀)  + g₀ ⋅⎝g  + 1⎠ ⎠⋅│f - f₀│"
      ]
     },
     "metadata": {},
     "output_type": "display_data"
    },
    {
     "name": "stdout",
     "output_type": "stream",
     "text": [
      "H11=\n"
     ]
    },
    {
     "data": {
      "image/png": "[encoded data removed]",
      "text/latex": [
       "$\\displaystyle \\frac{g_{0} m^{2} \\left(g g_{0} \\left(g^{2} + 1\\right)^{2} + 4 m^{2} \\left(f - f_{0}\\right)^{2}\\right)}{g \\left(4 g^{2} m^{4} \\left(f - f_{0}\\right)^{2} + g_{0}^{2} \\left(g^{2} + 1\\right)^{2}\\right)}$"
      ],
      "text/plain": [
       "      ⎛             2                 ⎞\n",
       "    2 ⎜     ⎛ 2    ⎞       2         2⎟\n",
       "g₀⋅m ⋅⎝g⋅g₀⋅⎝g  + 1⎠  + 4⋅m ⋅(f - f₀) ⎠\n",
       "───────────────────────────────────────\n",
       "   ⎛                                2⎞ \n",
       "   ⎜   2  4         2     2 ⎛ 2    ⎞ ⎟ \n",
       " g⋅⎝4⋅g ⋅m ⋅(f - f₀)  + g₀ ⋅⎝g  + 1⎠ ⎠ "
      ]
     },
     "metadata": {},
     "output_type": "display_data"
    }
   ],
   "source": [
    "from joblib import Parallel, delayed\n",
    "def process(a:int, b:int):\n",
    "  return ([a, b], project_hesse(H, basis[a], basis[b]))\n",
    "\n",
    "H_proj = [[0 for _ in range(d)] for _ in range(d)]\n",
    "results = Parallel(n_jobs=8)(delayed(process)(a, b) for a in range(d) for b in range(d))\n",
    "for (idx, result) in results:\n",
    "  H_proj[idx[0]][idx[1]] = result\n",
    "  print(f\"H{idx[0]}{idx[1]}=\")\n",
    "  display(result)"
   ]
  },
  {
   "cell_type": "code",
   "execution_count": 39,
   "metadata": {},
   "outputs": [
    {
     "data": {
      "image/png": "[encoded data removed]",
      "text/latex": [
       "$\\displaystyle \\frac{2 g_{0} m^{2} \\left(g g_{0} \\left(g^{2} + 1\\right)^{2} + 4 m^{2} \\left(f - f_{0}\\right)^{2}\\right)}{g \\left(4 g^{2} m^{4} \\left(f - f_{0}\\right)^{2} + g_{0}^{2} \\left(g^{2} + 1\\right)^{2}\\right) \\left(2 V_{0} - 2 g g_{0} + m^{2} \\left(f - f_{0}\\right)^{2}\\right)}$"
      ],
      "text/plain": [
       "                     ⎛             2                 ⎞              \n",
       "                   2 ⎜     ⎛ 2    ⎞       2         2⎟              \n",
       "             2⋅g₀⋅m ⋅⎝g⋅g₀⋅⎝g  + 1⎠  + 4⋅m ⋅(f - f₀) ⎠              \n",
       "────────────────────────────────────────────────────────────────────\n",
       "  ⎛                                2⎞                               \n",
       "  ⎜   2  4         2     2 ⎛ 2    ⎞ ⎟ ⎛                 2         2⎞\n",
       "g⋅⎝4⋅g ⋅m ⋅(f - f₀)  + g₀ ⋅⎝g  + 1⎠ ⎠⋅⎝2⋅V₀ - 2⋅g⋅g₀ + m ⋅(f - f₀) ⎠"
      ]
     },
     "metadata": {},
     "output_type": "display_data"
    },
    {
     "data": {
      "image/png": "[encoded data removed]",
      "text/latex": [
       "$\\displaystyle \\frac{16 g_{0}^{2} m^{4} \\left(f - f_{0}\\right)^{4} \\left(g^{2} + 1\\right)^{2} \\left(g^{3} m^{2} - g_{0}\\right)^{2}}{27 g^{4} \\left(4 g^{2} m^{4} \\left(f - f_{0}\\right)^{2} + g_{0}^{2} \\left(g^{2} + 1\\right)^{2}\\right)^{2} \\left(2 V_{0} - 2 g g_{0} + m^{2} \\left(f - f_{0}\\right)^{2}\\right)^{2} \\left|{\\left(f - f_{0}\\right)^{2}}\\right|}$"
      ],
      "text/plain": [
       "                                                 2             2              \n",
       "                          2  4         4 ⎛ 2    ⎞  ⎛ 3  2     ⎞               \n",
       "                     16⋅g₀ ⋅m ⋅(f - f₀) ⋅⎝g  + 1⎠ ⋅⎝g ⋅m  - g₀⎠               \n",
       "──────────────────────────────────────────────────────────────────────────────\n",
       "                                         2                                    \n",
       "      ⎛                                2⎞                                2    \n",
       "    4 ⎜   2  4         2     2 ⎛ 2    ⎞ ⎟  ⎛                 2         2⎞  │  \n",
       "27⋅g ⋅⎝4⋅g ⋅m ⋅(f - f₀)  + g₀ ⋅⎝g  + 1⎠ ⎠ ⋅⎝2⋅V₀ - 2⋅g⋅g₀ + m ⋅(f - f₀) ⎠ ⋅│(f\n",
       "\n",
       "        \n",
       "        \n",
       "        \n",
       "────────\n",
       "        \n",
       "        \n",
       "      2│\n",
       " - f₀) │"
      ]
     },
     "metadata": {},
     "output_type": "display_data"
    }
   ],
   "source": [
    "display((H_proj[1][1]/V).simplify())\n",
    "display((1/27*(H_proj[0][1]/V)**2).nsimplify().simplify())"
   ]
  },
  {
   "cell_type": "code",
   "execution_count": 40,
   "metadata": {},
   "outputs": [
    {
     "data": {
      "image/png": "[encoded data removed]",
      "text/latex": [
       "$\\displaystyle \\frac{32 g_{0}^{2} m^{4} \\left(f - f_{0}\\right)^{4} \\left(g^{2} + 1\\right)^{2} \\left(g^{3} m^{2} - g_{0}\\right)^{2} \\cdot \\left(4 g^{5} m^{6} \\left(f - f_{0}\\right)^{2} + g_{0}^{3} \\left(g^{2} + 1\\right)^{2}\\right)}{3 g^{7} \\left(4 g^{2} m^{4} \\left(f - f_{0}\\right)^{2} + g_{0}^{2} \\left(g^{2} + 1\\right)^{2}\\right)^{3} \\left(2 V_{0} - 2 g g_{0} + m^{2} \\left(f - f_{0}\\right)^{2}\\right)^{3} \\left|{\\left(f - f_{0}\\right)^{2}}\\right|}$"
      ],
      "text/plain": [
       "                               2             2 ⎛                              \n",
       "        2  4         4 ⎛ 2    ⎞  ⎛ 3  2     ⎞  ⎜   5  6         2     3 ⎛ 2   \n",
       "   32⋅g₀ ⋅m ⋅(f - f₀) ⋅⎝g  + 1⎠ ⋅⎝g ⋅m  - g₀⎠ ⋅⎝4⋅g ⋅m ⋅(f - f₀)  + g₀ ⋅⎝g  + \n",
       "──────────────────────────────────────────────────────────────────────────────\n",
       "                                        3                                     \n",
       "     ⎛                                2⎞                                3     \n",
       "   7 ⎜   2  4         2     2 ⎛ 2    ⎞ ⎟  ⎛                 2         2⎞  │   \n",
       "3⋅g ⋅⎝4⋅g ⋅m ⋅(f - f₀)  + g₀ ⋅⎝g  + 1⎠ ⎠ ⋅⎝2⋅V₀ - 2⋅g⋅g₀ + m ⋅(f - f₀) ⎠ ⋅│(f \n",
       "\n",
       "  2⎞   \n",
       " ⎞ ⎟   \n",
       "1⎠ ⎠   \n",
       "───────\n",
       "       \n",
       "       \n",
       "     2│\n",
       "- f₀) │"
      ]
     },
     "metadata": {},
     "output_type": "display_data"
    }
   ],
   "source": [
    "display((1/3*(H_proj[0][1]/V)**2*(H_proj[0][0]/V)).nsimplify().simplify())"
   ]
  }
 ],
 "metadata": {
  "kernelspec": {
   "display_name": "Python 3",
   "language": "python",
   "name": "python3"
  },
  "language_info": {
   "codemirror_mode": {
    "name": "ipython",
    "version": 3
   },
   "file_extension": ".py",
   "mimetype": "text/x-python",
   "name": "python",
   "nbconvert_exporter": "python",
   "pygments_lexer": "ipython3",
   "version": "3.10.11"
  },
  "orig_nbformat": 4
 },
 "nbformat": 4,
 "nbformat_minor": 2
}
