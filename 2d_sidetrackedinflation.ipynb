{
 "cells": [
  {
   "cell_type": "code",
   "execution_count": 4,
   "metadata": {},
   "outputs": [
    {
     "name": "stdout",
     "output_type": "stream",
     "text": [
      "['/home/raulwolters/Documents/inflatox', '/usr/lib64/python310.zip', '/usr/lib64/python3.10', '/usr/lib64/python3.10/lib-dynload', '', '/home/raulwolters/Documents/python310env/lib64/python3.10/site-packages', '/home/raulwolters/Documents/python310env/lib/python3.10/site-packages', '/home/raulwolters/Documents/inflatox/python/src/inflatox', '/home/raulwolters/Documents/inflatox/python/src']\n"
     ]
    }
   ],
   "source": [
    "import sympy\n",
    "from einsteinpy.symbolic import MetricTensor\n",
    "\n",
    "#import inflatox\n",
    "import os, sys\n",
    "inflatox_mod_path = os.path.abspath(os.path.join('./python/src/'))\n",
    "if inflatox_mod_path not in sys.path:\n",
    "  sys.path.append(inflatox_mod_path)\n",
    "print(sys.path)\n",
    "from inflatox import SymbolicCalculation, Compiler"
   ]
  },
  {
   "cell_type": "code",
   "execution_count": 5,
   "metadata": {},
   "outputs": [
    {
     "data": {
      "text/latex": [
       "$\\displaystyle \\left[\\begin{matrix}1 + \\frac{2 χ^{2}}{M^{2}} & 0\\\\0 & 1\\end{matrix}\\right]$"
      ],
      "text/plain": [
       "⎡       2   ⎤\n",
       "⎢    2⋅χ    ⎥\n",
       "⎢1 + ────  0⎥\n",
       "⎢      2    ⎥\n",
       "⎢     M     ⎥\n",
       "⎢           ⎥\n",
       "⎣   0      1⎦"
      ]
     },
     "metadata": {},
     "output_type": "display_data"
    },
    {
     "data": {
      "image/png": "[encoded data removed]",
      "text/latex": [
       "$\\displaystyle \\frac{m_{h}^{2} χ^{2}}{2} + \\frac{m_{l}^{2} \\left(φ - φ_{0}\\right)^{2}}{2}$"
      ],
      "text/plain": [
       "  2  2     2         2\n",
       "mₕ ⋅χ    mₗ ⋅(φ - φ₀) \n",
       "────── + ─────────────\n",
       "  2            2      "
      ]
     },
     "metadata": {},
     "output_type": "display_data"
    }
   ],
   "source": [
    "sympy.init_printing()\n",
    "φ, χ = sympy.symbols(\"φ χ\")\n",
    "coords = [φ, χ]\n",
    "\n",
    "M, mh, ml, φ0 = sympy.symbols(\"M m_h m_l φ_0\")\n",
    "metric = [[0 for _ in range(2)] for _ in range(2)]\n",
    "metric[0][0] = (1 + 2*χ**2/M**2).nsimplify()\n",
    "metric[1][1] = 1\n",
    "metric = MetricTensor(metric, coords)\n",
    "V = ((1/2)*(χ*mh)**2 + (1/2)*ml**2*(φ-φ0)**2).nsimplify()\n",
    "display(metric.tensor())\n",
    "display(V)"
   ]
  },
  {
   "cell_type": "code",
   "execution_count": 7,
   "metadata": {},
   "outputs": [
    {
     "name": "stdout",
     "output_type": "stream",
     "text": [
      "Calculating orthonormal basis...\n"
     ]
    },
    {
     "data": {
      "text/latex": [
       "$\\displaystyle v_0=\\left[ \\frac{M m_{l}^{2} \\left(M^{2} + χ^{2}\\right) \\left(φ - φ_{0}\\right)}{\\sqrt{M^{4} m_{h}^{4} χ^{2} \\left(M^{2} + 2 χ^{2}\\right) + 2 M^{2} m_{h}^{4} χ^{4} \\left(M^{2} + 2 χ^{2}\\right) + M^{2} m_{l}^{4} \\left(M^{2} + χ^{2}\\right)^{2} \\left(φ - φ_{0}\\right)^{2} + 2 m_{l}^{4} χ^{2} \\left(M^{2} + χ^{2}\\right)^{2} \\left(φ - φ_{0}\\right)^{2}}}, \\  \\frac{M m_{h}^{2} χ \\sqrt{M^{2} + 2 χ^{2}}}{\\sqrt{M^{2} m_{h}^{4} χ^{2} \\left(M^{2} + 2 χ^{2}\\right) + m_{l}^{4} \\left(M^{2} + χ^{2}\\right)^{2} \\left(φ - φ_{0}\\right)^{2}}}\\right]$"
      ],
      "text/plain": [
       "<IPython.core.display.Math object>"
      ]
     },
     "metadata": {},
     "output_type": "display_data"
    },
    {
     "ename": "KeyboardInterrupt",
     "evalue": "",
     "output_type": "error",
     "traceback": [
      "\u001b[0;31m---------------------------------------------------------------------------\u001b[0m",
      "\u001b[0;31mKeyboardInterrupt\u001b[0m                         Traceback (most recent call last)",
      "Cell \u001b[0;32mIn[7], line 1\u001b[0m\n\u001b[0;32m----> 1\u001b[0m hesse \u001b[39m=\u001b[39m SymbolicCalculation(coords, metric, V)\u001b[39m.\u001b[39;49mexecute([[\u001b[39m1\u001b[39;49m,\u001b[39m1\u001b[39;49m]])\n",
      "File \u001b[0;32m~/Documents/inflatox/python/src/inflatox/symbolic.py:129\u001b[0m, in \u001b[0;36mSymbolicCalculation.execute\u001b[0;34m(self, basis)\u001b[0m\n\u001b[1;32m    127\u001b[0m display(Math(\u001b[39mf\u001b[39m\u001b[39m\"\u001b[39m\u001b[39mv_0=\u001b[39m\u001b[39m{\u001b[39;00msympy\u001b[39m.\u001b[39mlatex(w[\u001b[39m0\u001b[39m])\u001b[39m}\u001b[39;00m\u001b[39m\"\u001b[39m))\n\u001b[1;32m    128\u001b[0m \u001b[39mfor\u001b[39;00m (i, guess) \u001b[39min\u001b[39;00m \u001b[39menumerate\u001b[39m(basis):\n\u001b[0;32m--> 129\u001b[0m   w\u001b[39m.\u001b[39mappend(\u001b[39mself\u001b[39;49m\u001b[39m.\u001b[39;49mcalc_next_w(w, guess))\n\u001b[1;32m    130\u001b[0m   display(Math(\u001b[39mf\u001b[39m\u001b[39m\"\u001b[39m\u001b[39mv_\u001b[39m\u001b[39m{\u001b[39;00mi\u001b[39m+\u001b[39m\u001b[39m1\u001b[39m\u001b[39m}\u001b[39;00m\u001b[39m=\u001b[39m\u001b[39m{\u001b[39;00msympy\u001b[39m.\u001b[39mlatex(w[i])\u001b[39m}\u001b[39;00m\u001b[39m\"\u001b[39m))\n\u001b[1;32m    132\u001b[0m \u001b[39m#(1b) make sure the basis is orthonormal\u001b[39;00m\n",
      "File \u001b[0;32m~/Documents/inflatox/python/src/inflatox/symbolic.py:290\u001b[0m, in \u001b[0;36mSymbolicCalculation.calc_next_w\u001b[0;34m(self, current_basis, guess)\u001b[0m\n\u001b[1;32m    288\u001b[0m     y[a] \u001b[39m=\u001b[39m (y[a] \u001b[39m-\u001b[39m xy\u001b[39m*\u001b[39mx[a])\u001b[39m.\u001b[39msimplify()    \n\u001b[1;32m    289\u001b[0m \u001b[39m#normalize y\u001b[39;00m\n\u001b[0;32m--> 290\u001b[0m y \u001b[39m=\u001b[39m \u001b[39mself\u001b[39;49m\u001b[39m.\u001b[39;49mnormalize(y)\n\u001b[1;32m    291\u001b[0m \u001b[39mreturn\u001b[39;00m [powdenest(ya, force\u001b[39m=\u001b[39m\u001b[39mTrue\u001b[39;00m)\u001b[39m.\u001b[39msimplify() \u001b[39mfor\u001b[39;00m ya \u001b[39min\u001b[39;00m y]\n",
      "File \u001b[0;32m~/Documents/inflatox/python/src/inflatox/symbolic.py:189\u001b[0m, in \u001b[0;36mSymbolicCalculation.normalize\u001b[0;34m(self, vec)\u001b[0m\n\u001b[1;32m    179\u001b[0m \u001b[39m\u001b[39m\u001b[39m\"\"\"normalizes the input vector with respect to the configured metric tensor\u001b[39;00m\n\u001b[1;32m    180\u001b[0m \n\u001b[1;32m    181\u001b[0m \u001b[39m### Args\u001b[39;00m\n\u001b[0;32m   (...)\u001b[0m\n\u001b[1;32m    186\u001b[0m \u001b[39m  respect to the metric tensor of the current instance \u001b[39;00m\n\u001b[1;32m    187\u001b[0m \u001b[39m\"\"\"\u001b[39;00m\n\u001b[1;32m    188\u001b[0m norm \u001b[39m=\u001b[39m sympy\u001b[39m.\u001b[39msqrt(\u001b[39mself\u001b[39m\u001b[39m.\u001b[39minner_prod(vec, vec))\n\u001b[0;32m--> 189\u001b[0m \u001b[39mreturn\u001b[39;00m [(cmp \u001b[39m/\u001b[39m norm)\u001b[39m.\u001b[39msimplify() \u001b[39mfor\u001b[39;00m cmp \u001b[39min\u001b[39;00m vec]\n",
      "File \u001b[0;32m~/Documents/inflatox/python/src/inflatox/symbolic.py:189\u001b[0m, in \u001b[0;36m<listcomp>\u001b[0;34m(.0)\u001b[0m\n\u001b[1;32m    179\u001b[0m \u001b[39m\u001b[39m\u001b[39m\"\"\"normalizes the input vector with respect to the configured metric tensor\u001b[39;00m\n\u001b[1;32m    180\u001b[0m \n\u001b[1;32m    181\u001b[0m \u001b[39m### Args\u001b[39;00m\n\u001b[0;32m   (...)\u001b[0m\n\u001b[1;32m    186\u001b[0m \u001b[39m  respect to the metric tensor of the current instance \u001b[39;00m\n\u001b[1;32m    187\u001b[0m \u001b[39m\"\"\"\u001b[39;00m\n\u001b[1;32m    188\u001b[0m norm \u001b[39m=\u001b[39m sympy\u001b[39m.\u001b[39msqrt(\u001b[39mself\u001b[39m\u001b[39m.\u001b[39minner_prod(vec, vec))\n\u001b[0;32m--> 189\u001b[0m \u001b[39mreturn\u001b[39;00m [(cmp \u001b[39m/\u001b[39;49m norm)\u001b[39m.\u001b[39;49msimplify() \u001b[39mfor\u001b[39;00m cmp \u001b[39min\u001b[39;00m vec]\n",
      "File \u001b[0;32m~/Documents/python310env/lib64/python3.10/site-packages/sympy/core/basic.py:1767\u001b[0m, in \u001b[0;36mBasic.simplify\u001b[0;34m(self, **kwargs)\u001b[0m\n\u001b[1;32m   1765\u001b[0m \u001b[39m\u001b[39m\u001b[39m\"\"\"See the simplify function in sympy.simplify\"\"\"\u001b[39;00m\n\u001b[1;32m   1766\u001b[0m \u001b[39mfrom\u001b[39;00m \u001b[39msympy\u001b[39;00m\u001b[39m.\u001b[39;00m\u001b[39msimplify\u001b[39;00m\u001b[39m.\u001b[39;00m\u001b[39msimplify\u001b[39;00m \u001b[39mimport\u001b[39;00m simplify\n\u001b[0;32m-> 1767\u001b[0m \u001b[39mreturn\u001b[39;00m simplify(\u001b[39mself\u001b[39;49m, \u001b[39m*\u001b[39;49m\u001b[39m*\u001b[39;49mkwargs)\n",
      "File \u001b[0;32m~/Documents/python310env/lib64/python3.10/site-packages/sympy/simplify/simplify.py:645\u001b[0m, in \u001b[0;36msimplify\u001b[0;34m(expr, ratio, measure, rational, inverse, doit, **kwargs)\u001b[0m\n\u001b[1;32m    643\u001b[0m expr \u001b[39m=\u001b[39m Mul(\u001b[39m*\u001b[39mpowsimp(expr)\u001b[39m.\u001b[39mas_content_primitive())\n\u001b[1;32m    644\u001b[0m _e \u001b[39m=\u001b[39m cancel(expr)\n\u001b[0;32m--> 645\u001b[0m expr1 \u001b[39m=\u001b[39m shorter(_e, _mexpand(_e)\u001b[39m.\u001b[39;49mcancel())  \u001b[39m# issue 6829\u001b[39;00m\n\u001b[1;32m    646\u001b[0m expr2 \u001b[39m=\u001b[39m shorter(together(expr, deep\u001b[39m=\u001b[39m\u001b[39mTrue\u001b[39;00m), together(expr1, deep\u001b[39m=\u001b[39m\u001b[39mTrue\u001b[39;00m))\n\u001b[1;32m    648\u001b[0m \u001b[39mif\u001b[39;00m ratio \u001b[39mis\u001b[39;00m S\u001b[39m.\u001b[39mInfinity:\n",
      "File \u001b[0;32m~/Documents/python310env/lib64/python3.10/site-packages/sympy/core/expr.py:3760\u001b[0m, in \u001b[0;36mExpr.cancel\u001b[0;34m(self, *gens, **args)\u001b[0m\n\u001b[1;32m   3758\u001b[0m \u001b[39m\u001b[39m\u001b[39m\"\"\"See the cancel function in sympy.polys\"\"\"\u001b[39;00m\n\u001b[1;32m   3759\u001b[0m \u001b[39mfrom\u001b[39;00m \u001b[39msympy\u001b[39;00m\u001b[39m.\u001b[39;00m\u001b[39mpolys\u001b[39;00m\u001b[39m.\u001b[39;00m\u001b[39mpolytools\u001b[39;00m \u001b[39mimport\u001b[39;00m cancel\n\u001b[0;32m-> 3760\u001b[0m \u001b[39mreturn\u001b[39;00m cancel(\u001b[39mself\u001b[39;49m, \u001b[39m*\u001b[39;49mgens, \u001b[39m*\u001b[39;49m\u001b[39m*\u001b[39;49margs)\n",
      "File \u001b[0;32m~/Documents/python310env/lib64/python3.10/site-packages/sympy/polys/polytools.py:6739\u001b[0m, in \u001b[0;36mcancel\u001b[0;34m(f, _signsimp, *gens, **args)\u001b[0m\n\u001b[1;32m   6737\u001b[0m f \u001b[39m=\u001b[39m sympify(f)\n\u001b[1;32m   6738\u001b[0m \u001b[39mif\u001b[39;00m _signsimp:\n\u001b[0;32m-> 6739\u001b[0m     f \u001b[39m=\u001b[39m signsimp(f)\n\u001b[1;32m   6740\u001b[0m opt \u001b[39m=\u001b[39m {}\n\u001b[1;32m   6741\u001b[0m \u001b[39mif\u001b[39;00m \u001b[39m'\u001b[39m\u001b[39mpolys\u001b[39m\u001b[39m'\u001b[39m \u001b[39min\u001b[39;00m args:\n",
      "File \u001b[0;32m~/Documents/python310env/lib64/python3.10/site-packages/sympy/simplify/simplify.py:406\u001b[0m, in \u001b[0;36msignsimp\u001b[0;34m(expr, evaluate)\u001b[0m\n\u001b[1;32m    404\u001b[0m \u001b[39m# get rid of an pre-existing unevaluation regarding sign\u001b[39;00m\n\u001b[1;32m    405\u001b[0m e \u001b[39m=\u001b[39m expr\u001b[39m.\u001b[39mreplace(\u001b[39mlambda\u001b[39;00m x: x\u001b[39m.\u001b[39mis_Mul \u001b[39mand\u001b[39;00m \u001b[39m-\u001b[39m(\u001b[39m-\u001b[39mx) \u001b[39m!=\u001b[39m x, \u001b[39mlambda\u001b[39;00m x: \u001b[39m-\u001b[39m(\u001b[39m-\u001b[39mx))\n\u001b[0;32m--> 406\u001b[0m e \u001b[39m=\u001b[39m sub_post(sub_pre(e))\n\u001b[1;32m    407\u001b[0m \u001b[39mif\u001b[39;00m \u001b[39mnot\u001b[39;00m \u001b[39misinstance\u001b[39m(e, (Expr, Relational)) \u001b[39mor\u001b[39;00m e\u001b[39m.\u001b[39mis_Atom:\n\u001b[1;32m    408\u001b[0m     \u001b[39mreturn\u001b[39;00m e\n",
      "File \u001b[0;32m~/Documents/python310env/lib64/python3.10/site-packages/sympy/simplify/cse_opts.py:45\u001b[0m, in \u001b[0;36msub_post\u001b[0;34m(e)\u001b[0m\n\u001b[1;32m     42\u001b[0m \u001b[39m\u001b[39m\u001b[39m\"\"\" Replace 1*-1*x with -x.\u001b[39;00m\n\u001b[1;32m     43\u001b[0m \u001b[39m\"\"\"\u001b[39;00m\n\u001b[1;32m     44\u001b[0m replacements \u001b[39m=\u001b[39m []\n\u001b[0;32m---> 45\u001b[0m \u001b[39mfor\u001b[39;00m node \u001b[39min\u001b[39;00m preorder_traversal(e):\n\u001b[1;32m     46\u001b[0m     \u001b[39mif\u001b[39;00m \u001b[39misinstance\u001b[39m(node, Mul) \u001b[39mand\u001b[39;00m \\\n\u001b[1;32m     47\u001b[0m         node\u001b[39m.\u001b[39margs[\u001b[39m0\u001b[39m] \u001b[39mis\u001b[39;00m S\u001b[39m.\u001b[39mOne \u001b[39mand\u001b[39;00m node\u001b[39m.\u001b[39margs[\u001b[39m1\u001b[39m] \u001b[39mis\u001b[39;00m S\u001b[39m.\u001b[39mNegativeOne:\n\u001b[1;32m     48\u001b[0m         replacements\u001b[39m.\u001b[39mappend((node, \u001b[39m-\u001b[39mMul\u001b[39m.\u001b[39m_from_args(node\u001b[39m.\u001b[39margs[\u001b[39m2\u001b[39m:])))\n",
      "File \u001b[0;32m~/Documents/python310env/lib64/python3.10/site-packages/sympy/core/traversal.py:164\u001b[0m, in \u001b[0;36mpreorder_traversal.__next__\u001b[0;34m(self)\u001b[0m\n\u001b[1;32m    163\u001b[0m \u001b[39mdef\u001b[39;00m \u001b[39m__next__\u001b[39m(\u001b[39mself\u001b[39m):\n\u001b[0;32m--> 164\u001b[0m     \u001b[39mreturn\u001b[39;00m \u001b[39mnext\u001b[39;49m(\u001b[39mself\u001b[39;49m\u001b[39m.\u001b[39;49m_pt)\n",
      "File \u001b[0;32m~/Documents/python310env/lib64/python3.10/site-packages/sympy/core/traversal.py:138\u001b[0m, in \u001b[0;36mpreorder_traversal._preorder_traversal\u001b[0;34m(self, node, keys)\u001b[0m\n\u001b[1;32m    136\u001b[0m             args \u001b[39m=\u001b[39m ordered(args)\n\u001b[1;32m    137\u001b[0m     \u001b[39mfor\u001b[39;00m arg \u001b[39min\u001b[39;00m args:\n\u001b[0;32m--> 138\u001b[0m         \u001b[39myield from\u001b[39;00m \u001b[39mself\u001b[39m\u001b[39m.\u001b[39m_preorder_traversal(arg, keys)\n\u001b[1;32m    139\u001b[0m \u001b[39melif\u001b[39;00m iterable(node):\n\u001b[1;32m    140\u001b[0m     \u001b[39mfor\u001b[39;00m item \u001b[39min\u001b[39;00m node:\n",
      "File \u001b[0;32m~/Documents/python310env/lib64/python3.10/site-packages/sympy/core/traversal.py:138\u001b[0m, in \u001b[0;36mpreorder_traversal._preorder_traversal\u001b[0;34m(self, node, keys)\u001b[0m\n\u001b[1;32m    136\u001b[0m             args \u001b[39m=\u001b[39m ordered(args)\n\u001b[1;32m    137\u001b[0m     \u001b[39mfor\u001b[39;00m arg \u001b[39min\u001b[39;00m args:\n\u001b[0;32m--> 138\u001b[0m         \u001b[39myield from\u001b[39;00m \u001b[39mself\u001b[39m\u001b[39m.\u001b[39m_preorder_traversal(arg, keys)\n\u001b[1;32m    139\u001b[0m \u001b[39melif\u001b[39;00m iterable(node):\n\u001b[1;32m    140\u001b[0m     \u001b[39mfor\u001b[39;00m item \u001b[39min\u001b[39;00m node:\n",
      "    \u001b[0;31m[... skipping similar frames: preorder_traversal._preorder_traversal at line 138 (9 times)]\u001b[0m\n",
      "File \u001b[0;32m~/Documents/python310env/lib64/python3.10/site-packages/sympy/core/traversal.py:138\u001b[0m, in \u001b[0;36mpreorder_traversal._preorder_traversal\u001b[0;34m(self, node, keys)\u001b[0m\n\u001b[1;32m    136\u001b[0m             args \u001b[39m=\u001b[39m ordered(args)\n\u001b[1;32m    137\u001b[0m     \u001b[39mfor\u001b[39;00m arg \u001b[39min\u001b[39;00m args:\n\u001b[0;32m--> 138\u001b[0m         \u001b[39myield from\u001b[39;00m \u001b[39mself\u001b[39m\u001b[39m.\u001b[39m_preorder_traversal(arg, keys)\n\u001b[1;32m    139\u001b[0m \u001b[39melif\u001b[39;00m iterable(node):\n\u001b[1;32m    140\u001b[0m     \u001b[39mfor\u001b[39;00m item \u001b[39min\u001b[39;00m node:\n",
      "File \u001b[0;32m~/Documents/python310env/lib64/python3.10/site-packages/sympy/core/traversal.py:121\u001b[0m, in \u001b[0;36mpreorder_traversal._preorder_traversal\u001b[0;34m(self, node, keys)\u001b[0m\n\u001b[1;32m    120\u001b[0m \u001b[39mdef\u001b[39;00m \u001b[39m_preorder_traversal\u001b[39m(\u001b[39mself\u001b[39m, node, keys):\n\u001b[0;32m--> 121\u001b[0m     \u001b[39myield\u001b[39;00m node\n\u001b[1;32m    122\u001b[0m     \u001b[39mif\u001b[39;00m \u001b[39mself\u001b[39m\u001b[39m.\u001b[39m_skip_flag:\n\u001b[1;32m    123\u001b[0m         \u001b[39mself\u001b[39m\u001b[39m.\u001b[39m_skip_flag \u001b[39m=\u001b[39m \u001b[39mFalse\u001b[39;00m\n",
      "\u001b[0;31mKeyboardInterrupt\u001b[0m: "
     ]
    }
   ],
   "source": [
    "hesse = SymbolicCalculation(coords, metric, V).execute([[1,1]])"
   ]
  },
  {
   "cell_type": "code",
   "execution_count": null,
   "metadata": {},
   "outputs": [],
   "source": [
    "out = Compiler(hesse, cleanup=False).compile()\n",
    "out.print_sym_lookup_table()"
   ]
  }
 ],
 "metadata": {
  "kernelspec": {
   "display_name": "python310env",
   "language": "python",
   "name": "python3"
  },
  "language_info": {
   "codemirror_mode": {
    "name": "ipython",
    "version": 3
   },
   "file_extension": ".py",
   "mimetype": "text/x-python",
   "name": "python",
   "nbconvert_exporter": "python",
   "pygments_lexer": "ipython3",
   "version": "3.10.11"
  },
  "orig_nbformat": 4
 },
 "nbformat": 4,
 "nbformat_minor": 2
}
