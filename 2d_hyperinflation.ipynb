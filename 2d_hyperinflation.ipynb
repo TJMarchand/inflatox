{
 "cells": [
  {
   "cell_type": "code",
   "execution_count": 1,
   "metadata": {},
   "outputs": [],
   "source": [
    "import sympy\n",
    "from sympy import powdenest\n",
    "from IPython.display import display, Math\n",
    "from einsteinpy.symbolic import MetricTensor, ChristoffelSymbols\n",
    "from joblib import Parallel, delayed, cpu_count\n",
    "\n",
    "class SymbolicCalculation():\n",
    "  \n",
    "  def __init__(self, fields: list[sympy.Symbol], field_metric: MetricTensor, potential: sympy.Expr):\n",
    "    self.coords = fields\n",
    "    self.g = field_metric\n",
    "    self.V = potential\n",
    "    \n",
    "  def execute(self, basis: list[list[sympy.Expr]]) -> list[list[sympy.Expr]]:\n",
    "    dim = len(self.coords)\n",
    "    assert(len(basis) == dim - 1)\n",
    "    \n",
    "    #(1) Calculate an orthonormal basis\n",
    "    print(\"Calculating orthonormal basis...\")\n",
    "    w = [self.calc_v()]\n",
    "    display(Math(f\"v_0={sympy.latex(w[0])}\"))\n",
    "    for (i, guess) in enumerate(basis):\n",
    "      w.append(self.calc_next_w(w, guess))\n",
    "      display(Math(f\"v_{i+1}={sympy.latex(w[i])}\"))\n",
    "    \n",
    "    #(1b) make sure the basis is orthonormal\n",
    "    for a in range(dim):\n",
    "      for b in range(dim):\n",
    "        if a == b:\n",
    "          assert(sympy.Eq(1, self.inner_prod(w[a], w[b])).simplify())\n",
    "        else:\n",
    "          assert(sympy.Eq(0, self.inner_prod(w[a], w[b])).simplify())\n",
    "        \n",
    "    #(2) Calculate the components of the covariant Hesse Matrix\n",
    "    print(\"Calculating covariant Hesse matrix...\")\n",
    "    H = self.calc_hesse()\n",
    "    display(Math(f\"H={sympy.latex(sympy.Matrix(H))}\"))\n",
    "    \n",
    "    #(3) Project Hesse matrix\n",
    "    print(\"Projecting the Hesse matrix on the vielbein basis...\")\n",
    "    def process(a:int, b:int):\n",
    "      return ([a, b], self.project_hesse(H, w[a], w[b]))\n",
    "    H_proj = [[0 for _ in range(dim)] for _ in range(dim)]\n",
    "    results = Parallel(n_jobs=cpu_count())(delayed(process)(a, b) for a in range(dim) for b in range(dim))\n",
    "    \n",
    "    #(3b) print projected components of the Hesse matrix\n",
    "    for (idx, component) in results:\n",
    "        a, b = idx\n",
    "        H_proj[a][b] = component\n",
    "        display(Math(f\"H_{{{a}{b}}}={sympy.latex(component)}\"))\n",
    "    return H_proj\n",
    "   \n",
    "  def inner_prod(self, v1: list[sympy.Expr], v2: list[sympy.Expr]) -> sympy.Expr:\n",
    "    \"\"\"returns the inner product of vec1 and vec2 with respect to configured metric\n",
    "\n",
    "    Args:\n",
    "      v1 (list): first vector, once contravariant\n",
    "      v1 (list): second vector, once contravariant\n",
    "\n",
    "    Returns:\n",
    "      symbolic sympy expression: inner product of vec1 with vec2 with respect to\n",
    "      the configured metric tensor of the current instance\n",
    "    \"\"\"\n",
    "    ans = 0\n",
    "    dim = len(v1)\n",
    "    assert(dim == len(v2))\n",
    "    for a in range(dim):\n",
    "      for b in range(dim):\n",
    "        ans = ans + (v1[a] * v2[b] * self.g.arr[a][b])\n",
    "    return powdenest(ans, force=True).simplify()\n",
    "\n",
    "  def normalize(self, vec: list[sympy.Expr]) -> list[sympy.Expr]:\n",
    "    \"\"\"normalizes the input vector with respect to the configured metric tensor\n",
    "\n",
    "    Args:\n",
    "      vec (list[sympy expressions]): components of the vector to be normalised\n",
    "\n",
    "    Returns:\n",
    "      normalized components of the supplied vector vec with respect to the\n",
    "      metric tensor of the current instance \n",
    "    \"\"\"\n",
    "    norm = sympy.sqrt(self.inner_prod(vec, vec))\n",
    "    return [(cmp / norm).simplify() for cmp in vec]\n",
    "    \n",
    "  def calc_hesse(self) -> list[list[sympy.Expr]]:\n",
    "    \"\"\"returns the components of the covariant Hesse matrix in a twice-covariant\n",
    "    form. Components for all pairs of the supplied coordinates are calculated for\n",
    "    the scalar potential V using the supplied metric tensor.\n",
    "    \n",
    "    The components of the covariant Hesse matrix are defined as:\n",
    "      V_ab(ϕ) = ∇_a ∇_b V(ϕ)\n",
    "    This is expanded as (using Einstein notation):\n",
    "      V_ab(ϕ) = ∇_a (∂_b V(ϕ)) = ∂_a ∂_b V(ϕ) - Γ_ab^c(ϕ) ∂_c V(ϕ)\n",
    "    Where Γ_ab^c(ϕ) is the standard Christoffel connection defined as:\n",
    "      Γ_ab^c = 1/2 g^cd (∂_a g_bd + ∂_b g_ad - ∂_d g_ab)\n",
    "\n",
    "    Returns:\n",
    "      list[list[sympy expressions]]: nested list of components of the Hesse matrix\n",
    "    \"\"\"\n",
    "    dim = len(self.coords)\n",
    "    #The connection has indices up-down-down (opposite order that we usually use)\n",
    "    conn = ChristoffelSymbols.from_metric(self.g).tensor()\n",
    "    #output components of the Hesse matrix\n",
    "    Vab = [[0 for _ in range(dim)] for _ in range(dim)]\n",
    "    \n",
    "    for a in range(dim):\n",
    "      for b in range(dim):\n",
    "        #Calculate ∂_a ∂_b V(ϕ)\n",
    "        da_dbV = sympy.diff(self.V, self.coords[b], self.coords[a]).simplify()\n",
    "        #Calculate the contraction Γ_ab^c(ϕ) ∂_c V(ϕ)\n",
    "        gamma_ab = 0\n",
    "        for c in range(dim):\n",
    "          gamma_ab = (gamma_ab + conn[c][b][a]*sympy.diff(self.V, self.coords[c])).simplify()\n",
    "        #set the output components\n",
    "        Vab[a][b] = powdenest((da_dbV - gamma_ab).simplify(), force=True)\n",
    "    return Vab\n",
    "\n",
    "  def calc_v(self) -> list[sympy.Expr]:\n",
    "    \"\"\"calculates a normalized vector pointing in the direction of the gradient of\n",
    "    the configured scalar potential of the current instance\n",
    "      \n",
    "    The contravariant components of the gradient of V are given by:\n",
    "      (grad V)^a(ϕ) = g^ab(ϕ) ∂_b V(ϕ)\n",
    "\n",
    "    Returns:\n",
    "      list[sympy expression]: contravariant components of normalized gradient vector\n",
    "      v.\n",
    "    \"\"\"\n",
    "    dim = len(self.coords)\n",
    "    #non-normalised components of grad V\n",
    "    v = [sympy.diff(self.V, φ) for φ in self.coords]  \n",
    "    \n",
    "    #contract v with the inverse of the metric tensor\n",
    "    for a in range(dim):\n",
    "      for b in range(dim):\n",
    "        v[a] = (v[a] + self.g.inv().arr[a][b] * v[a]).simplify()\n",
    "    \n",
    "    #normalize v\n",
    "    v = self.normalize(v)\n",
    "    return [powdenest(va, force=True).simplify() for va in v]\n",
    "\n",
    "  def calc_next_w(self, current_basis: list[list[sympy.Expr]], guess: list[sympy.Expr]) -> list[sympy.Expr]:\n",
    "    f\"\"\"Use the Gramm-Schmidt procedure to find a new orthogonal basis vector given\n",
    "    an incomplete set of orthogonal basis vectors and a third vector that is linearly\n",
    "    independent from the other vectors.\n",
    "\n",
    "    Args:\n",
    "      current_basis (list[list[sympy expression]]): list of current *orthogonal*\n",
    "        basisvectors. The components of the vectors should be given in\n",
    "        *contravariant* form.\n",
    "      guess (list[sympy.Expr]): vector that is linearly independent from the\n",
    "        (incomplete) set of current basis vectors. The components of this vector\n",
    "        should be given in *contravariant* form. This vector needn't be\n",
    "        normalized nor orthogonal to the set of current basis vectors.\n",
    "        \n",
    "    The Gramm-Schmidt procedure starts with a(n incomplete) set of orthonormal\n",
    "    basis vectors x_i and new vector y that is linearly independent of all x_i. We\n",
    "    then simply subtract the overlap between y and each basisvector to obtain a\n",
    "    vector x_i+1 that is orthogonal to all x_i:\n",
    "      x_i+1 = y - Σ_a g_ij x^i_a y^j\n",
    "    The final step is to normalise x_i+1\n",
    "\n",
    "    Returns:\n",
    "      (list[sympy.Expr]): list of the contravariant components of an additional basis vector\n",
    "        orthogonal to the supplied set of basis vectors, with respect to the supplied\n",
    "        metric.\n",
    "    \"\"\"\n",
    "    dim = len(current_basis[0])\n",
    "    #make sure the supplied basis is not already complete\n",
    "    assert(len(current_basis) < dim)\n",
    "    \n",
    "    #start with vector y\n",
    "    y = guess\n",
    "    \n",
    "    #subtract the overlap of each current basis vector from y\n",
    "    for x in current_basis:\n",
    "      #first assert that vec is actually normalised\n",
    "      #assert(sympy.Eq(inner_prod(x, x, g), 1))\n",
    "      xy = self.inner_prod(x, guess) #we have to use guess here, not y!\n",
    "      for a in range(dim):\n",
    "        y[a] = (y[a] - xy*x[a]).simplify()    \n",
    "    #normalize y\n",
    "    y = self.normalize(y)\n",
    "    return [powdenest(ya, force=True).simplify() for ya in y]\n",
    "\n",
    "  def project_hesse(self, hesse_matrix: list[list[sympy.Expr]], vec1: list[sympy.Expr], vec2: list[sympy.Expr]) -> sympy.Expr:\n",
    "    \"\"\"_summary_\n",
    "\n",
    "    Args:\n",
    "      hesse_matrix (list[list[sympy expression]]): twice-covariant components of\n",
    "        the Hesse matrix\n",
    "      vec1 (list[sympy expression]): first vector along which to project the Hesse\n",
    "        matrix\n",
    "      vec2 (list[sympy expression]): second vector along which to project the Hesse\n",
    "        matrix\n",
    "\n",
    "    Returns:\n",
    "      (sympy expression): _description_\n",
    "    \"\"\"\n",
    "    dim = len(vec1)\n",
    "    assert(len(vec1) == len(vec2))\n",
    "    V_proj = 0\n",
    "    for a in range(dim):\n",
    "      for b in range(dim):\n",
    "        V_proj = V_proj + hesse_matrix[a][b]*vec1[a]*vec2[b]\n",
    "    return powdenest(V_proj.simplify(), force=True)"
   ]
  },
  {
   "cell_type": "code",
   "execution_count": 2,
   "metadata": {},
   "outputs": [
    {
     "data": {
      "text/latex": [
       "$\\displaystyle \\left[\\begin{matrix}1 & 0\\\\0 & L^{2} \\sinh^{2}{\\left(\\frac{φ}{L} \\right)}\\end{matrix}\\right]$"
      ],
      "text/plain": [
       "⎡1       0     ⎤\n",
       "⎢              ⎥\n",
       "⎢    2     2⎛φ⎞⎥\n",
       "⎢0  L ⋅sinh ⎜─⎟⎥\n",
       "⎣           ⎝L⎠⎦"
      ]
     },
     "metadata": {},
     "output_type": "display_data"
    }
   ],
   "source": [
    "sympy.init_printing()\n",
    "φ, θ, L = sympy.symbols('φ θ L')\n",
    "d = 2\n",
    "coords = [φ, θ]\n",
    "\n",
    "g = [[0 for _ in range(d)] for _ in range(d)]\n",
    "g[0][0] = 1\n",
    "g[1][1] = L**2*sympy.sinh(φ/L)**2\n",
    "\n",
    "g = MetricTensor(g, coords)\n",
    "display(g.tensor())"
   ]
  },
  {
   "cell_type": "code",
   "execution_count": 3,
   "metadata": {},
   "outputs": [
    {
     "data": {
      "image/png": "[encoded data removed]",
      "text/latex": [
       "$\\displaystyle \\frac{m^{2} \\left(φ - φ_{0}\\right)^{2}}{2}$"
      ],
      "text/plain": [
       " 2         2\n",
       "m ⋅(φ - φ₀) \n",
       "────────────\n",
       "     2      "
      ]
     },
     "metadata": {},
     "output_type": "display_data"
    }
   ],
   "source": [
    "m, φ0 = sympy.symbols('m φ0')\n",
    "V = (1/2*m**2*(φ-φ0)**2).nsimplify()\n",
    "display(V)"
   ]
  },
  {
   "cell_type": "code",
   "execution_count": 4,
   "metadata": {},
   "outputs": [
    {
     "name": "stdout",
     "output_type": "stream",
     "text": [
      "Calculating orthonormal basis...\n"
     ]
    },
    {
     "data": {
      "text/latex": [
       "$\\displaystyle v_0=\\left[ \\frac{φ - φ_{0}}{\\left|{φ - φ_{0}}\\right|}, \\  0\\right]$"
      ],
      "text/plain": [
       "<IPython.core.display.Math object>"
      ]
     },
     "metadata": {},
     "output_type": "display_data"
    },
    {
     "data": {
      "text/latex": [
       "$\\displaystyle v_1=\\left[ \\frac{φ - φ_{0}}{\\left|{φ - φ_{0}}\\right|}, \\  0\\right]$"
      ],
      "text/plain": [
       "<IPython.core.display.Math object>"
      ]
     },
     "metadata": {},
     "output_type": "display_data"
    },
    {
     "name": "stdout",
     "output_type": "stream",
     "text": [
      "Calculating covariant Hesse matrix...\n"
     ]
    },
    {
     "data": {
      "text/latex": [
       "$\\displaystyle H=\\left[\\begin{matrix}m^{2} & 0\\\\0 & \\frac{L m^{2} \\left(φ - φ_{0}\\right) \\sinh{\\left(\\frac{2 φ}{L} \\right)}}{2}\\end{matrix}\\right]$"
      ],
      "text/plain": [
       "<IPython.core.display.Math object>"
      ]
     },
     "metadata": {},
     "output_type": "display_data"
    },
    {
     "name": "stdout",
     "output_type": "stream",
     "text": [
      "Projecting the Hesse matrix on the vielbein basis...\n"
     ]
    },
    {
     "data": {
      "text/latex": [
       "$\\displaystyle H_{00}=m^{2}$"
      ],
      "text/plain": [
       "<IPython.core.display.Math object>"
      ]
     },
     "metadata": {},
     "output_type": "display_data"
    },
    {
     "data": {
      "text/latex": [
       "$\\displaystyle H_{01}=0$"
      ],
      "text/plain": [
       "<IPython.core.display.Math object>"
      ]
     },
     "metadata": {},
     "output_type": "display_data"
    },
    {
     "data": {
      "text/latex": [
       "$\\displaystyle H_{10}=0$"
      ],
      "text/plain": [
       "<IPython.core.display.Math object>"
      ]
     },
     "metadata": {},
     "output_type": "display_data"
    },
    {
     "data": {
      "text/latex": [
       "$\\displaystyle H_{11}=\\frac{m^{2} \\left(φ - φ_{0}\\right)}{L \\tanh{\\left(\\frac{φ}{L} \\right)}}$"
      ],
      "text/plain": [
       "<IPython.core.display.Math object>"
      ]
     },
     "metadata": {},
     "output_type": "display_data"
    }
   ],
   "source": [
    "hesse = SymbolicCalculation(coords, g, V).execute([[0,1]])"
   ]
  },
  {
   "cell_type": "code",
   "execution_count": null,
   "metadata": {},
   "outputs": [],
   "source": []
  }
 ],
 "metadata": {
  "kernelspec": {
   "display_name": "python310env",
   "language": "python",
   "name": "python3"
  },
  "language_info": {
   "codemirror_mode": {
    "name": "ipython",
    "version": 3
   },
   "file_extension": ".py",
   "mimetype": "text/x-python",
   "name": "python",
   "nbconvert_exporter": "python",
   "pygments_lexer": "ipython3",
   "version": "3.10.11"
  },
  "orig_nbformat": 4
 },
 "nbformat": 4,
 "nbformat_minor": 2
}
