{
 "cells": [
  {
   "cell_type": "code",
   "execution_count": 34,
   "metadata": {},
   "outputs": [],
   "source": [
    "import os\n",
    "import tempfile\n",
    "import distutils.ccompiler as ccomp\n",
    "from datetime import datetime\n",
    "from sys import version as sys_version\n",
    "from typing import Literal\n",
    "\n",
    "import sympy\n",
    "from sympy import powdenest\n",
    "from sympy.printing import ccode\n",
    "from IPython.display import display, Math\n",
    "from einsteinpy.symbolic import MetricTensor, ChristoffelSymbols\n",
    "from joblib import Parallel, delayed, cpu_count\n",
    "\n",
    "class HesseMatrix():  \n",
    "  def __init__(self,\n",
    "    components: list[list[sympy.Expr]],\n",
    "    coordinates: list[sympy.Symbol],\n",
    "    model_name: str|None\n",
    "  ):\n",
    "    self.cmp = components\n",
    "    self.dim = len(components[0])\n",
    "    self.coordinates = coordinates\n",
    "    self.model_name = model_name if model_name is not None else \"generic model\"\n",
    "    if len(components[0]) != len(components):\n",
    "      raise Exception('The Hesse Matrix is square; the provided list was not (number of columns != number of rows)')\n",
    "    \n",
    "  @classmethod\n",
    "  def from_list(cls, components: list[list[sympy.Expr]], model_name: str|None = None):\n",
    "    cls(components)\n",
    "    \n",
    "  @classmethod\n",
    "  def from_matrix(cls, matrix: sympy.MutableMatrix):\n",
    "    raise Exception(\"Not implemented!\")\n",
    "\n",
    "class SymbolicCalculation():\n",
    "  \"\"\"This class represents the symbolic calculation of the Hesse matrix of the\n",
    "  scalar field potential, projected on an orthonormal vielbein basis constructed\n",
    "  from the supplied potential. Both of these constructs are covariant with respect\n",
    "  to the supplied metric on the scalar manifold.\n",
    "  \n",
    "  ### Usage\n",
    "  An instance of this `SymbolicCalculation` class may be constructed from a\n",
    "  user-defined field_metric, a potential and a list of sympy Symbols indicating\n",
    "  which symbols (used in the definition of the potential and metric) should be\n",
    "  interpreted as fields. Two different constructors can be used:\n",
    "  \n",
    "  1. `SymbolicCalculation.new()` takes a `field_metric` argument as an instance\n",
    "    of EinsteinPy's `MetricTensor` class.\n",
    "  2. `SymbolicCalculation.new_from_list()` takes a `field_metric` argument as a\n",
    "    normal python nested list of sympy expressions. This constructor is especially\n",
    "    useful when other functionality supplied by the EinsteinPy package is not required.\n",
    "    \n",
    "  Calling the `.execute()` method on an instance of this (`SymbolicCalculation`)\n",
    "  with an appropriate starting point for constructing the vielbein basis will \n",
    "  perform the calculation of the components of the covariant Hesse matrix, projected\n",
    "  onto the vielbein basis.\n",
    "  \"\"\"\n",
    "  \n",
    "  def __init__(self,\n",
    "      fields: list[sympy.Symbol],\n",
    "      field_metric: MetricTensor,\n",
    "      potential: sympy.Expr,\n",
    "      model_name: str|None = None\n",
    "    ):\n",
    "    self.coords = fields\n",
    "    self.g = field_metric\n",
    "    self.V = potential\n",
    "    self.model_name = model_name\n",
    "    \n",
    "  @classmethod\n",
    "  def new(cls, fields: list[sympy.Symbol], field_metric: MetricTensor, potential: sympy.Expr):\n",
    "    \"\"\"Constructs an instance of `SymbolicCalculation`\n",
    "\n",
    "    ### Args\n",
    "    - `fields` (`list[sympy.Symbol]`): sympy symbols that will be interpreted as\n",
    "    fields during the symbolic calculation.\n",
    "    - field_metric (`einsteinpy.symbolic.MetricTensor`): metric tensor on the scalar\n",
    "    manifold\n",
    "    - potential (`sympy.Expr`): potential for the scalar fields\n",
    "\n",
    "    ### Returns\n",
    "    `SymbolicCalculation`\n",
    "    \"\"\"\n",
    "    return cls(fields, field_metric, potential)\n",
    "  \n",
    "  @classmethod\n",
    "  def new_from_list(cls, fields: list[sympy.Symbol], field_metric: list[list[sympy.Symbol]], potential: sympy.Expr):\n",
    "    \"\"\"Constructs an instance of `SymbolicCalculation`\n",
    "\n",
    "    ### Args\n",
    "    - `fields` (`list[sympy.Symbol]`): sympy symbols that will be interpreted as\n",
    "    fields during the symbolic calculation.\n",
    "    - field_metric (`einsteinpy.symbolic.MetricTensor`): metric tensor on the scalar\n",
    "    manifold\n",
    "    - potential (`sympy.Expr`): potential for the scalar fields\n",
    "\n",
    "    ### Returns\n",
    "    `SymbolicCalculation`\n",
    "    \"\"\"\n",
    "    metric = MetricTensor(field_metric, fields, \"scalar manifold metric\")\n",
    "    return cls(fields, metric, potential)\n",
    "    \n",
    "  def execute(self, basis: list[list[sympy.Expr]]) -> HesseMatrix:\n",
    "    \"\"\"_summary_\n",
    "\n",
    "    ### Args:\n",
    "    `basis` (`list[list[sympy.Expr]]`): _description_\n",
    "\n",
    "    ### Returns:\n",
    "    `HesseMatrix`: _description_\n",
    "    \"\"\"\n",
    "    dim = len(self.coords)\n",
    "    assert(len(basis) == dim - 1)\n",
    "    \n",
    "    #(1) Calculate an orthonormal basis\n",
    "    print(\"Calculating orthonormal basis...\")\n",
    "    w = [self.calc_v()]\n",
    "    display(Math(f\"v_0={sympy.latex(w[0])}\"))\n",
    "    for (i, guess) in enumerate(basis):\n",
    "      w.append(self.calc_next_w(w, guess))\n",
    "      display(Math(f\"v_{i+1}={sympy.latex(w[i])}\"))\n",
    "    \n",
    "    #(1b) make sure the basis is orthonormal\n",
    "    for a in range(dim):\n",
    "      for b in range(dim):\n",
    "        if a == b:\n",
    "          assert(sympy.Eq(1, self.inner_prod(w[a], w[b])).simplify())\n",
    "        else:\n",
    "          assert(sympy.Eq(0, self.inner_prod(w[a], w[b])).simplify())\n",
    "        \n",
    "    #(2) Calculate the components of the covariant Hesse Matrix\n",
    "    print(\"Calculating covariant Hesse matrix...\")\n",
    "    H = self.calc_hesse()\n",
    "    display(Math(f\"H={sympy.latex(sympy.Matrix(H))}\"))\n",
    "    \n",
    "    #(3) Project Hesse matrix\n",
    "    print(\"Projecting the Hesse matrix on the vielbein basis...\")\n",
    "    def process(a:int, b:int):\n",
    "      return ([a, b], self.project_hesse(H, w[a], w[b]))\n",
    "    H_proj = [[0 for _ in range(dim)] for _ in range(dim)]\n",
    "    results = Parallel(n_jobs=cpu_count())(delayed(process)(a, b) for a in range(dim) for b in range(dim))\n",
    "    \n",
    "    #(3b) print projected components of the Hesse matrix\n",
    "    for (idx, component) in results:\n",
    "        a, b = idx\n",
    "        H_proj[a][b] = component\n",
    "        display(Math(f\"H_{{{a}{b}}}={sympy.latex(component)}\"))\n",
    "    return HesseMatrix(H_proj, self.coords, self.model_name)\n",
    "   \n",
    "  def inner_prod(self, v1: list[sympy.Expr], v2: list[sympy.Expr]) -> sympy.Expr:\n",
    "    \"\"\"returns the inner product of vec1 and vec2 with respect to configured metric\n",
    "\n",
    "    ### Args\n",
    "    - `v1` (`list[sympy.Expr]`): first vector, once contravariant\n",
    "    - `v1` (`list[sympy.Expr]`): second vector, once contravariant\n",
    "\n",
    "    ### Returns\n",
    "    `sympy.Expr`: inner product of vec1 with vec2 with respect to the configured\n",
    "      metric tensor of the current instance\n",
    "    \"\"\"\n",
    "    ans = 0\n",
    "    dim = len(v1)\n",
    "    assert(dim == len(v2))\n",
    "    for a in range(dim):\n",
    "      for b in range(dim):\n",
    "        ans = ans + (v1[a] * v2[b] * self.g.arr[a][b])\n",
    "    return powdenest(ans, force=True).simplify()\n",
    "\n",
    "  def normalize(self, vec: list[sympy.Expr]) -> list[sympy.Expr]:\n",
    "    \"\"\"normalizes the input vector with respect to the configured metric tensor\n",
    "\n",
    "    ### Args\n",
    "    vec (`list[sympy.Expr]`): components of the vector to be normalised\n",
    "\n",
    "    ### Returns\n",
    "    `list[sympy.Expr]`: normalized components of the supplied vector vec with\n",
    "      respect to the metric tensor of the current instance \n",
    "    \"\"\"\n",
    "    norm = sympy.sqrt(self.inner_prod(vec, vec))\n",
    "    return [(cmp / norm).simplify() for cmp in vec]\n",
    "    \n",
    "  def calc_hesse(self) -> list[list[sympy.Expr]]:\n",
    "    \"\"\"returns the components of the covariant Hesse matrix in a twice-covariant\n",
    "    form. Components for all pairs of the supplied coordinates are calculated for\n",
    "    the scalar potential V using the supplied metric tensor.\n",
    "    \n",
    "    ### Precise formulation of calculated quantities\n",
    "    The components of the covariant Hesse matrix are defined as:\n",
    "      V_ab(ϕ) = ∇_a ∇_b V(ϕ)\n",
    "    This is expanded as (using Einstein notation):\n",
    "      V_ab(ϕ) = ∇_a (∂_b V(ϕ)) = ∂_a ∂_b V(ϕ) - Γ_ab^c(ϕ) ∂_c V(ϕ)\n",
    "    Where Γ_ab^c(ϕ) is the standard Christoffel connection defined as:\n",
    "      Γ_ab^c = 1/2 g^cd (∂_a g_bd + ∂_b g_ad - ∂_d g_ab)\n",
    "\n",
    "    ### Returns\n",
    "    `list[list[sympy.Expr]]`: nested list of components of the Hesse matrix\n",
    "    \"\"\"\n",
    "    dim = len(self.coords)\n",
    "    #The connection has indices up-down-down (opposite order that we usually use)\n",
    "    conn = ChristoffelSymbols.from_metric(self.g).tensor()\n",
    "    #output components of the Hesse matrix\n",
    "    Vab = [[0 for _ in range(dim)] for _ in range(dim)]\n",
    "    \n",
    "    for a in range(dim):\n",
    "      for b in range(dim):\n",
    "        #Calculate ∂_a ∂_b V(ϕ)\n",
    "        da_dbV = sympy.diff(self.V, self.coords[b], self.coords[a]).simplify()\n",
    "        #Calculate the contraction Γ_ab^c(ϕ) ∂_c V(ϕ)\n",
    "        gamma_ab = 0\n",
    "        for c in range(dim):\n",
    "          gamma_ab = (gamma_ab + conn[c][b][a]*sympy.diff(self.V, self.coords[c])).simplify()\n",
    "        #set the output components\n",
    "        Vab[a][b] = powdenest((da_dbV - gamma_ab).simplify(), force=True)\n",
    "    return Vab\n",
    "\n",
    "  def calc_v(self) -> list[sympy.Expr]:\n",
    "    \"\"\"calculates a normalized vector pointing in the direction of the gradient of\n",
    "    the configured scalar potential of the current instance\n",
    "    \n",
    "    ### Precise formulation of calculated quantities\n",
    "    The contravariant components of the gradient of V are given by:\n",
    "      (grad V)^a(ϕ) = g^ab(ϕ) ∂_b V(ϕ)\n",
    "\n",
    "    ### Returns\n",
    "    `list[sympy.Expr]`: contravariant components of normalized gradient vector v.\n",
    "    \"\"\"\n",
    "    dim = len(self.coords)\n",
    "    #non-normalised components of grad V\n",
    "    v = [sympy.diff(self.V, φ) for φ in self.coords]  \n",
    "    \n",
    "    #contract v with the inverse of the metric tensor\n",
    "    for a in range(dim):\n",
    "      for b in range(dim):\n",
    "        v[a] = (v[a] + self.g.inv().arr[a][b] * v[a]).simplify()\n",
    "    \n",
    "    #normalize v\n",
    "    v = self.normalize(v)\n",
    "    return [powdenest(va, force=True).simplify() for va in v]\n",
    "\n",
    "  def calc_next_w(self, current_basis: list[list[sympy.Expr]], guess: list[sympy.Expr]) -> list[sympy.Expr]:\n",
    "    \"\"\"Use the Gramm-Schmidt procedure to find a new orthogonal basis vector given\n",
    "    an incomplete set of orthogonal basis vectors and a third vector that is linearly\n",
    "    independent from the other vectors.\n",
    "\n",
    "    ### Args\n",
    "    - `current_basis` (`list[list[sympy.Expr]]`): list of current *orthogonal*\n",
    "      basisvectors. The components of the vectors should be given in\n",
    "      *contravariant* form.\n",
    "    - `guess` (`list[sympy.Expr]`): vector that is linearly independent from the\n",
    "      (incomplete) set of current basis vectors. The components of this vector\n",
    "      should be given in *contravariant* form. This vector needn't be\n",
    "      normalized nor orthogonal to the set of current basis vectors.\n",
    "    \n",
    "    ### Precise formulation of calculated quantities\n",
    "    The Gramm-Schmidt procedure starts with a(n incomplete) set of orthonormal\n",
    "    basis vectors x_i and new vector y that is linearly independent of all x_i. We\n",
    "    then simply subtract the overlap between y and each basisvector to obtain a\n",
    "    vector x_i+1 that is orthogonal to all x_i:\n",
    "      x_i+1 = y - Σ_a g_ij x^i_a y^j\n",
    "    The final step is to normalise x_i+1\n",
    "\n",
    "    ### Returns\n",
    "    `list[sympy.Expr]`: list of the contravariant components of an additional\n",
    "      basis vector orthogonal to the supplied set of basis vectors, with respect\n",
    "      to the supplied metric.\n",
    "    \"\"\"\n",
    "    dim = len(current_basis[0])\n",
    "    #make sure the supplied basis is not already complete\n",
    "    assert(len(current_basis) < dim)\n",
    "    \n",
    "    #start with vector y\n",
    "    y = guess\n",
    "    #subtract the overlap of each current basis vector from y\n",
    "    for x in current_basis:\n",
    "      #first assert that vec is actually normalised\n",
    "      #assert(sympy.Eq(inner_prod(x, x, g), 1))\n",
    "      xy = self.inner_prod(x, guess) #we have to use guess here, not y!\n",
    "      for a in range(dim):\n",
    "        y[a] = (y[a] - xy*x[a]).simplify()    \n",
    "    #normalize y\n",
    "    y = self.normalize(y)\n",
    "    return [powdenest(ya, force=True).simplify() for ya in y]\n",
    "\n",
    "  def project_hesse(self, hesse_matrix: list[list[sympy.Expr]], vec1: list[sympy.Expr], vec2: list[sympy.Expr]) -> sympy.Expr:\n",
    "    \"\"\"_summary_\n",
    "\n",
    "    ### Args\n",
    "    - `hesse_matrix` (`list[list[sympy.Expr]]`): twice-covariant components of\n",
    "      the Hesse matrix\n",
    "    - `vec1` (`list[sympy.Expr]`): first vector along which to project the Hesse\n",
    "      matrix\n",
    "    - `vec2` (`list[sympy.Expr]`): second vector along which to project the Hesse\n",
    "      matrix\n",
    "\n",
    "    ### Returns\n",
    "    `sympy.Expr`: _description_\n",
    "    \"\"\"\n",
    "    dim = len(vec1)\n",
    "    assert(len(vec1) == len(vec2))\n",
    "    V_proj = 0\n",
    "    for a in range(dim):\n",
    "      for b in range(dim):\n",
    "        V_proj = V_proj + hesse_matrix[a][b]*vec1[a]*vec2[b]\n",
    "    return powdenest(V_proj.simplify(), force=True)\n",
    "\n",
    "class Compiler():\n",
    "  \n",
    "  @classmethod\n",
    "  def set_compiler(cls, compiler_path: str|None = None, linker_path: str|None = None):\n",
    "    \"\"\"Configures the compiler to be the default compiler for the current platform,\n",
    "    unless an explicit compiler and linker path have been specified.\n",
    "\n",
    "    ### Args\n",
    "      compiler_path (str, optional): path to the compiler executable. Defaults to None.\n",
    "      linker_path (str, optional): path to the linker executable. Defaults to None.\n",
    "    \"\"\"\n",
    "    default_compiler = ccomp.new_compiler()\n",
    "    if compiler_path is not None:\n",
    "      default_compiler.set_executables(compiler=compiler_path)\n",
    "    if linker_path is not None:\n",
    "      default_compiler.set_executables(linker_exe=linker_path)\n",
    "    cls.compiler = default_compiler\n",
    "    \n",
    "  compiler = None\n",
    "\n",
    "  def set_preamble(self, model_name: str):\n",
    "    self.c_code_preamble = f\"\"\"//This source file was automatically generated by Inflatox v0.1\n",
    "// Model: {model_name}, timestamp: {datetime.now().strftime(\"%Y-%m-%d, %H:%M:%S\")}\n",
    "// Inflatox version: v0.1\n",
    "// System info: {sys_version}\n",
    "\n",
    "#include<math.h>\n",
    "\"\"\"\n",
    "\n",
    "  def set_output_file(self, output_path: str):\n",
    "    self.output_file = open(output_path, 'x')\n",
    "  \n",
    "  def __init__(self, hesse_matrix: HesseMatrix, precision: Literal['single', 'double', 'quad'] = 'double'):\n",
    "    self.output_file = tempfile.NamedTemporaryFile(\n",
    "      mode='wt',\n",
    "      delete=False,\n",
    "      suffix='.c',\n",
    "      prefix='inflx_autoc_'\n",
    "      )\n",
    "    self.hesse = hesse_matrix\n",
    "    self.precision = precision\n",
    "    self.set_compiler()\n",
    "    self.set_preamble(hesse_matrix.model_name)\n",
    "    \n",
    "  def generate_c_file(self):\n",
    "    with self.output_file as out:\n",
    "      out.write(self.c_code_preamble)\n",
    "      ty = 'double'\n",
    "      if self.precision == 'single':\n",
    "        ty = 'float'\n",
    "      elif self.precision == 'quad':\n",
    "        ty = 'long double'\n",
    "        \n",
    "      for a in range(self.hesse.dim):\n",
    "        for b in range(self.hesse.dim):\n",
    "          function_body = ccode(self.hesse.cmp[a][b])\n",
    "          out.write(f\"\"\"\n",
    "{ty} v{a}{b}(const {ty} x[], const {ty} args[]) {{\n",
    "  return {function_body};\n",
    "}}\n",
    "\"\"\"\n",
    "          )"
   ]
  },
  {
   "cell_type": "code",
   "execution_count": 15,
   "metadata": {},
   "outputs": [
    {
     "data": {
      "text/latex": [
       "$\\displaystyle \\left[\\begin{matrix}1 & 0\\\\0 & φ^{2}\\end{matrix}\\right]$"
      ],
      "text/plain": [
       "⎡1  0 ⎤\n",
       "⎢     ⎥\n",
       "⎢    2⎥\n",
       "⎣0  φ ⎦"
      ]
     },
     "metadata": {},
     "output_type": "display_data"
    },
    {
     "data": {
      "image/png": "[encoded data removed]",
      "text/latex": [
       "$\\displaystyle V_{0} + \\frac{m^{2} \\left(φ - φ_{0}\\right)^{2}}{2} - \\sqrt{ψ ψ_{0}}$"
      ],
      "text/plain": [
       "      2         2           \n",
       "     m ⋅(φ - φ₀)      ______\n",
       "V₀ + ──────────── - ╲╱ ψ⋅ψ₀ \n",
       "          2                 "
      ]
     },
     "metadata": {},
     "output_type": "display_data"
    }
   ],
   "source": [
    "sympy.init_printing()\n",
    "φ, ψ = sympy.symbols(\"φ ψ\")\n",
    "V0, φ0, ψ0, m = sympy.symbols(\"V0 φ0 ψ0 m\")\n",
    "coords = [φ, ψ]\n",
    "d = len(coords)\n",
    "\n",
    "metric = [[0 for i in range(2)] for i in range(2)]\n",
    "metric[0][0] = 1\n",
    "metric[1][1] = φ**2\n",
    "metric = MetricTensor(metric, (φ, ψ))\n",
    "V = (V0 - sympy.sqrt(ψ0*ψ) + 1/2*(m**2)*((φ-φ0)**2)).nsimplify()\n",
    "display(metric.tensor())\n",
    "display(V)"
   ]
  },
  {
   "cell_type": "code",
   "execution_count": 22,
   "metadata": {},
   "outputs": [
    {
     "name": "stdout",
     "output_type": "stream",
     "text": [
      "Calculating orthonormal basis...\n"
     ]
    },
    {
     "data": {
      "text/latex": [
       "$\\displaystyle v_0=\\left[ \\frac{4 m^{2} φ \\sqrt{ψ} \\left(φ - φ_{0}\\right)}{\\sqrt{16 m^{4} φ^{2} ψ \\left(φ - φ_{0}\\right)^{2} + ψ_{0} \\left(φ^{2} + 1\\right)^{2}}}, \\  \\frac{\\sqrt{ψ_{0}} \\left(- φ^{2} - 1\\right)}{φ \\sqrt{16 m^{4} φ^{2} ψ \\left(φ - φ_{0}\\right)^{2} + ψ_{0} \\left(φ^{2} + 1\\right)^{2}}}\\right]$"
      ],
      "text/plain": [
       "<IPython.core.display.Math object>"
      ]
     },
     "metadata": {},
     "output_type": "display_data"
    },
    {
     "data": {
      "text/latex": [
       "$\\displaystyle v_1=\\left[ \\frac{4 m^{2} φ \\sqrt{ψ} \\left(φ - φ_{0}\\right)}{\\sqrt{16 m^{4} φ^{2} ψ \\left(φ - φ_{0}\\right)^{2} + ψ_{0} \\left(φ^{2} + 1\\right)^{2}}}, \\  \\frac{\\sqrt{ψ_{0}} \\left(- φ^{2} - 1\\right)}{φ \\sqrt{16 m^{4} φ^{2} ψ \\left(φ - φ_{0}\\right)^{2} + ψ_{0} \\left(φ^{2} + 1\\right)^{2}}}\\right]$"
      ],
      "text/plain": [
       "<IPython.core.display.Math object>"
      ]
     },
     "metadata": {},
     "output_type": "display_data"
    },
    {
     "name": "stdout",
     "output_type": "stream",
     "text": [
      "Calculating covariant Hesse matrix...\n"
     ]
    },
    {
     "data": {
      "text/latex": [
       "$\\displaystyle H=\\left[\\begin{matrix}m^{2} & \\frac{\\sqrt{ψ_{0}}}{2 φ \\sqrt{ψ}}\\\\\\frac{\\sqrt{ψ_{0}}}{2 φ \\sqrt{ψ}} & \\frac{m^{2} φ ψ^{2} \\left(φ - φ_{0}\\right) + \\frac{\\sqrt{ψ} \\sqrt{ψ_{0}}}{4}}{ψ^{2}}\\end{matrix}\\right]$"
      ],
      "text/plain": [
       "<IPython.core.display.Math object>"
      ]
     },
     "metadata": {},
     "output_type": "display_data"
    },
    {
     "name": "stdout",
     "output_type": "stream",
     "text": [
      "Projecting the Hesse matrix on the vielbein basis...\n"
     ]
    },
    {
     "data": {
      "text/latex": [
       "$\\displaystyle H_{00}=\\frac{16 m^{6} φ^{4} ψ^{3} \\left(φ - φ_{0}\\right)^{2} - 4 m^{2} φ ψ^{2} ψ_{0} \\left(φ - φ_{0}\\right) \\left(φ^{2} + 1\\right) + \\frac{ψ_{0} \\left(φ^{2} + 1\\right)^{2} \\cdot \\left(4 m^{2} φ ψ^{2} \\left(φ - φ_{0}\\right) + \\sqrt{ψ} \\sqrt{ψ_{0}}\\right)}{4}}{φ^{2} ψ^{2} \\cdot \\left(16 m^{4} φ^{2} ψ \\left(φ - φ_{0}\\right)^{2} + ψ_{0} \\left(φ^{2} + 1\\right)^{2}\\right)}$"
      ],
      "text/plain": [
       "<IPython.core.display.Math object>"
      ]
     },
     "metadata": {},
     "output_type": "display_data"
    },
    {
     "data": {
      "text/latex": [
       "$\\displaystyle H_{01}=\\frac{\\sqrt{ψ_{0}} \\left(φ - φ_{0}\\right) \\left(8 m^{4} φ^{2} ψ^{2} \\left(φ - φ_{0}\\right) \\left(φ \\left(φ^{2} + 1\\right) + 2 φ - 2 φ_{0}\\right) - 2 m^{2} φ \\left(φ - φ_{0}\\right) \\left(φ^{2} + 1\\right) \\left(4 m^{2} φ ψ^{2} \\left(φ - φ_{0}\\right) + \\sqrt{ψ} \\sqrt{ψ_{0}}\\right) - ψ ψ_{0} \\left(φ^{2} + 1\\right)^{2}\\right)}{2 φ^{2} ψ^{\\frac{3}{2}} \\cdot \\left(16 m^{4} φ^{2} ψ \\left(φ - φ_{0}\\right)^{2} + ψ_{0} \\left(φ^{2} + 1\\right)^{2}\\right) \\left|{φ - φ_{0}}\\right|}$"
      ],
      "text/plain": [
       "<IPython.core.display.Math object>"
      ]
     },
     "metadata": {},
     "output_type": "display_data"
    },
    {
     "data": {
      "text/latex": [
       "$\\displaystyle H_{10}=\\frac{\\sqrt{ψ_{0}} \\left(φ - φ_{0}\\right) \\left(8 m^{4} φ^{2} ψ^{2} \\left(φ - φ_{0}\\right) \\left(φ \\left(φ^{2} + 1\\right) + 2 φ - 2 φ_{0}\\right) - 2 m^{2} φ \\left(φ - φ_{0}\\right) \\left(φ^{2} + 1\\right) \\left(4 m^{2} φ ψ^{2} \\left(φ - φ_{0}\\right) + \\sqrt{ψ} \\sqrt{ψ_{0}}\\right) - ψ ψ_{0} \\left(φ^{2} + 1\\right)^{2}\\right)}{2 φ^{2} ψ^{\\frac{3}{2}} \\cdot \\left(16 m^{4} φ^{2} ψ \\left(φ - φ_{0}\\right)^{2} + ψ_{0} \\left(φ^{2} + 1\\right)^{2}\\right) \\left|{φ - φ_{0}}\\right|}$"
      ],
      "text/plain": [
       "<IPython.core.display.Math object>"
      ]
     },
     "metadata": {},
     "output_type": "display_data"
    },
    {
     "data": {
      "text/latex": [
       "$\\displaystyle H_{11}=\\frac{m^{2} \\cdot \\left(4 m^{2} φ \\left(φ - φ_{0}\\right)^{2} \\cdot \\left(4 m^{2} φ ψ^{2} \\left(φ - φ_{0}\\right) + \\sqrt{ψ} \\sqrt{ψ_{0}}\\right) + φ ψ ψ_{0} \\left(φ^{2} + 1\\right)^{2} + 4 ψ ψ_{0} \\left(φ - φ_{0}\\right) \\left(φ^{2} + 1\\right)\\right)}{φ ψ \\left(16 m^{4} φ^{2} ψ \\left(φ - φ_{0}\\right)^{2} + ψ_{0} \\left(φ^{2} + 1\\right)^{2}\\right)}$"
      ],
      "text/plain": [
       "<IPython.core.display.Math object>"
      ]
     },
     "metadata": {},
     "output_type": "display_data"
    }
   ],
   "source": [
    "hesse = SymbolicCalculation.new(coords, metric, V).execute([[0,1]])"
   ]
  },
  {
   "cell_type": "code",
   "execution_count": 35,
   "metadata": {},
   "outputs": [],
   "source": [
    "Compiler(hesse).generate_c_file()"
   ]
  },
  {
   "cell_type": "code",
   "execution_count": null,
   "metadata": {},
   "outputs": [],
   "source": []
  }
 ],
 "metadata": {
  "kernelspec": {
   "display_name": "Python 3",
   "language": "python",
   "name": "python3"
  },
  "language_info": {
   "codemirror_mode": {
    "name": "ipython",
    "version": 3
   },
   "file_extension": ".py",
   "mimetype": "text/x-python",
   "name": "python",
   "nbconvert_exporter": "python",
   "pygments_lexer": "ipython3",
   "version": "3.10.11"
  },
  "orig_nbformat": 4
 },
 "nbformat": 4,
 "nbformat_minor": 2
}
